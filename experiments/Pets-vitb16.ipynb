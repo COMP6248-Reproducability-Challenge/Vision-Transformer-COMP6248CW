{
 "cells": [
  {
   "cell_type": "code",
   "execution_count": 1,
   "id": "60d6f28b",
   "metadata": {
    "ExecuteTime": {
     "end_time": "2022-04-26T23:27:37.656668Z",
     "start_time": "2022-04-26T23:27:30.441082Z"
    }
   },
   "outputs": [],
   "source": [
    "import torch\n",
    "from torch import nn\n",
    "from torch import optim\n",
    "from torch.utils.data import DataLoader\n",
    "import torch.nn.functional as F\n",
    "\n",
    "# import torchbearer\n",
    "# from torchbearer import Trial\n",
    "# from torchbearer.callbacks import CosineAnnealingLR\n",
    "\n",
    "import matplotlib\n",
    "import matplotlib.pyplot as plt\n",
    "\n",
    "import torchvision\n",
    "from torchvision.datasets import ImageFolder\n",
    "from torchvision import transforms\n",
    "\n",
    "import numpy\n",
    "\n",
    "from IPython.display import Image\n",
    "from tqdm.notebook import tqdm\n",
    "from math import *"
   ]
  },
  {
   "cell_type": "code",
   "execution_count": 2,
   "id": "a2f54a27",
   "metadata": {
    "ExecuteTime": {
     "end_time": "2022-04-26T23:27:40.362556Z",
     "start_time": "2022-04-26T23:27:37.661495Z"
    }
   },
   "outputs": [],
   "source": [
    "# Set dataset and model\n",
    "\n",
    "# Dataset\n",
    "dataset = torchvision.datasets.oxford_iiit_pet\n",
    "\n",
    "# Pre-trained models of ViT: \n",
    "# torchvision.models.vit_b_16/vit_b_32/vit_l_16/vit_l_32\n",
    "from torchvision.models import vit_b_16\n",
    "model = vit_b_16(pretrained=True)\n",
    "\n",
    "model_filename = \"pets-vitb16\"\n",
    "\n",
    "warmup_epoch = 5\n",
    "num_epoch = 7\n",
    "\n",
    "lr_warmup = 1e-3\n",
    "lr_base = 1e-2\n",
    "lr_min = 1e-3\n",
    "\n",
    "device = \"cuda:3\" if torch.cuda.is_available() else \"cpu\""
   ]
  },
  {
   "cell_type": "code",
   "execution_count": 3,
   "id": "e2221ed9",
   "metadata": {
    "ExecuteTime": {
     "end_time": "2022-04-26T23:27:40.378550Z",
     "start_time": "2022-04-26T23:27:40.366380Z"
    }
   },
   "outputs": [
    {
     "data": {
      "text/plain": [
       "'cuda:3'"
      ]
     },
     "execution_count": 3,
     "metadata": {},
     "output_type": "execute_result"
    }
   ],
   "source": [
    "device"
   ]
  },
  {
   "cell_type": "code",
   "execution_count": 4,
   "id": "d493b358",
   "metadata": {
    "ExecuteTime": {
     "end_time": "2022-04-26T23:27:40.578169Z",
     "start_time": "2022-04-26T23:27:40.381732Z"
    }
   },
   "outputs": [],
   "source": [
    "transform = transforms.Compose([\n",
    "    transforms.ToTensor(),\n",
    "    transforms.Resize(224),\n",
    "    transforms.CenterCrop(224)\n",
    "])\n",
    "train_set = torchvision.datasets.OxfordIIITPet(\"./data\", split= \"trainval\", download = True, transform=transform)\n",
    "test_set = torchvision.datasets.OxfordIIITPet(\"./data\", split= \"test\", download = True, transform=transform)\n",
    "train_loader = DataLoader(train_set, batch_size=64, shuffle=True)\n",
    "test_loader = DataLoader(test_set, batch_size=64, shuffle=True)"
   ]
  },
  {
   "cell_type": "code",
   "execution_count": 5,
   "id": "729470f6",
   "metadata": {
    "ExecuteTime": {
     "end_time": "2022-04-26T23:27:40.586362Z",
     "start_time": "2022-04-26T23:27:40.581834Z"
    }
   },
   "outputs": [],
   "source": [
    "# # 如果Intel的Windows上matplotlib会导致内核重启就执行下这个\n",
    "# import os\n",
    "# os.environ['KMP_DUPLICATE_LIB_OK']='True'\n",
    "\n",
    "# print(train_set[0][0].shape)\n",
    "# plt.imshow(train_set[0][0].permute(1,2,0).numpy()[:,:,::])\n",
    "# plt.show()"
   ]
  },
  {
   "cell_type": "code",
   "execution_count": 6,
   "id": "035725cf",
   "metadata": {
    "ExecuteTime": {
     "end_time": "2022-04-26T23:27:40.615994Z",
     "start_time": "2022-04-26T23:27:40.590788Z"
    }
   },
   "outputs": [
    {
     "data": {
      "text/plain": [
       "768"
      ]
     },
     "execution_count": 6,
     "metadata": {},
     "output_type": "execute_result"
    }
   ],
   "source": [
    "in_features = model.heads[0].in_features\n",
    "in_features"
   ]
  },
  {
   "cell_type": "code",
   "execution_count": 7,
   "id": "502f062c",
   "metadata": {
    "ExecuteTime": {
     "end_time": "2022-04-26T23:27:40.653895Z",
     "start_time": "2022-04-26T23:27:40.620049Z"
    }
   },
   "outputs": [
    {
     "data": {
      "text/plain": [
       "VisionTransformer(\n",
       "  (conv_proj): Conv2d(3, 768, kernel_size=(16, 16), stride=(16, 16))\n",
       "  (encoder): Encoder(\n",
       "    (dropout): Dropout(p=0.0, inplace=False)\n",
       "    (layers): Sequential(\n",
       "      (encoder_layer_0): EncoderBlock(\n",
       "        (ln_1): LayerNorm((768,), eps=1e-06, elementwise_affine=True)\n",
       "        (self_attention): MultiheadAttention(\n",
       "          (out_proj): NonDynamicallyQuantizableLinear(in_features=768, out_features=768, bias=True)\n",
       "        )\n",
       "        (dropout): Dropout(p=0.0, inplace=False)\n",
       "        (ln_2): LayerNorm((768,), eps=1e-06, elementwise_affine=True)\n",
       "        (mlp): MLPBlock(\n",
       "          (linear_1): Linear(in_features=768, out_features=3072, bias=True)\n",
       "          (act): GELU()\n",
       "          (dropout_1): Dropout(p=0.0, inplace=False)\n",
       "          (linear_2): Linear(in_features=3072, out_features=768, bias=True)\n",
       "          (dropout_2): Dropout(p=0.0, inplace=False)\n",
       "        )\n",
       "      )\n",
       "      (encoder_layer_1): EncoderBlock(\n",
       "        (ln_1): LayerNorm((768,), eps=1e-06, elementwise_affine=True)\n",
       "        (self_attention): MultiheadAttention(\n",
       "          (out_proj): NonDynamicallyQuantizableLinear(in_features=768, out_features=768, bias=True)\n",
       "        )\n",
       "        (dropout): Dropout(p=0.0, inplace=False)\n",
       "        (ln_2): LayerNorm((768,), eps=1e-06, elementwise_affine=True)\n",
       "        (mlp): MLPBlock(\n",
       "          (linear_1): Linear(in_features=768, out_features=3072, bias=True)\n",
       "          (act): GELU()\n",
       "          (dropout_1): Dropout(p=0.0, inplace=False)\n",
       "          (linear_2): Linear(in_features=3072, out_features=768, bias=True)\n",
       "          (dropout_2): Dropout(p=0.0, inplace=False)\n",
       "        )\n",
       "      )\n",
       "      (encoder_layer_2): EncoderBlock(\n",
       "        (ln_1): LayerNorm((768,), eps=1e-06, elementwise_affine=True)\n",
       "        (self_attention): MultiheadAttention(\n",
       "          (out_proj): NonDynamicallyQuantizableLinear(in_features=768, out_features=768, bias=True)\n",
       "        )\n",
       "        (dropout): Dropout(p=0.0, inplace=False)\n",
       "        (ln_2): LayerNorm((768,), eps=1e-06, elementwise_affine=True)\n",
       "        (mlp): MLPBlock(\n",
       "          (linear_1): Linear(in_features=768, out_features=3072, bias=True)\n",
       "          (act): GELU()\n",
       "          (dropout_1): Dropout(p=0.0, inplace=False)\n",
       "          (linear_2): Linear(in_features=3072, out_features=768, bias=True)\n",
       "          (dropout_2): Dropout(p=0.0, inplace=False)\n",
       "        )\n",
       "      )\n",
       "      (encoder_layer_3): EncoderBlock(\n",
       "        (ln_1): LayerNorm((768,), eps=1e-06, elementwise_affine=True)\n",
       "        (self_attention): MultiheadAttention(\n",
       "          (out_proj): NonDynamicallyQuantizableLinear(in_features=768, out_features=768, bias=True)\n",
       "        )\n",
       "        (dropout): Dropout(p=0.0, inplace=False)\n",
       "        (ln_2): LayerNorm((768,), eps=1e-06, elementwise_affine=True)\n",
       "        (mlp): MLPBlock(\n",
       "          (linear_1): Linear(in_features=768, out_features=3072, bias=True)\n",
       "          (act): GELU()\n",
       "          (dropout_1): Dropout(p=0.0, inplace=False)\n",
       "          (linear_2): Linear(in_features=3072, out_features=768, bias=True)\n",
       "          (dropout_2): Dropout(p=0.0, inplace=False)\n",
       "        )\n",
       "      )\n",
       "      (encoder_layer_4): EncoderBlock(\n",
       "        (ln_1): LayerNorm((768,), eps=1e-06, elementwise_affine=True)\n",
       "        (self_attention): MultiheadAttention(\n",
       "          (out_proj): NonDynamicallyQuantizableLinear(in_features=768, out_features=768, bias=True)\n",
       "        )\n",
       "        (dropout): Dropout(p=0.0, inplace=False)\n",
       "        (ln_2): LayerNorm((768,), eps=1e-06, elementwise_affine=True)\n",
       "        (mlp): MLPBlock(\n",
       "          (linear_1): Linear(in_features=768, out_features=3072, bias=True)\n",
       "          (act): GELU()\n",
       "          (dropout_1): Dropout(p=0.0, inplace=False)\n",
       "          (linear_2): Linear(in_features=3072, out_features=768, bias=True)\n",
       "          (dropout_2): Dropout(p=0.0, inplace=False)\n",
       "        )\n",
       "      )\n",
       "      (encoder_layer_5): EncoderBlock(\n",
       "        (ln_1): LayerNorm((768,), eps=1e-06, elementwise_affine=True)\n",
       "        (self_attention): MultiheadAttention(\n",
       "          (out_proj): NonDynamicallyQuantizableLinear(in_features=768, out_features=768, bias=True)\n",
       "        )\n",
       "        (dropout): Dropout(p=0.0, inplace=False)\n",
       "        (ln_2): LayerNorm((768,), eps=1e-06, elementwise_affine=True)\n",
       "        (mlp): MLPBlock(\n",
       "          (linear_1): Linear(in_features=768, out_features=3072, bias=True)\n",
       "          (act): GELU()\n",
       "          (dropout_1): Dropout(p=0.0, inplace=False)\n",
       "          (linear_2): Linear(in_features=3072, out_features=768, bias=True)\n",
       "          (dropout_2): Dropout(p=0.0, inplace=False)\n",
       "        )\n",
       "      )\n",
       "      (encoder_layer_6): EncoderBlock(\n",
       "        (ln_1): LayerNorm((768,), eps=1e-06, elementwise_affine=True)\n",
       "        (self_attention): MultiheadAttention(\n",
       "          (out_proj): NonDynamicallyQuantizableLinear(in_features=768, out_features=768, bias=True)\n",
       "        )\n",
       "        (dropout): Dropout(p=0.0, inplace=False)\n",
       "        (ln_2): LayerNorm((768,), eps=1e-06, elementwise_affine=True)\n",
       "        (mlp): MLPBlock(\n",
       "          (linear_1): Linear(in_features=768, out_features=3072, bias=True)\n",
       "          (act): GELU()\n",
       "          (dropout_1): Dropout(p=0.0, inplace=False)\n",
       "          (linear_2): Linear(in_features=3072, out_features=768, bias=True)\n",
       "          (dropout_2): Dropout(p=0.0, inplace=False)\n",
       "        )\n",
       "      )\n",
       "      (encoder_layer_7): EncoderBlock(\n",
       "        (ln_1): LayerNorm((768,), eps=1e-06, elementwise_affine=True)\n",
       "        (self_attention): MultiheadAttention(\n",
       "          (out_proj): NonDynamicallyQuantizableLinear(in_features=768, out_features=768, bias=True)\n",
       "        )\n",
       "        (dropout): Dropout(p=0.0, inplace=False)\n",
       "        (ln_2): LayerNorm((768,), eps=1e-06, elementwise_affine=True)\n",
       "        (mlp): MLPBlock(\n",
       "          (linear_1): Linear(in_features=768, out_features=3072, bias=True)\n",
       "          (act): GELU()\n",
       "          (dropout_1): Dropout(p=0.0, inplace=False)\n",
       "          (linear_2): Linear(in_features=3072, out_features=768, bias=True)\n",
       "          (dropout_2): Dropout(p=0.0, inplace=False)\n",
       "        )\n",
       "      )\n",
       "      (encoder_layer_8): EncoderBlock(\n",
       "        (ln_1): LayerNorm((768,), eps=1e-06, elementwise_affine=True)\n",
       "        (self_attention): MultiheadAttention(\n",
       "          (out_proj): NonDynamicallyQuantizableLinear(in_features=768, out_features=768, bias=True)\n",
       "        )\n",
       "        (dropout): Dropout(p=0.0, inplace=False)\n",
       "        (ln_2): LayerNorm((768,), eps=1e-06, elementwise_affine=True)\n",
       "        (mlp): MLPBlock(\n",
       "          (linear_1): Linear(in_features=768, out_features=3072, bias=True)\n",
       "          (act): GELU()\n",
       "          (dropout_1): Dropout(p=0.0, inplace=False)\n",
       "          (linear_2): Linear(in_features=3072, out_features=768, bias=True)\n",
       "          (dropout_2): Dropout(p=0.0, inplace=False)\n",
       "        )\n",
       "      )\n",
       "      (encoder_layer_9): EncoderBlock(\n",
       "        (ln_1): LayerNorm((768,), eps=1e-06, elementwise_affine=True)\n",
       "        (self_attention): MultiheadAttention(\n",
       "          (out_proj): NonDynamicallyQuantizableLinear(in_features=768, out_features=768, bias=True)\n",
       "        )\n",
       "        (dropout): Dropout(p=0.0, inplace=False)\n",
       "        (ln_2): LayerNorm((768,), eps=1e-06, elementwise_affine=True)\n",
       "        (mlp): MLPBlock(\n",
       "          (linear_1): Linear(in_features=768, out_features=3072, bias=True)\n",
       "          (act): GELU()\n",
       "          (dropout_1): Dropout(p=0.0, inplace=False)\n",
       "          (linear_2): Linear(in_features=3072, out_features=768, bias=True)\n",
       "          (dropout_2): Dropout(p=0.0, inplace=False)\n",
       "        )\n",
       "      )\n",
       "      (encoder_layer_10): EncoderBlock(\n",
       "        (ln_1): LayerNorm((768,), eps=1e-06, elementwise_affine=True)\n",
       "        (self_attention): MultiheadAttention(\n",
       "          (out_proj): NonDynamicallyQuantizableLinear(in_features=768, out_features=768, bias=True)\n",
       "        )\n",
       "        (dropout): Dropout(p=0.0, inplace=False)\n",
       "        (ln_2): LayerNorm((768,), eps=1e-06, elementwise_affine=True)\n",
       "        (mlp): MLPBlock(\n",
       "          (linear_1): Linear(in_features=768, out_features=3072, bias=True)\n",
       "          (act): GELU()\n",
       "          (dropout_1): Dropout(p=0.0, inplace=False)\n",
       "          (linear_2): Linear(in_features=3072, out_features=768, bias=True)\n",
       "          (dropout_2): Dropout(p=0.0, inplace=False)\n",
       "        )\n",
       "      )\n",
       "      (encoder_layer_11): EncoderBlock(\n",
       "        (ln_1): LayerNorm((768,), eps=1e-06, elementwise_affine=True)\n",
       "        (self_attention): MultiheadAttention(\n",
       "          (out_proj): NonDynamicallyQuantizableLinear(in_features=768, out_features=768, bias=True)\n",
       "        )\n",
       "        (dropout): Dropout(p=0.0, inplace=False)\n",
       "        (ln_2): LayerNorm((768,), eps=1e-06, elementwise_affine=True)\n",
       "        (mlp): MLPBlock(\n",
       "          (linear_1): Linear(in_features=768, out_features=3072, bias=True)\n",
       "          (act): GELU()\n",
       "          (dropout_1): Dropout(p=0.0, inplace=False)\n",
       "          (linear_2): Linear(in_features=3072, out_features=768, bias=True)\n",
       "          (dropout_2): Dropout(p=0.0, inplace=False)\n",
       "        )\n",
       "      )\n",
       "    )\n",
       "    (ln): LayerNorm((768,), eps=1e-06, elementwise_affine=True)\n",
       "  )\n",
       "  (heads): Linear(in_features=768, out_features=37, bias=True)\n",
       ")"
      ]
     },
     "execution_count": 7,
     "metadata": {},
     "output_type": "execute_result"
    }
   ],
   "source": [
    "model.heads = nn.Linear(in_features, 37) # set in_features and out_features\n",
    "model.train()"
   ]
  },
  {
   "cell_type": "code",
   "execution_count": 8,
   "id": "d923adb4",
   "metadata": {
    "ExecuteTime": {
     "end_time": "2022-04-26T23:27:40.678382Z",
     "start_time": "2022-04-26T23:27:40.658325Z"
    }
   },
   "outputs": [
    {
     "name": "stdout",
     "output_type": "stream",
     "text": [
      "Freeze class_token\n",
      "Freeze conv_proj.weight\n",
      "Freeze conv_proj.bias\n",
      "Freeze encoder.pos_embedding\n",
      "Freeze encoder.layers.encoder_layer_0.ln_1.weight\n",
      "Freeze encoder.layers.encoder_layer_0.ln_1.bias\n",
      "Unfreeze encoder.layers.encoder_layer_0.self_attention.in_proj_weight\n",
      "Unfreeze encoder.layers.encoder_layer_0.self_attention.in_proj_bias\n",
      "Unfreeze encoder.layers.encoder_layer_0.self_attention.out_proj.weight\n",
      "Unfreeze encoder.layers.encoder_layer_0.self_attention.out_proj.bias\n",
      "Freeze encoder.layers.encoder_layer_0.ln_2.weight\n",
      "Freeze encoder.layers.encoder_layer_0.ln_2.bias\n",
      "Freeze encoder.layers.encoder_layer_0.mlp.linear_1.weight\n",
      "Freeze encoder.layers.encoder_layer_0.mlp.linear_1.bias\n",
      "Freeze encoder.layers.encoder_layer_0.mlp.linear_2.weight\n",
      "Freeze encoder.layers.encoder_layer_0.mlp.linear_2.bias\n",
      "Freeze encoder.layers.encoder_layer_1.ln_1.weight\n",
      "Freeze encoder.layers.encoder_layer_1.ln_1.bias\n",
      "Unfreeze encoder.layers.encoder_layer_1.self_attention.in_proj_weight\n",
      "Unfreeze encoder.layers.encoder_layer_1.self_attention.in_proj_bias\n",
      "Unfreeze encoder.layers.encoder_layer_1.self_attention.out_proj.weight\n",
      "Unfreeze encoder.layers.encoder_layer_1.self_attention.out_proj.bias\n",
      "Freeze encoder.layers.encoder_layer_1.ln_2.weight\n",
      "Freeze encoder.layers.encoder_layer_1.ln_2.bias\n",
      "Freeze encoder.layers.encoder_layer_1.mlp.linear_1.weight\n",
      "Freeze encoder.layers.encoder_layer_1.mlp.linear_1.bias\n",
      "Freeze encoder.layers.encoder_layer_1.mlp.linear_2.weight\n",
      "Freeze encoder.layers.encoder_layer_1.mlp.linear_2.bias\n",
      "Freeze encoder.layers.encoder_layer_2.ln_1.weight\n",
      "Freeze encoder.layers.encoder_layer_2.ln_1.bias\n",
      "Unfreeze encoder.layers.encoder_layer_2.self_attention.in_proj_weight\n",
      "Unfreeze encoder.layers.encoder_layer_2.self_attention.in_proj_bias\n",
      "Unfreeze encoder.layers.encoder_layer_2.self_attention.out_proj.weight\n",
      "Unfreeze encoder.layers.encoder_layer_2.self_attention.out_proj.bias\n",
      "Freeze encoder.layers.encoder_layer_2.ln_2.weight\n",
      "Freeze encoder.layers.encoder_layer_2.ln_2.bias\n",
      "Freeze encoder.layers.encoder_layer_2.mlp.linear_1.weight\n",
      "Freeze encoder.layers.encoder_layer_2.mlp.linear_1.bias\n",
      "Freeze encoder.layers.encoder_layer_2.mlp.linear_2.weight\n",
      "Freeze encoder.layers.encoder_layer_2.mlp.linear_2.bias\n",
      "Freeze encoder.layers.encoder_layer_3.ln_1.weight\n",
      "Freeze encoder.layers.encoder_layer_3.ln_1.bias\n",
      "Unfreeze encoder.layers.encoder_layer_3.self_attention.in_proj_weight\n",
      "Unfreeze encoder.layers.encoder_layer_3.self_attention.in_proj_bias\n",
      "Unfreeze encoder.layers.encoder_layer_3.self_attention.out_proj.weight\n",
      "Unfreeze encoder.layers.encoder_layer_3.self_attention.out_proj.bias\n",
      "Freeze encoder.layers.encoder_layer_3.ln_2.weight\n",
      "Freeze encoder.layers.encoder_layer_3.ln_2.bias\n",
      "Freeze encoder.layers.encoder_layer_3.mlp.linear_1.weight\n",
      "Freeze encoder.layers.encoder_layer_3.mlp.linear_1.bias\n",
      "Freeze encoder.layers.encoder_layer_3.mlp.linear_2.weight\n",
      "Freeze encoder.layers.encoder_layer_3.mlp.linear_2.bias\n",
      "Freeze encoder.layers.encoder_layer_4.ln_1.weight\n",
      "Freeze encoder.layers.encoder_layer_4.ln_1.bias\n",
      "Unfreeze encoder.layers.encoder_layer_4.self_attention.in_proj_weight\n",
      "Unfreeze encoder.layers.encoder_layer_4.self_attention.in_proj_bias\n",
      "Unfreeze encoder.layers.encoder_layer_4.self_attention.out_proj.weight\n",
      "Unfreeze encoder.layers.encoder_layer_4.self_attention.out_proj.bias\n",
      "Freeze encoder.layers.encoder_layer_4.ln_2.weight\n",
      "Freeze encoder.layers.encoder_layer_4.ln_2.bias\n",
      "Freeze encoder.layers.encoder_layer_4.mlp.linear_1.weight\n",
      "Freeze encoder.layers.encoder_layer_4.mlp.linear_1.bias\n",
      "Freeze encoder.layers.encoder_layer_4.mlp.linear_2.weight\n",
      "Freeze encoder.layers.encoder_layer_4.mlp.linear_2.bias\n",
      "Freeze encoder.layers.encoder_layer_5.ln_1.weight\n",
      "Freeze encoder.layers.encoder_layer_5.ln_1.bias\n",
      "Unfreeze encoder.layers.encoder_layer_5.self_attention.in_proj_weight\n",
      "Unfreeze encoder.layers.encoder_layer_5.self_attention.in_proj_bias\n",
      "Unfreeze encoder.layers.encoder_layer_5.self_attention.out_proj.weight\n",
      "Unfreeze encoder.layers.encoder_layer_5.self_attention.out_proj.bias\n",
      "Freeze encoder.layers.encoder_layer_5.ln_2.weight\n",
      "Freeze encoder.layers.encoder_layer_5.ln_2.bias\n",
      "Freeze encoder.layers.encoder_layer_5.mlp.linear_1.weight\n",
      "Freeze encoder.layers.encoder_layer_5.mlp.linear_1.bias\n",
      "Freeze encoder.layers.encoder_layer_5.mlp.linear_2.weight\n",
      "Freeze encoder.layers.encoder_layer_5.mlp.linear_2.bias\n",
      "Freeze encoder.layers.encoder_layer_6.ln_1.weight\n",
      "Freeze encoder.layers.encoder_layer_6.ln_1.bias\n",
      "Unfreeze encoder.layers.encoder_layer_6.self_attention.in_proj_weight\n",
      "Unfreeze encoder.layers.encoder_layer_6.self_attention.in_proj_bias\n",
      "Unfreeze encoder.layers.encoder_layer_6.self_attention.out_proj.weight\n",
      "Unfreeze encoder.layers.encoder_layer_6.self_attention.out_proj.bias\n",
      "Freeze encoder.layers.encoder_layer_6.ln_2.weight\n",
      "Freeze encoder.layers.encoder_layer_6.ln_2.bias\n",
      "Freeze encoder.layers.encoder_layer_6.mlp.linear_1.weight\n",
      "Freeze encoder.layers.encoder_layer_6.mlp.linear_1.bias\n",
      "Freeze encoder.layers.encoder_layer_6.mlp.linear_2.weight\n",
      "Freeze encoder.layers.encoder_layer_6.mlp.linear_2.bias\n",
      "Freeze encoder.layers.encoder_layer_7.ln_1.weight\n",
      "Freeze encoder.layers.encoder_layer_7.ln_1.bias\n",
      "Unfreeze encoder.layers.encoder_layer_7.self_attention.in_proj_weight\n",
      "Unfreeze encoder.layers.encoder_layer_7.self_attention.in_proj_bias\n",
      "Unfreeze encoder.layers.encoder_layer_7.self_attention.out_proj.weight\n",
      "Unfreeze encoder.layers.encoder_layer_7.self_attention.out_proj.bias\n",
      "Freeze encoder.layers.encoder_layer_7.ln_2.weight\n",
      "Freeze encoder.layers.encoder_layer_7.ln_2.bias\n",
      "Freeze encoder.layers.encoder_layer_7.mlp.linear_1.weight\n",
      "Freeze encoder.layers.encoder_layer_7.mlp.linear_1.bias\n",
      "Freeze encoder.layers.encoder_layer_7.mlp.linear_2.weight\n",
      "Freeze encoder.layers.encoder_layer_7.mlp.linear_2.bias\n",
      "Freeze encoder.layers.encoder_layer_8.ln_1.weight\n",
      "Freeze encoder.layers.encoder_layer_8.ln_1.bias\n",
      "Unfreeze encoder.layers.encoder_layer_8.self_attention.in_proj_weight\n",
      "Unfreeze encoder.layers.encoder_layer_8.self_attention.in_proj_bias\n",
      "Unfreeze encoder.layers.encoder_layer_8.self_attention.out_proj.weight\n",
      "Unfreeze encoder.layers.encoder_layer_8.self_attention.out_proj.bias\n",
      "Freeze encoder.layers.encoder_layer_8.ln_2.weight\n",
      "Freeze encoder.layers.encoder_layer_8.ln_2.bias\n",
      "Freeze encoder.layers.encoder_layer_8.mlp.linear_1.weight\n",
      "Freeze encoder.layers.encoder_layer_8.mlp.linear_1.bias\n",
      "Freeze encoder.layers.encoder_layer_8.mlp.linear_2.weight\n",
      "Freeze encoder.layers.encoder_layer_8.mlp.linear_2.bias\n",
      "Freeze encoder.layers.encoder_layer_9.ln_1.weight\n",
      "Freeze encoder.layers.encoder_layer_9.ln_1.bias\n",
      "Unfreeze encoder.layers.encoder_layer_9.self_attention.in_proj_weight\n",
      "Unfreeze encoder.layers.encoder_layer_9.self_attention.in_proj_bias\n",
      "Unfreeze encoder.layers.encoder_layer_9.self_attention.out_proj.weight\n",
      "Unfreeze encoder.layers.encoder_layer_9.self_attention.out_proj.bias\n",
      "Freeze encoder.layers.encoder_layer_9.ln_2.weight\n",
      "Freeze encoder.layers.encoder_layer_9.ln_2.bias\n",
      "Freeze encoder.layers.encoder_layer_9.mlp.linear_1.weight\n",
      "Freeze encoder.layers.encoder_layer_9.mlp.linear_1.bias\n",
      "Freeze encoder.layers.encoder_layer_9.mlp.linear_2.weight\n",
      "Freeze encoder.layers.encoder_layer_9.mlp.linear_2.bias\n",
      "Freeze encoder.layers.encoder_layer_10.ln_1.weight\n",
      "Freeze encoder.layers.encoder_layer_10.ln_1.bias\n",
      "Unfreeze encoder.layers.encoder_layer_10.self_attention.in_proj_weight\n",
      "Unfreeze encoder.layers.encoder_layer_10.self_attention.in_proj_bias\n",
      "Unfreeze encoder.layers.encoder_layer_10.self_attention.out_proj.weight\n",
      "Unfreeze encoder.layers.encoder_layer_10.self_attention.out_proj.bias\n",
      "Freeze encoder.layers.encoder_layer_10.ln_2.weight\n",
      "Freeze encoder.layers.encoder_layer_10.ln_2.bias\n",
      "Freeze encoder.layers.encoder_layer_10.mlp.linear_1.weight\n",
      "Freeze encoder.layers.encoder_layer_10.mlp.linear_1.bias\n",
      "Freeze encoder.layers.encoder_layer_10.mlp.linear_2.weight\n",
      "Freeze encoder.layers.encoder_layer_10.mlp.linear_2.bias\n",
      "Freeze encoder.layers.encoder_layer_11.ln_1.weight\n",
      "Freeze encoder.layers.encoder_layer_11.ln_1.bias\n",
      "Unfreeze encoder.layers.encoder_layer_11.self_attention.in_proj_weight\n",
      "Unfreeze encoder.layers.encoder_layer_11.self_attention.in_proj_bias\n",
      "Unfreeze encoder.layers.encoder_layer_11.self_attention.out_proj.weight\n",
      "Unfreeze encoder.layers.encoder_layer_11.self_attention.out_proj.bias\n",
      "Freeze encoder.layers.encoder_layer_11.ln_2.weight\n",
      "Freeze encoder.layers.encoder_layer_11.ln_2.bias\n",
      "Freeze encoder.layers.encoder_layer_11.mlp.linear_1.weight\n",
      "Freeze encoder.layers.encoder_layer_11.mlp.linear_1.bias\n",
      "Freeze encoder.layers.encoder_layer_11.mlp.linear_2.weight\n",
      "Freeze encoder.layers.encoder_layer_11.mlp.linear_2.bias\n",
      "Freeze encoder.ln.weight\n",
      "Freeze encoder.ln.bias\n",
      "Unfreeze heads.weight\n",
      "Unfreeze heads.bias\n"
     ]
    }
   ],
   "source": [
    "# Freeze other layers unless it is self_attention or mlp_head\n",
    "for name, param in model.named_parameters():\n",
    "    if ('self_attention' in name) or ('head' in name):\n",
    "        print(\"Unfreeze \" + name)\n",
    "        param.requires_grad = True\n",
    "    else:\n",
    "        print(\"Freeze \" + name)\n",
    "        param.requires_grad = False\n",
    "\n",
    "# optimiser1 = optim.SGD(filter(lambda p: p.requires_grad, model.parameters()), \n",
    "#                       lr=lr_warmup,\n",
    "#                       momentum=0.9) #only optimse non-frozen layers\n",
    "# optimiser2 = optim.SGD(filter(lambda p: p.requires_grad, model.parameters()), \n",
    "#                       lr=lr_base,\n",
    "#                       momentum=0.9) #only optimse non-frozen layers\n"
   ]
  },
  {
   "cell_type": "code",
   "execution_count": 9,
   "id": "3696240a",
   "metadata": {
    "ExecuteTime": {
     "end_time": "2022-04-26T23:29:34.902563Z",
     "start_time": "2022-04-26T23:27:40.696778Z"
    }
   },
   "outputs": [],
   "source": [
    "# Reading whole dataloader into memory can improve the speed of training\n",
    "train_loader = list(train_loader)\n",
    "test_loader = list(test_loader)"
   ]
  },
  {
   "cell_type": "code",
   "execution_count": 10,
   "id": "74f3eec8",
   "metadata": {
    "ExecuteTime": {
     "end_time": "2022-04-26T23:29:34.921944Z",
     "start_time": "2022-04-26T23:29:34.912465Z"
    }
   },
   "outputs": [
    {
     "data": {
      "text/plain": [
       "Dataset OxfordIIITPet\n",
       "    Number of datapoints: 3680\n",
       "    Root location: ./data\n",
       "    StandardTransform\n",
       "Transform: Compose(\n",
       "               ToTensor()\n",
       "               Resize(size=224, interpolation=bilinear, max_size=None, antialias=None)\n",
       "               CenterCrop(size=(224, 224))\n",
       "           )"
      ]
     },
     "execution_count": 10,
     "metadata": {},
     "output_type": "execute_result"
    }
   ],
   "source": [
    "train_set"
   ]
  },
  {
   "cell_type": "code",
   "execution_count": 11,
   "id": "48015142",
   "metadata": {
    "ExecuteTime": {
     "end_time": "2022-04-26T23:29:34.945147Z",
     "start_time": "2022-04-26T23:29:34.924774Z"
    }
   },
   "outputs": [],
   "source": [
    "# model.load_state_dict(torch.load(\"model/\" + model_filename))\n",
    "# loss_function = nn.CrossEntropyLoss()\n",
    "# trial = Trial(model, optimiser2, loss_function, metrics=['loss', 'accuracy']).to(device)\n",
    "# trial.with_generators(train_loader, test_generator=test_loader)"
   ]
  },
  {
   "cell_type": "code",
   "execution_count": 12,
   "id": "a7e099b7",
   "metadata": {
    "ExecuteTime": {
     "end_time": "2022-04-26T23:29:34.969558Z",
     "start_time": "2022-04-26T23:29:34.948401Z"
    }
   },
   "outputs": [],
   "source": [
    "loss_function = nn.CrossEntropyLoss()\n"
   ]
  },
  {
   "cell_type": "code",
   "execution_count": 13,
   "id": "ef312b08",
   "metadata": {
    "ExecuteTime": {
     "end_time": "2022-04-26T23:29:40.180581Z",
     "start_time": "2022-04-26T23:29:34.972463Z"
    }
   },
   "outputs": [
    {
     "data": {
      "text/plain": [
       "VisionTransformer(\n",
       "  (conv_proj): Conv2d(3, 768, kernel_size=(16, 16), stride=(16, 16))\n",
       "  (encoder): Encoder(\n",
       "    (dropout): Dropout(p=0.0, inplace=False)\n",
       "    (layers): Sequential(\n",
       "      (encoder_layer_0): EncoderBlock(\n",
       "        (ln_1): LayerNorm((768,), eps=1e-06, elementwise_affine=True)\n",
       "        (self_attention): MultiheadAttention(\n",
       "          (out_proj): NonDynamicallyQuantizableLinear(in_features=768, out_features=768, bias=True)\n",
       "        )\n",
       "        (dropout): Dropout(p=0.0, inplace=False)\n",
       "        (ln_2): LayerNorm((768,), eps=1e-06, elementwise_affine=True)\n",
       "        (mlp): MLPBlock(\n",
       "          (linear_1): Linear(in_features=768, out_features=3072, bias=True)\n",
       "          (act): GELU()\n",
       "          (dropout_1): Dropout(p=0.0, inplace=False)\n",
       "          (linear_2): Linear(in_features=3072, out_features=768, bias=True)\n",
       "          (dropout_2): Dropout(p=0.0, inplace=False)\n",
       "        )\n",
       "      )\n",
       "      (encoder_layer_1): EncoderBlock(\n",
       "        (ln_1): LayerNorm((768,), eps=1e-06, elementwise_affine=True)\n",
       "        (self_attention): MultiheadAttention(\n",
       "          (out_proj): NonDynamicallyQuantizableLinear(in_features=768, out_features=768, bias=True)\n",
       "        )\n",
       "        (dropout): Dropout(p=0.0, inplace=False)\n",
       "        (ln_2): LayerNorm((768,), eps=1e-06, elementwise_affine=True)\n",
       "        (mlp): MLPBlock(\n",
       "          (linear_1): Linear(in_features=768, out_features=3072, bias=True)\n",
       "          (act): GELU()\n",
       "          (dropout_1): Dropout(p=0.0, inplace=False)\n",
       "          (linear_2): Linear(in_features=3072, out_features=768, bias=True)\n",
       "          (dropout_2): Dropout(p=0.0, inplace=False)\n",
       "        )\n",
       "      )\n",
       "      (encoder_layer_2): EncoderBlock(\n",
       "        (ln_1): LayerNorm((768,), eps=1e-06, elementwise_affine=True)\n",
       "        (self_attention): MultiheadAttention(\n",
       "          (out_proj): NonDynamicallyQuantizableLinear(in_features=768, out_features=768, bias=True)\n",
       "        )\n",
       "        (dropout): Dropout(p=0.0, inplace=False)\n",
       "        (ln_2): LayerNorm((768,), eps=1e-06, elementwise_affine=True)\n",
       "        (mlp): MLPBlock(\n",
       "          (linear_1): Linear(in_features=768, out_features=3072, bias=True)\n",
       "          (act): GELU()\n",
       "          (dropout_1): Dropout(p=0.0, inplace=False)\n",
       "          (linear_2): Linear(in_features=3072, out_features=768, bias=True)\n",
       "          (dropout_2): Dropout(p=0.0, inplace=False)\n",
       "        )\n",
       "      )\n",
       "      (encoder_layer_3): EncoderBlock(\n",
       "        (ln_1): LayerNorm((768,), eps=1e-06, elementwise_affine=True)\n",
       "        (self_attention): MultiheadAttention(\n",
       "          (out_proj): NonDynamicallyQuantizableLinear(in_features=768, out_features=768, bias=True)\n",
       "        )\n",
       "        (dropout): Dropout(p=0.0, inplace=False)\n",
       "        (ln_2): LayerNorm((768,), eps=1e-06, elementwise_affine=True)\n",
       "        (mlp): MLPBlock(\n",
       "          (linear_1): Linear(in_features=768, out_features=3072, bias=True)\n",
       "          (act): GELU()\n",
       "          (dropout_1): Dropout(p=0.0, inplace=False)\n",
       "          (linear_2): Linear(in_features=3072, out_features=768, bias=True)\n",
       "          (dropout_2): Dropout(p=0.0, inplace=False)\n",
       "        )\n",
       "      )\n",
       "      (encoder_layer_4): EncoderBlock(\n",
       "        (ln_1): LayerNorm((768,), eps=1e-06, elementwise_affine=True)\n",
       "        (self_attention): MultiheadAttention(\n",
       "          (out_proj): NonDynamicallyQuantizableLinear(in_features=768, out_features=768, bias=True)\n",
       "        )\n",
       "        (dropout): Dropout(p=0.0, inplace=False)\n",
       "        (ln_2): LayerNorm((768,), eps=1e-06, elementwise_affine=True)\n",
       "        (mlp): MLPBlock(\n",
       "          (linear_1): Linear(in_features=768, out_features=3072, bias=True)\n",
       "          (act): GELU()\n",
       "          (dropout_1): Dropout(p=0.0, inplace=False)\n",
       "          (linear_2): Linear(in_features=3072, out_features=768, bias=True)\n",
       "          (dropout_2): Dropout(p=0.0, inplace=False)\n",
       "        )\n",
       "      )\n",
       "      (encoder_layer_5): EncoderBlock(\n",
       "        (ln_1): LayerNorm((768,), eps=1e-06, elementwise_affine=True)\n",
       "        (self_attention): MultiheadAttention(\n",
       "          (out_proj): NonDynamicallyQuantizableLinear(in_features=768, out_features=768, bias=True)\n",
       "        )\n",
       "        (dropout): Dropout(p=0.0, inplace=False)\n",
       "        (ln_2): LayerNorm((768,), eps=1e-06, elementwise_affine=True)\n",
       "        (mlp): MLPBlock(\n",
       "          (linear_1): Linear(in_features=768, out_features=3072, bias=True)\n",
       "          (act): GELU()\n",
       "          (dropout_1): Dropout(p=0.0, inplace=False)\n",
       "          (linear_2): Linear(in_features=3072, out_features=768, bias=True)\n",
       "          (dropout_2): Dropout(p=0.0, inplace=False)\n",
       "        )\n",
       "      )\n",
       "      (encoder_layer_6): EncoderBlock(\n",
       "        (ln_1): LayerNorm((768,), eps=1e-06, elementwise_affine=True)\n",
       "        (self_attention): MultiheadAttention(\n",
       "          (out_proj): NonDynamicallyQuantizableLinear(in_features=768, out_features=768, bias=True)\n",
       "        )\n",
       "        (dropout): Dropout(p=0.0, inplace=False)\n",
       "        (ln_2): LayerNorm((768,), eps=1e-06, elementwise_affine=True)\n",
       "        (mlp): MLPBlock(\n",
       "          (linear_1): Linear(in_features=768, out_features=3072, bias=True)\n",
       "          (act): GELU()\n",
       "          (dropout_1): Dropout(p=0.0, inplace=False)\n",
       "          (linear_2): Linear(in_features=3072, out_features=768, bias=True)\n",
       "          (dropout_2): Dropout(p=0.0, inplace=False)\n",
       "        )\n",
       "      )\n",
       "      (encoder_layer_7): EncoderBlock(\n",
       "        (ln_1): LayerNorm((768,), eps=1e-06, elementwise_affine=True)\n",
       "        (self_attention): MultiheadAttention(\n",
       "          (out_proj): NonDynamicallyQuantizableLinear(in_features=768, out_features=768, bias=True)\n",
       "        )\n",
       "        (dropout): Dropout(p=0.0, inplace=False)\n",
       "        (ln_2): LayerNorm((768,), eps=1e-06, elementwise_affine=True)\n",
       "        (mlp): MLPBlock(\n",
       "          (linear_1): Linear(in_features=768, out_features=3072, bias=True)\n",
       "          (act): GELU()\n",
       "          (dropout_1): Dropout(p=0.0, inplace=False)\n",
       "          (linear_2): Linear(in_features=3072, out_features=768, bias=True)\n",
       "          (dropout_2): Dropout(p=0.0, inplace=False)\n",
       "        )\n",
       "      )\n",
       "      (encoder_layer_8): EncoderBlock(\n",
       "        (ln_1): LayerNorm((768,), eps=1e-06, elementwise_affine=True)\n",
       "        (self_attention): MultiheadAttention(\n",
       "          (out_proj): NonDynamicallyQuantizableLinear(in_features=768, out_features=768, bias=True)\n",
       "        )\n",
       "        (dropout): Dropout(p=0.0, inplace=False)\n",
       "        (ln_2): LayerNorm((768,), eps=1e-06, elementwise_affine=True)\n",
       "        (mlp): MLPBlock(\n",
       "          (linear_1): Linear(in_features=768, out_features=3072, bias=True)\n",
       "          (act): GELU()\n",
       "          (dropout_1): Dropout(p=0.0, inplace=False)\n",
       "          (linear_2): Linear(in_features=3072, out_features=768, bias=True)\n",
       "          (dropout_2): Dropout(p=0.0, inplace=False)\n",
       "        )\n",
       "      )\n",
       "      (encoder_layer_9): EncoderBlock(\n",
       "        (ln_1): LayerNorm((768,), eps=1e-06, elementwise_affine=True)\n",
       "        (self_attention): MultiheadAttention(\n",
       "          (out_proj): NonDynamicallyQuantizableLinear(in_features=768, out_features=768, bias=True)\n",
       "        )\n",
       "        (dropout): Dropout(p=0.0, inplace=False)\n",
       "        (ln_2): LayerNorm((768,), eps=1e-06, elementwise_affine=True)\n",
       "        (mlp): MLPBlock(\n",
       "          (linear_1): Linear(in_features=768, out_features=3072, bias=True)\n",
       "          (act): GELU()\n",
       "          (dropout_1): Dropout(p=0.0, inplace=False)\n",
       "          (linear_2): Linear(in_features=3072, out_features=768, bias=True)\n",
       "          (dropout_2): Dropout(p=0.0, inplace=False)\n",
       "        )\n",
       "      )\n",
       "      (encoder_layer_10): EncoderBlock(\n",
       "        (ln_1): LayerNorm((768,), eps=1e-06, elementwise_affine=True)\n",
       "        (self_attention): MultiheadAttention(\n",
       "          (out_proj): NonDynamicallyQuantizableLinear(in_features=768, out_features=768, bias=True)\n",
       "        )\n",
       "        (dropout): Dropout(p=0.0, inplace=False)\n",
       "        (ln_2): LayerNorm((768,), eps=1e-06, elementwise_affine=True)\n",
       "        (mlp): MLPBlock(\n",
       "          (linear_1): Linear(in_features=768, out_features=3072, bias=True)\n",
       "          (act): GELU()\n",
       "          (dropout_1): Dropout(p=0.0, inplace=False)\n",
       "          (linear_2): Linear(in_features=3072, out_features=768, bias=True)\n",
       "          (dropout_2): Dropout(p=0.0, inplace=False)\n",
       "        )\n",
       "      )\n",
       "      (encoder_layer_11): EncoderBlock(\n",
       "        (ln_1): LayerNorm((768,), eps=1e-06, elementwise_affine=True)\n",
       "        (self_attention): MultiheadAttention(\n",
       "          (out_proj): NonDynamicallyQuantizableLinear(in_features=768, out_features=768, bias=True)\n",
       "        )\n",
       "        (dropout): Dropout(p=0.0, inplace=False)\n",
       "        (ln_2): LayerNorm((768,), eps=1e-06, elementwise_affine=True)\n",
       "        (mlp): MLPBlock(\n",
       "          (linear_1): Linear(in_features=768, out_features=3072, bias=True)\n",
       "          (act): GELU()\n",
       "          (dropout_1): Dropout(p=0.0, inplace=False)\n",
       "          (linear_2): Linear(in_features=3072, out_features=768, bias=True)\n",
       "          (dropout_2): Dropout(p=0.0, inplace=False)\n",
       "        )\n",
       "      )\n",
       "    )\n",
       "    (ln): LayerNorm((768,), eps=1e-06, elementwise_affine=True)\n",
       "  )\n",
       "  (heads): Linear(in_features=768, out_features=37, bias=True)\n",
       ")"
      ]
     },
     "execution_count": 13,
     "metadata": {},
     "output_type": "execute_result"
    }
   ],
   "source": [
    "lr = lr_base\n",
    "def adjust_learning_rate(optimizer, current_epoch, max_epoch, lr_min=lr_min, lr_max=lr_base, warmup=True):\n",
    "    if current_epoch < warmup_epoch:\n",
    "        lr = lr_max * (current_epoch+1) / (warmup_epoch+1)\n",
    "    else:\n",
    "        lr = lr_min + (lr_max-lr_min)*(1 + cos(pi * (current_epoch - warmup_epoch) / (max_epoch - warmup_epoch))) / 2\n",
    "    for param_group in optimizer.param_groups:\n",
    "        param_group['lr'] = lr\n",
    "    print(\"Learning rate is set to \"+str(lr))\n",
    "\n",
    "optimiser = optim.SGD(filter(lambda p: p.requires_grad, model.parameters()), \n",
    "                      lr=lr,\n",
    "                      momentum=0.9) #only optimse non-frozen layers\n",
    "model.to(device)"
   ]
  },
  {
   "cell_type": "code",
   "execution_count": 14,
   "id": "d99ce55a",
   "metadata": {
    "ExecuteTime": {
     "end_time": "2022-04-26T23:43:47.619377Z",
     "start_time": "2022-04-26T23:29:40.184322Z"
    },
    "scrolled": false
   },
   "outputs": [
    {
     "name": "stdout",
     "output_type": "stream",
     "text": [
      "Learning rate is set to 0.0016666666666666668\n"
     ]
    },
    {
     "data": {
      "application/vnd.jupyter.widget-view+json": {
       "model_id": "1ec3b53a8f1f40b58bc727398a6a6157",
       "version_major": 2,
       "version_minor": 0
      },
      "text/plain": [
       "Train(epoch0):   0%|          | 0/58 [00:00<?, ?it/s]"
      ]
     },
     "metadata": {},
     "output_type": "display_data"
    },
    {
     "name": "stderr",
     "output_type": "stream",
     "text": [
      "/home/hf5n21/.conda/envs/pytorch/lib/python3.7/site-packages/ipykernel_launcher.py:26: UserWarning: Implicit dimension choice for softmax has been deprecated. Change the call to include dim=X as an argument.\n"
     ]
    },
    {
     "name": "stdout",
     "output_type": "stream",
     "text": [
      "epoch 0/12:(tr)loss=149.3822\n",
      "epoch 0/12:(tr)acc=52.9620%\n"
     ]
    },
    {
     "data": {
      "application/vnd.jupyter.widget-view+json": {
       "model_id": "3ef51e6f6c814b3898af055286512697",
       "version_major": 2,
       "version_minor": 0
      },
      "text/plain": [
       "test0:   0%|          | 0/58 [00:00<?, ?it/s]"
      ]
     },
     "metadata": {},
     "output_type": "display_data"
    },
    {
     "name": "stderr",
     "output_type": "stream",
     "text": [
      "/home/hf5n21/.conda/envs/pytorch/lib/python3.7/site-packages/ipykernel_launcher.py:55: UserWarning: Implicit dimension choice for softmax has been deprecated. Change the call to include dim=X as an argument.\n"
     ]
    },
    {
     "name": "stdout",
     "output_type": "stream",
     "text": [
      "epoch 0/12:(te)loss=68.1411\n",
      "epoch 0/12:(te)acc=86.8084%\n",
      "Learning rate is set to 0.0033333333333333335\n"
     ]
    },
    {
     "data": {
      "application/vnd.jupyter.widget-view+json": {
       "model_id": "8cfd318023cf4805b319e7aca173dfa8",
       "version_major": 2,
       "version_minor": 0
      },
      "text/plain": [
       "Train(epoch1):   0%|          | 0/58 [00:00<?, ?it/s]"
      ]
     },
     "metadata": {},
     "output_type": "display_data"
    },
    {
     "name": "stdout",
     "output_type": "stream",
     "text": [
      "epoch 1/12:(tr)loss=28.3853\n",
      "epoch 1/12:(tr)acc=92.0652%\n"
     ]
    },
    {
     "data": {
      "application/vnd.jupyter.widget-view+json": {
       "model_id": "c22d679f012b49888a67965f01ce9ab5",
       "version_major": 2,
       "version_minor": 0
      },
      "text/plain": [
       "test1:   0%|          | 0/58 [00:00<?, ?it/s]"
      ]
     },
     "metadata": {},
     "output_type": "display_data"
    },
    {
     "name": "stdout",
     "output_type": "stream",
     "text": [
      "epoch 1/12:(te)loss=18.2046\n",
      "epoch 1/12:(te)acc=91.9052%\n",
      "Learning rate is set to 0.005\n"
     ]
    },
    {
     "data": {
      "application/vnd.jupyter.widget-view+json": {
       "model_id": "4cc0e2368a2b4be3a9342032d8c97e22",
       "version_major": 2,
       "version_minor": 0
      },
      "text/plain": [
       "Train(epoch2):   0%|          | 0/58 [00:00<?, ?it/s]"
      ]
     },
     "metadata": {},
     "output_type": "display_data"
    },
    {
     "name": "stdout",
     "output_type": "stream",
     "text": [
      "epoch 2/12:(tr)loss=10.1133\n",
      "epoch 2/12:(tr)acc=96.5217%\n"
     ]
    },
    {
     "data": {
      "application/vnd.jupyter.widget-view+json": {
       "model_id": "33a918c1f66240459f8322dab7a072f6",
       "version_major": 2,
       "version_minor": 0
      },
      "text/plain": [
       "test2:   0%|          | 0/58 [00:00<?, ?it/s]"
      ]
     },
     "metadata": {},
     "output_type": "display_data"
    },
    {
     "name": "stdout",
     "output_type": "stream",
     "text": [
      "epoch 2/12:(te)loss=13.9588\n",
      "epoch 2/12:(te)acc=92.9681%\n",
      "Learning rate is set to 0.006666666666666667\n"
     ]
    },
    {
     "data": {
      "application/vnd.jupyter.widget-view+json": {
       "model_id": "fb4bd17f6ccb4f948b8a912109a2de87",
       "version_major": 2,
       "version_minor": 0
      },
      "text/plain": [
       "Train(epoch3):   0%|          | 0/58 [00:00<?, ?it/s]"
      ]
     },
     "metadata": {},
     "output_type": "display_data"
    },
    {
     "name": "stdout",
     "output_type": "stream",
     "text": [
      "epoch 3/12:(tr)loss=4.8351\n",
      "epoch 3/12:(tr)acc=98.6956%\n"
     ]
    },
    {
     "data": {
      "application/vnd.jupyter.widget-view+json": {
       "model_id": "9b62ece40a7c479787e697f3dd1f5f81",
       "version_major": 2,
       "version_minor": 0
      },
      "text/plain": [
       "test3:   0%|          | 0/58 [00:00<?, ?it/s]"
      ]
     },
     "metadata": {},
     "output_type": "display_data"
    },
    {
     "name": "stdout",
     "output_type": "stream",
     "text": [
      "epoch 3/12:(te)loss=13.0617\n",
      "epoch 3/12:(te)acc=93.2407%\n",
      "Learning rate is set to 0.008333333333333333\n"
     ]
    },
    {
     "data": {
      "application/vnd.jupyter.widget-view+json": {
       "model_id": "496063e8b45443abbf805008121c03ae",
       "version_major": 2,
       "version_minor": 0
      },
      "text/plain": [
       "Train(epoch4):   0%|          | 0/58 [00:00<?, ?it/s]"
      ]
     },
     "metadata": {},
     "output_type": "display_data"
    },
    {
     "name": "stdout",
     "output_type": "stream",
     "text": [
      "epoch 4/12:(tr)loss=2.2781\n",
      "epoch 4/12:(tr)acc=99.6467%\n"
     ]
    },
    {
     "data": {
      "application/vnd.jupyter.widget-view+json": {
       "model_id": "0ccae130e9464c1992295d7bb9d45e79",
       "version_major": 2,
       "version_minor": 0
      },
      "text/plain": [
       "test4:   0%|          | 0/58 [00:00<?, ?it/s]"
      ]
     },
     "metadata": {},
     "output_type": "display_data"
    },
    {
     "name": "stdout",
     "output_type": "stream",
     "text": [
      "epoch 4/12:(te)loss=12.4159\n",
      "epoch 4/12:(te)acc=93.2134%\n",
      "Learning rate is set to 0.010000000000000002\n"
     ]
    },
    {
     "data": {
      "application/vnd.jupyter.widget-view+json": {
       "model_id": "2f564b46101842c9b68c6e4871a2e963",
       "version_major": 2,
       "version_minor": 0
      },
      "text/plain": [
       "Train(epoch5):   0%|          | 0/58 [00:00<?, ?it/s]"
      ]
     },
     "metadata": {},
     "output_type": "display_data"
    },
    {
     "name": "stdout",
     "output_type": "stream",
     "text": [
      "epoch 5/12:(tr)loss=1.7418\n",
      "epoch 5/12:(tr)acc=99.6467%\n"
     ]
    },
    {
     "data": {
      "application/vnd.jupyter.widget-view+json": {
       "model_id": "476a4036e5034948a8e8269f4610f82f",
       "version_major": 2,
       "version_minor": 0
      },
      "text/plain": [
       "test5:   0%|          | 0/58 [00:00<?, ?it/s]"
      ]
     },
     "metadata": {},
     "output_type": "display_data"
    },
    {
     "name": "stdout",
     "output_type": "stream",
     "text": [
      "epoch 5/12:(te)loss=14.8412\n",
      "epoch 5/12:(te)acc=92.5048%\n",
      "Learning rate is set to 0.009554359905560885\n"
     ]
    },
    {
     "data": {
      "application/vnd.jupyter.widget-view+json": {
       "model_id": "938a5beccd034f689b803f4cb2470f62",
       "version_major": 2,
       "version_minor": 0
      },
      "text/plain": [
       "Train(epoch6):   0%|          | 0/58 [00:00<?, ?it/s]"
      ]
     },
     "metadata": {},
     "output_type": "display_data"
    },
    {
     "name": "stdout",
     "output_type": "stream",
     "text": [
      "epoch 6/12:(tr)loss=1.0423\n",
      "epoch 6/12:(tr)acc=99.9456%\n"
     ]
    },
    {
     "data": {
      "application/vnd.jupyter.widget-view+json": {
       "model_id": "32750d10b7ff4e3dad781b8d9c192bee",
       "version_major": 2,
       "version_minor": 0
      },
      "text/plain": [
       "test6:   0%|          | 0/58 [00:00<?, ?it/s]"
      ]
     },
     "metadata": {},
     "output_type": "display_data"
    },
    {
     "name": "stdout",
     "output_type": "stream",
     "text": [
      "epoch 6/12:(te)loss=12.8244\n",
      "epoch 6/12:(te)acc=92.9954%\n",
      "Learning rate is set to 0.008305704108364302\n"
     ]
    },
    {
     "data": {
      "application/vnd.jupyter.widget-view+json": {
       "model_id": "0c93723bb3c44c0c98ea496d00e47c7e",
       "version_major": 2,
       "version_minor": 0
      },
      "text/plain": [
       "Train(epoch7):   0%|          | 0/58 [00:00<?, ?it/s]"
      ]
     },
     "metadata": {},
     "output_type": "display_data"
    },
    {
     "name": "stdout",
     "output_type": "stream",
     "text": [
      "epoch 7/12:(tr)loss=0.6145\n",
      "epoch 7/12:(tr)acc=99.9456%\n"
     ]
    },
    {
     "data": {
      "application/vnd.jupyter.widget-view+json": {
       "model_id": "0f67fc4201ac46f980bff11b0b0fa56e",
       "version_major": 2,
       "version_minor": 0
      },
      "text/plain": [
       "test7:   0%|          | 0/58 [00:00<?, ?it/s]"
      ]
     },
     "metadata": {},
     "output_type": "display_data"
    },
    {
     "name": "stdout",
     "output_type": "stream",
     "text": [
      "epoch 7/12:(te)loss=12.8934\n",
      "epoch 7/12:(te)acc=93.1316%\n",
      "Learning rate is set to 0.006501344202803416\n"
     ]
    },
    {
     "data": {
      "application/vnd.jupyter.widget-view+json": {
       "model_id": "e2aedd1807be4b9eb2927eb1c578dd49",
       "version_major": 2,
       "version_minor": 0
      },
      "text/plain": [
       "Train(epoch8):   0%|          | 0/58 [00:00<?, ?it/s]"
      ]
     },
     "metadata": {},
     "output_type": "display_data"
    },
    {
     "name": "stdout",
     "output_type": "stream",
     "text": [
      "epoch 8/12:(tr)loss=0.3805\n",
      "epoch 8/12:(tr)acc=100.0000%\n"
     ]
    },
    {
     "data": {
      "application/vnd.jupyter.widget-view+json": {
       "model_id": "a8d8cd8fe76e4316a7fba24e34bade4f",
       "version_major": 2,
       "version_minor": 0
      },
      "text/plain": [
       "test8:   0%|          | 0/58 [00:00<?, ?it/s]"
      ]
     },
     "metadata": {},
     "output_type": "display_data"
    },
    {
     "name": "stdout",
     "output_type": "stream",
     "text": [
      "epoch 8/12:(te)loss=12.3675\n",
      "epoch 8/12:(te)acc=93.6768%\n",
      "Learning rate is set to 0.0044986557971965855\n"
     ]
    },
    {
     "data": {
      "application/vnd.jupyter.widget-view+json": {
       "model_id": "283621db5cc94cae9c0a9b101a83b37d",
       "version_major": 2,
       "version_minor": 0
      },
      "text/plain": [
       "Train(epoch9):   0%|          | 0/58 [00:00<?, ?it/s]"
      ]
     },
     "metadata": {},
     "output_type": "display_data"
    },
    {
     "name": "stdout",
     "output_type": "stream",
     "text": [
      "epoch 9/12:(tr)loss=0.3004\n",
      "epoch 9/12:(tr)acc=100.0000%\n"
     ]
    },
    {
     "data": {
      "application/vnd.jupyter.widget-view+json": {
       "model_id": "45e45b1fe8ac4190be4ed9ba348b9d47",
       "version_major": 2,
       "version_minor": 0
      },
      "text/plain": [
       "test9:   0%|          | 0/58 [00:00<?, ?it/s]"
      ]
     },
     "metadata": {},
     "output_type": "display_data"
    },
    {
     "name": "stdout",
     "output_type": "stream",
     "text": [
      "epoch 9/12:(te)loss=12.4907\n",
      "epoch 9/12:(te)acc=93.4314%\n",
      "Learning rate is set to 0.0026942958916356995\n"
     ]
    },
    {
     "data": {
      "application/vnd.jupyter.widget-view+json": {
       "model_id": "99e932cf4703470c841286023e7dbf3c",
       "version_major": 2,
       "version_minor": 0
      },
      "text/plain": [
       "Train(epoch10):   0%|          | 0/58 [00:00<?, ?it/s]"
      ]
     },
     "metadata": {},
     "output_type": "display_data"
    },
    {
     "name": "stdout",
     "output_type": "stream",
     "text": [
      "epoch 10/12:(tr)loss=0.2646\n",
      "epoch 10/12:(tr)acc=100.0000%\n"
     ]
    },
    {
     "data": {
      "application/vnd.jupyter.widget-view+json": {
       "model_id": "fecab33e323e4e83ac031fc0177657c3",
       "version_major": 2,
       "version_minor": 0
      },
      "text/plain": [
       "test10:   0%|          | 0/58 [00:00<?, ?it/s]"
      ]
     },
     "metadata": {},
     "output_type": "display_data"
    },
    {
     "name": "stdout",
     "output_type": "stream",
     "text": [
      "epoch 10/12:(te)loss=12.5313\n",
      "epoch 10/12:(te)acc=93.4042%\n",
      "Learning rate is set to 0.0014456400944391143\n"
     ]
    },
    {
     "data": {
      "application/vnd.jupyter.widget-view+json": {
       "model_id": "ff50090f0d5846c28334dca68ad16be2",
       "version_major": 2,
       "version_minor": 0
      },
      "text/plain": [
       "Train(epoch11):   0%|          | 0/58 [00:00<?, ?it/s]"
      ]
     },
     "metadata": {},
     "output_type": "display_data"
    },
    {
     "name": "stdout",
     "output_type": "stream",
     "text": [
      "epoch 11/12:(tr)loss=0.2514\n",
      "epoch 11/12:(tr)acc=100.0000%\n"
     ]
    },
    {
     "data": {
      "application/vnd.jupyter.widget-view+json": {
       "model_id": "cdb0ab1e0fc84e1bbc63e87b50fb09ce",
       "version_major": 2,
       "version_minor": 0
      },
      "text/plain": [
       "test11:   0%|          | 0/58 [00:00<?, ?it/s]"
      ]
     },
     "metadata": {},
     "output_type": "display_data"
    },
    {
     "name": "stdout",
     "output_type": "stream",
     "text": [
      "epoch 11/12:(te)loss=12.5556\n",
      "epoch 11/12:(te)acc=93.4587%\n"
     ]
    }
   ],
   "source": [
    "results = []\n",
    "\n",
    "for epoch in range(warmup_epoch+num_epoch):\n",
    "    running_loss = 0\n",
    "    train_acc = 0\n",
    "    \n",
    "    adjust_learning_rate(optimizer=optimiser,\n",
    "                        current_epoch=epoch,\n",
    "                        max_epoch=warmup_epoch+num_epoch)\n",
    "    with tqdm(train_loader, desc='Train(epoch'+str(epoch)+')') as t:\n",
    "        total = 0\n",
    "        correct = 0\n",
    "        for data in t:\n",
    "            model.train()\n",
    "            inputs, labels = data\n",
    "            inputs, labels = inputs.to(device), labels.to(device)\n",
    "\n",
    "            optimiser.zero_grad()\n",
    "\n",
    "            outputs = model(inputs)\n",
    "            loss = loss_function(outputs, labels)\n",
    "            running_loss += loss.item()\n",
    "            loss.backward()\n",
    "            optimiser.step()\n",
    "            \n",
    "            pred = torch.argmax(F.softmax(outputs), dim=1)\n",
    "            total += len(labels)\n",
    "            correct += sum(pred == labels)\n",
    "            \n",
    "        train_acc = (100.0 * correct) / total\n",
    "\n",
    "        t.set_postfix(running_loss=running_loss,\n",
    "                      runing_acc=train_acc)\n",
    "            \n",
    "    print(\"epoch %d/%d:(tr)loss=%.4f\" % (epoch, warmup_epoch+num_epoch, running_loss))\n",
    "    print(\"epoch %d/%d:(tr)acc=%.4f%%\" % (epoch, warmup_epoch+num_epoch, train_acc))\n",
    "    \n",
    "    test_running_loss = 0\n",
    "    test_acc = 0\n",
    "            \n",
    "    with tqdm(test_loader, desc='test'+str(epoch)) as t:\n",
    "        with torch.no_grad():\n",
    "            total = 0\n",
    "            correct = 0\n",
    "            for data in t:\n",
    "                model.eval()\n",
    "                inputs, labels = data\n",
    "                inputs, labels = inputs.to(device), labels.to(device)\n",
    "\n",
    "                outputs = model(inputs)\n",
    "\n",
    "                loss = loss_function(outputs, labels)\n",
    "                test_running_loss += loss.item()\n",
    "\n",
    "                pred = torch.argmax(F.softmax(outputs), dim=1)\n",
    "                total += len(labels)\n",
    "                correct += sum(pred == labels)\n",
    "            test_acc = (100.0 * correct) / total\n",
    "\n",
    "            t.set_postfix(running_loss=test_running_loss,\n",
    "                          runing_acc=test_acc)\n",
    "\n",
    "        print(\"epoch %d/%d:(te)loss=%.4f\" % (epoch, warmup_epoch+num_epoch, test_running_loss))\n",
    "        print(\"epoch %d/%d:(te)acc=%.4f%%\" % (epoch, warmup_epoch+num_epoch, test_acc))\n",
    "          \n",
    "    results.append({'running_loss':running_loss,\n",
    "                   'train_acc':train_acc,\n",
    "                   'test_running_loss':test_running_loss,\n",
    "                   'test_acc':test_acc})\n"
   ]
  },
  {
   "cell_type": "code",
   "execution_count": 15,
   "id": "0e06d91c",
   "metadata": {
    "ExecuteTime": {
     "end_time": "2022-04-26T23:43:47.652562Z",
     "start_time": "2022-04-26T23:43:47.624638Z"
    }
   },
   "outputs": [
    {
     "data": {
      "text/plain": [
       "[{'running_loss': 149.3821873664856,\n",
       "  'train_acc': tensor(52.9620, device='cuda:3'),\n",
       "  'test_running_loss': 68.14106714725494,\n",
       "  'test_acc': tensor(86.8084, device='cuda:3')},\n",
       " {'running_loss': 28.385265588760376,\n",
       "  'train_acc': tensor(92.0652, device='cuda:3'),\n",
       "  'test_running_loss': 18.204610288143158,\n",
       "  'test_acc': tensor(91.9052, device='cuda:3')},\n",
       " {'running_loss': 10.11327900737524,\n",
       "  'train_acc': tensor(96.5217, device='cuda:3'),\n",
       "  'test_running_loss': 13.958847381174564,\n",
       "  'test_acc': tensor(92.9681, device='cuda:3')},\n",
       " {'running_loss': 4.8350886926054955,\n",
       "  'train_acc': tensor(98.6956, device='cuda:3'),\n",
       "  'test_running_loss': 13.061653949320316,\n",
       "  'test_acc': tensor(93.2407, device='cuda:3')},\n",
       " {'running_loss': 2.2781197065487504,\n",
       "  'train_acc': tensor(99.6467, device='cuda:3'),\n",
       "  'test_running_loss': 12.415874730795622,\n",
       "  'test_acc': tensor(93.2134, device='cuda:3')},\n",
       " {'running_loss': 1.7417903067544103,\n",
       "  'train_acc': tensor(99.6467, device='cuda:3'),\n",
       "  'test_running_loss': 14.84124767780304,\n",
       "  'test_acc': tensor(92.5048, device='cuda:3')},\n",
       " {'running_loss': 1.042349035385996,\n",
       "  'train_acc': tensor(99.9456, device='cuda:3'),\n",
       "  'test_running_loss': 12.824388466775417,\n",
       "  'test_acc': tensor(92.9954, device='cuda:3')},\n",
       " {'running_loss': 0.6144982161931694,\n",
       "  'train_acc': tensor(99.9456, device='cuda:3'),\n",
       "  'test_running_loss': 12.893374118953943,\n",
       "  'test_acc': tensor(93.1316, device='cuda:3')},\n",
       " {'running_loss': 0.3805104282218963,\n",
       "  'train_acc': tensor(100.0000, device='cuda:3'),\n",
       "  'test_running_loss': 12.367455448955297,\n",
       "  'test_acc': tensor(93.6768, device='cuda:3')},\n",
       " {'running_loss': 0.30039924336597323,\n",
       "  'train_acc': tensor(100.0000, device='cuda:3'),\n",
       "  'test_running_loss': 12.490736972540617,\n",
       "  'test_acc': tensor(93.4314, device='cuda:3')},\n",
       " {'running_loss': 0.2645904887467623,\n",
       "  'train_acc': tensor(100.0000, device='cuda:3'),\n",
       "  'test_running_loss': 12.531278930604458,\n",
       "  'test_acc': tensor(93.4042, device='cuda:3')},\n",
       " {'running_loss': 0.2513958401978016,\n",
       "  'train_acc': tensor(100.0000, device='cuda:3'),\n",
       "  'test_running_loss': 12.55557744950056,\n",
       "  'test_acc': tensor(93.4587, device='cuda:3')}]"
      ]
     },
     "execution_count": 15,
     "metadata": {},
     "output_type": "execute_result"
    }
   ],
   "source": [
    "results"
   ]
  },
  {
   "cell_type": "code",
   "execution_count": null,
   "id": "11e64d09",
   "metadata": {},
   "outputs": [],
   "source": []
  },
  {
   "cell_type": "code",
   "execution_count": 16,
   "id": "858a1dba",
   "metadata": {
    "ExecuteTime": {
     "end_time": "2022-04-26T23:43:52.768619Z",
     "start_time": "2022-04-26T23:43:47.654980Z"
    }
   },
   "outputs": [],
   "source": [
    "torch.save(model.state_dict(), \"model/\" + model_filename)"
   ]
  },
  {
   "cell_type": "code",
   "execution_count": 17,
   "id": "1ce3380a",
   "metadata": {
    "ExecuteTime": {
     "end_time": "2022-04-26T23:43:52.775331Z",
     "start_time": "2022-04-26T23:43:52.771697Z"
    }
   },
   "outputs": [],
   "source": [
    "train_loss_list = []\n",
    "train_acc_list = []\n",
    "for result in results:\n",
    "    train_loss_list.append(result[\"running_loss\"])\n",
    "    train_acc_list.append(torch.Tensor.cpu(result[\"train_acc\"]))"
   ]
  },
  {
   "cell_type": "code",
   "execution_count": 18,
   "id": "53a383fe",
   "metadata": {
    "ExecuteTime": {
     "end_time": "2022-04-26T23:43:52.804083Z",
     "start_time": "2022-04-26T23:43:52.776770Z"
    }
   },
   "outputs": [],
   "source": [
    "test_loss_list = []\n",
    "test_acc_list = []\n",
    "for result in results:\n",
    "    test_loss_list.append(result[\"test_running_loss\"])\n",
    "    test_acc_list.append(torch.Tensor.cpu(result[\"test_acc\"]))"
   ]
  },
  {
   "cell_type": "code",
   "execution_count": 19,
   "id": "c7bdb656",
   "metadata": {
    "ExecuteTime": {
     "end_time": "2022-04-26T23:43:52.831516Z",
     "start_time": "2022-04-26T23:43:52.805498Z"
    }
   },
   "outputs": [],
   "source": [
    "# # 如果Intel的Windows上matplotlib会导致内核重启就执行这个\n",
    "# import os\n",
    "\n",
    "# os.environ['KMP_DUPLICATE_LIB_OK'] = 'True'"
   ]
  },
  {
   "cell_type": "code",
   "execution_count": 20,
   "id": "812f96fa",
   "metadata": {
    "ExecuteTime": {
     "end_time": "2022-04-26T23:43:53.292430Z",
     "start_time": "2022-04-26T23:43:52.833303Z"
    }
   },
   "outputs": [
    {
     "data": {
      "image/png": "[encoded data removed]",
      "text/plain": [
       "<Figure size 720x288 with 2 Axes>"
      ]
     },
     "metadata": {
      "needs_background": "light"
     },
     "output_type": "display_data"
    }
   ],
   "source": [
    "fig, ax = plt.subplots(1, 2, figsize=(10,4))\n",
    "\n",
    "ax[0].plot(train_loss_list)\n",
    "ax[0].plot(test_loss_list)\n",
    "ax[0].legend(['train','test'])\n",
    "ax[0].grid()\n",
    "ax[0].set_title(\"Loss\")\n",
    "\n",
    "ax[1].plot(train_acc_list)\n",
    "ax[1].plot(test_acc_list)\n",
    "ax[1].legend(['train','test'])\n",
    "ax[1].grid()\n",
    "ax[1].set_title(\"Accuracy\")\n",
    "plt.show()"
   ]
  },
  {
   "cell_type": "code",
   "execution_count": null,
   "id": "f8602f15",
   "metadata": {},
   "outputs": [],
   "source": []
  },
  {
   "cell_type": "code",
   "execution_count": null,
   "id": "97e68f76",
   "metadata": {},
   "outputs": [],
   "source": []
  },
  {
   "cell_type": "code",
   "execution_count": null,
   "id": "78385b7d",
   "metadata": {},
   "outputs": [],
   "source": []
  },
  {
   "cell_type": "code",
   "execution_count": null,
   "id": "787ccfde",
   "metadata": {},
   "outputs": [],
   "source": []
  }
 ],
 "metadata": {
  "kernelspec": {
   "display_name": "Python 3 (ipykernel)",
   "language": "python",
   "name": "python3"
  },
  "language_info": {
   "codemirror_mode": {
    "name": "ipython",
    "version": 3
   },
   "file_extension": ".py",
   "mimetype": "text/x-python",
   "name": "python",
   "nbconvert_exporter": "python",
   "pygments_lexer": "ipython3",
   "version": "3.7.2"
  }
 },
 "nbformat": 4,
 "nbformat_minor": 5
}
