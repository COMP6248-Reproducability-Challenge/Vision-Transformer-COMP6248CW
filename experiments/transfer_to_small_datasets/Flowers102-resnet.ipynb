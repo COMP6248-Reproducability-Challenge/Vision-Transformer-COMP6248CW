{
 "cells": [
  {
   "cell_type": "code",
   "execution_count": 1,
   "id": "60d6f28b",
   "metadata": {
    "ExecuteTime": {
     "end_time": "2022-04-26T23:58:10.857780Z",
     "start_time": "2022-04-26T23:58:03.270940Z"
    }
   },
   "outputs": [],
   "source": [
    "import torch\n",
    "from torch import nn\n",
    "from torch import optim\n",
    "from torch.utils.data import DataLoader\n",
    "import torch.nn.functional as F\n",
    "\n",
    "import matplotlib\n",
    "import matplotlib.pyplot as plt\n",
    "\n",
    "import torchvision\n",
    "from torchvision.datasets import ImageFolder\n",
    "from torchvision import transforms\n",
    "\n",
    "import numpy\n",
    "\n",
    "from IPython.display import Image\n",
    "from tqdm.notebook import tqdm\n",
    "from math import *\n"
   ]
  },
  {
   "cell_type": "code",
   "execution_count": 2,
   "id": "a2f54a27",
   "metadata": {
    "ExecuteTime": {
     "end_time": "2022-04-26T23:58:13.252110Z",
     "start_time": "2022-04-26T23:58:10.863538Z"
    }
   },
   "outputs": [],
   "source": [
    "# Set dataset and model\n",
    "\n",
    "# Dataset\n",
    "dataset = torchvision.datasets.Flowers102\n",
    "\n",
    "from torchvision.models import resnet152\n",
    "model = resnet152(pretrained=True)\n",
    "\n",
    "model_filename = \"flowers102-resnet152\"\n",
    "\n",
    "warmup_epoch = 10\n",
    "num_epoch = 30\n",
    "\n",
    "lr_warmup = 5e-3\n",
    "lr_base = 5e-2\n",
    "lr_min = 5e-3\n",
    "\n",
    "device = \"cuda:3\" if torch.cuda.is_available() else \"cpu\""
   ]
  },
  {
   "cell_type": "code",
   "execution_count": 3,
   "id": "d3d2e033",
   "metadata": {
    "ExecuteTime": {
     "end_time": "2022-04-26T23:58:13.266332Z",
     "start_time": "2022-04-26T23:58:13.254927Z"
    }
   },
   "outputs": [
    {
     "data": {
      "text/plain": [
       "'cuda:3'"
      ]
     },
     "execution_count": 3,
     "metadata": {},
     "output_type": "execute_result"
    }
   ],
   "source": [
    "device"
   ]
  },
  {
   "cell_type": "code",
   "execution_count": 4,
   "id": "d493b358",
   "metadata": {
    "ExecuteTime": {
     "end_time": "2022-04-26T23:58:13.713984Z",
     "start_time": "2022-04-26T23:58:13.271059Z"
    }
   },
   "outputs": [],
   "source": [
    "transform = transforms.Compose([\n",
    "    transforms.ToTensor(),\n",
    "    transforms.Resize(224),\n",
    "    transforms.CenterCrop(224)\n",
    "])\n",
    "train_set = torchvision.datasets.Flowers102(\"./data\", split= \"train\", download = True, transform=transform)\n",
    "test_set = torchvision.datasets.Flowers102(\"./data\", split= \"test\", download = True, transform=transform)\n",
    "val_set = torchvision.datasets.Flowers102(\"./data\", split= \"val\", download = True, transform=transform)\n",
    "train_loader = DataLoader(train_set, batch_size=512, shuffle=True)\n",
    "test_loader = DataLoader(test_set, batch_size=512, shuffle=True)\n",
    "val_loader = DataLoader(val_set, batch_size=512, shuffle=True)"
   ]
  },
  {
   "cell_type": "code",
   "execution_count": null,
   "id": "729470f6",
   "metadata": {
    "ExecuteTime": {
     "end_time": "2022-04-26T13:24:16.412518Z",
     "start_time": "2022-04-26T13:24:16.408140Z"
    }
   },
   "outputs": [],
   "source": []
  },
  {
   "cell_type": "code",
   "execution_count": 5,
   "id": "035725cf",
   "metadata": {
    "ExecuteTime": {
     "end_time": "2022-04-26T23:58:13.723140Z",
     "start_time": "2022-04-26T23:58:13.717271Z"
    }
   },
   "outputs": [
    {
     "data": {
      "text/plain": [
       "2048"
      ]
     },
     "execution_count": 5,
     "metadata": {},
     "output_type": "execute_result"
    }
   ],
   "source": [
    "in_features = model.fc.in_features\n",
    "in_features"
   ]
  },
  {
   "cell_type": "code",
   "execution_count": 6,
   "id": "502f062c",
   "metadata": {
    "ExecuteTime": {
     "end_time": "2022-04-26T23:58:13.773272Z",
     "start_time": "2022-04-26T23:58:13.725494Z"
    }
   },
   "outputs": [
    {
     "data": {
      "text/plain": [
       "ResNet(\n",
       "  (conv1): Conv2d(3, 64, kernel_size=(7, 7), stride=(2, 2), padding=(3, 3), bias=False)\n",
       "  (bn1): BatchNorm2d(64, eps=1e-05, momentum=0.1, affine=True, track_running_stats=True)\n",
       "  (relu): ReLU(inplace=True)\n",
       "  (maxpool): MaxPool2d(kernel_size=3, stride=2, padding=1, dilation=1, ceil_mode=False)\n",
       "  (layer1): Sequential(\n",
       "    (0): Bottleneck(\n",
       "      (conv1): Conv2d(64, 64, kernel_size=(1, 1), stride=(1, 1), bias=False)\n",
       "      (bn1): BatchNorm2d(64, eps=1e-05, momentum=0.1, affine=True, track_running_stats=True)\n",
       "      (conv2): Conv2d(64, 64, kernel_size=(3, 3), stride=(1, 1), padding=(1, 1), bias=False)\n",
       "      (bn2): BatchNorm2d(64, eps=1e-05, momentum=0.1, affine=True, track_running_stats=True)\n",
       "      (conv3): Conv2d(64, 256, kernel_size=(1, 1), stride=(1, 1), bias=False)\n",
       "      (bn3): BatchNorm2d(256, eps=1e-05, momentum=0.1, affine=True, track_running_stats=True)\n",
       "      (relu): ReLU(inplace=True)\n",
       "      (downsample): Sequential(\n",
       "        (0): Conv2d(64, 256, kernel_size=(1, 1), stride=(1, 1), bias=False)\n",
       "        (1): BatchNorm2d(256, eps=1e-05, momentum=0.1, affine=True, track_running_stats=True)\n",
       "      )\n",
       "    )\n",
       "    (1): Bottleneck(\n",
       "      (conv1): Conv2d(256, 64, kernel_size=(1, 1), stride=(1, 1), bias=False)\n",
       "      (bn1): BatchNorm2d(64, eps=1e-05, momentum=0.1, affine=True, track_running_stats=True)\n",
       "      (conv2): Conv2d(64, 64, kernel_size=(3, 3), stride=(1, 1), padding=(1, 1), bias=False)\n",
       "      (bn2): BatchNorm2d(64, eps=1e-05, momentum=0.1, affine=True, track_running_stats=True)\n",
       "      (conv3): Conv2d(64, 256, kernel_size=(1, 1), stride=(1, 1), bias=False)\n",
       "      (bn3): BatchNorm2d(256, eps=1e-05, momentum=0.1, affine=True, track_running_stats=True)\n",
       "      (relu): ReLU(inplace=True)\n",
       "    )\n",
       "    (2): Bottleneck(\n",
       "      (conv1): Conv2d(256, 64, kernel_size=(1, 1), stride=(1, 1), bias=False)\n",
       "      (bn1): BatchNorm2d(64, eps=1e-05, momentum=0.1, affine=True, track_running_stats=True)\n",
       "      (conv2): Conv2d(64, 64, kernel_size=(3, 3), stride=(1, 1), padding=(1, 1), bias=False)\n",
       "      (bn2): BatchNorm2d(64, eps=1e-05, momentum=0.1, affine=True, track_running_stats=True)\n",
       "      (conv3): Conv2d(64, 256, kernel_size=(1, 1), stride=(1, 1), bias=False)\n",
       "      (bn3): BatchNorm2d(256, eps=1e-05, momentum=0.1, affine=True, track_running_stats=True)\n",
       "      (relu): ReLU(inplace=True)\n",
       "    )\n",
       "  )\n",
       "  (layer2): Sequential(\n",
       "    (0): Bottleneck(\n",
       "      (conv1): Conv2d(256, 128, kernel_size=(1, 1), stride=(1, 1), bias=False)\n",
       "      (bn1): BatchNorm2d(128, eps=1e-05, momentum=0.1, affine=True, track_running_stats=True)\n",
       "      (conv2): Conv2d(128, 128, kernel_size=(3, 3), stride=(2, 2), padding=(1, 1), bias=False)\n",
       "      (bn2): BatchNorm2d(128, eps=1e-05, momentum=0.1, affine=True, track_running_stats=True)\n",
       "      (conv3): Conv2d(128, 512, kernel_size=(1, 1), stride=(1, 1), bias=False)\n",
       "      (bn3): BatchNorm2d(512, eps=1e-05, momentum=0.1, affine=True, track_running_stats=True)\n",
       "      (relu): ReLU(inplace=True)\n",
       "      (downsample): Sequential(\n",
       "        (0): Conv2d(256, 512, kernel_size=(1, 1), stride=(2, 2), bias=False)\n",
       "        (1): BatchNorm2d(512, eps=1e-05, momentum=0.1, affine=True, track_running_stats=True)\n",
       "      )\n",
       "    )\n",
       "    (1): Bottleneck(\n",
       "      (conv1): Conv2d(512, 128, kernel_size=(1, 1), stride=(1, 1), bias=False)\n",
       "      (bn1): BatchNorm2d(128, eps=1e-05, momentum=0.1, affine=True, track_running_stats=True)\n",
       "      (conv2): Conv2d(128, 128, kernel_size=(3, 3), stride=(1, 1), padding=(1, 1), bias=False)\n",
       "      (bn2): BatchNorm2d(128, eps=1e-05, momentum=0.1, affine=True, track_running_stats=True)\n",
       "      (conv3): Conv2d(128, 512, kernel_size=(1, 1), stride=(1, 1), bias=False)\n",
       "      (bn3): BatchNorm2d(512, eps=1e-05, momentum=0.1, affine=True, track_running_stats=True)\n",
       "      (relu): ReLU(inplace=True)\n",
       "    )\n",
       "    (2): Bottleneck(\n",
       "      (conv1): Conv2d(512, 128, kernel_size=(1, 1), stride=(1, 1), bias=False)\n",
       "      (bn1): BatchNorm2d(128, eps=1e-05, momentum=0.1, affine=True, track_running_stats=True)\n",
       "      (conv2): Conv2d(128, 128, kernel_size=(3, 3), stride=(1, 1), padding=(1, 1), bias=False)\n",
       "      (bn2): BatchNorm2d(128, eps=1e-05, momentum=0.1, affine=True, track_running_stats=True)\n",
       "      (conv3): Conv2d(128, 512, kernel_size=(1, 1), stride=(1, 1), bias=False)\n",
       "      (bn3): BatchNorm2d(512, eps=1e-05, momentum=0.1, affine=True, track_running_stats=True)\n",
       "      (relu): ReLU(inplace=True)\n",
       "    )\n",
       "    (3): Bottleneck(\n",
       "      (conv1): Conv2d(512, 128, kernel_size=(1, 1), stride=(1, 1), bias=False)\n",
       "      (bn1): BatchNorm2d(128, eps=1e-05, momentum=0.1, affine=True, track_running_stats=True)\n",
       "      (conv2): Conv2d(128, 128, kernel_size=(3, 3), stride=(1, 1), padding=(1, 1), bias=False)\n",
       "      (bn2): BatchNorm2d(128, eps=1e-05, momentum=0.1, affine=True, track_running_stats=True)\n",
       "      (conv3): Conv2d(128, 512, kernel_size=(1, 1), stride=(1, 1), bias=False)\n",
       "      (bn3): BatchNorm2d(512, eps=1e-05, momentum=0.1, affine=True, track_running_stats=True)\n",
       "      (relu): ReLU(inplace=True)\n",
       "    )\n",
       "    (4): Bottleneck(\n",
       "      (conv1): Conv2d(512, 128, kernel_size=(1, 1), stride=(1, 1), bias=False)\n",
       "      (bn1): BatchNorm2d(128, eps=1e-05, momentum=0.1, affine=True, track_running_stats=True)\n",
       "      (conv2): Conv2d(128, 128, kernel_size=(3, 3), stride=(1, 1), padding=(1, 1), bias=False)\n",
       "      (bn2): BatchNorm2d(128, eps=1e-05, momentum=0.1, affine=True, track_running_stats=True)\n",
       "      (conv3): Conv2d(128, 512, kernel_size=(1, 1), stride=(1, 1), bias=False)\n",
       "      (bn3): BatchNorm2d(512, eps=1e-05, momentum=0.1, affine=True, track_running_stats=True)\n",
       "      (relu): ReLU(inplace=True)\n",
       "    )\n",
       "    (5): Bottleneck(\n",
       "      (conv1): Conv2d(512, 128, kernel_size=(1, 1), stride=(1, 1), bias=False)\n",
       "      (bn1): BatchNorm2d(128, eps=1e-05, momentum=0.1, affine=True, track_running_stats=True)\n",
       "      (conv2): Conv2d(128, 128, kernel_size=(3, 3), stride=(1, 1), padding=(1, 1), bias=False)\n",
       "      (bn2): BatchNorm2d(128, eps=1e-05, momentum=0.1, affine=True, track_running_stats=True)\n",
       "      (conv3): Conv2d(128, 512, kernel_size=(1, 1), stride=(1, 1), bias=False)\n",
       "      (bn3): BatchNorm2d(512, eps=1e-05, momentum=0.1, affine=True, track_running_stats=True)\n",
       "      (relu): ReLU(inplace=True)\n",
       "    )\n",
       "    (6): Bottleneck(\n",
       "      (conv1): Conv2d(512, 128, kernel_size=(1, 1), stride=(1, 1), bias=False)\n",
       "      (bn1): BatchNorm2d(128, eps=1e-05, momentum=0.1, affine=True, track_running_stats=True)\n",
       "      (conv2): Conv2d(128, 128, kernel_size=(3, 3), stride=(1, 1), padding=(1, 1), bias=False)\n",
       "      (bn2): BatchNorm2d(128, eps=1e-05, momentum=0.1, affine=True, track_running_stats=True)\n",
       "      (conv3): Conv2d(128, 512, kernel_size=(1, 1), stride=(1, 1), bias=False)\n",
       "      (bn3): BatchNorm2d(512, eps=1e-05, momentum=0.1, affine=True, track_running_stats=True)\n",
       "      (relu): ReLU(inplace=True)\n",
       "    )\n",
       "    (7): Bottleneck(\n",
       "      (conv1): Conv2d(512, 128, kernel_size=(1, 1), stride=(1, 1), bias=False)\n",
       "      (bn1): BatchNorm2d(128, eps=1e-05, momentum=0.1, affine=True, track_running_stats=True)\n",
       "      (conv2): Conv2d(128, 128, kernel_size=(3, 3), stride=(1, 1), padding=(1, 1), bias=False)\n",
       "      (bn2): BatchNorm2d(128, eps=1e-05, momentum=0.1, affine=True, track_running_stats=True)\n",
       "      (conv3): Conv2d(128, 512, kernel_size=(1, 1), stride=(1, 1), bias=False)\n",
       "      (bn3): BatchNorm2d(512, eps=1e-05, momentum=0.1, affine=True, track_running_stats=True)\n",
       "      (relu): ReLU(inplace=True)\n",
       "    )\n",
       "  )\n",
       "  (layer3): Sequential(\n",
       "    (0): Bottleneck(\n",
       "      (conv1): Conv2d(512, 256, kernel_size=(1, 1), stride=(1, 1), bias=False)\n",
       "      (bn1): BatchNorm2d(256, eps=1e-05, momentum=0.1, affine=True, track_running_stats=True)\n",
       "      (conv2): Conv2d(256, 256, kernel_size=(3, 3), stride=(2, 2), padding=(1, 1), bias=False)\n",
       "      (bn2): BatchNorm2d(256, eps=1e-05, momentum=0.1, affine=True, track_running_stats=True)\n",
       "      (conv3): Conv2d(256, 1024, kernel_size=(1, 1), stride=(1, 1), bias=False)\n",
       "      (bn3): BatchNorm2d(1024, eps=1e-05, momentum=0.1, affine=True, track_running_stats=True)\n",
       "      (relu): ReLU(inplace=True)\n",
       "      (downsample): Sequential(\n",
       "        (0): Conv2d(512, 1024, kernel_size=(1, 1), stride=(2, 2), bias=False)\n",
       "        (1): BatchNorm2d(1024, eps=1e-05, momentum=0.1, affine=True, track_running_stats=True)\n",
       "      )\n",
       "    )\n",
       "    (1): Bottleneck(\n",
       "      (conv1): Conv2d(1024, 256, kernel_size=(1, 1), stride=(1, 1), bias=False)\n",
       "      (bn1): BatchNorm2d(256, eps=1e-05, momentum=0.1, affine=True, track_running_stats=True)\n",
       "      (conv2): Conv2d(256, 256, kernel_size=(3, 3), stride=(1, 1), padding=(1, 1), bias=False)\n",
       "      (bn2): BatchNorm2d(256, eps=1e-05, momentum=0.1, affine=True, track_running_stats=True)\n",
       "      (conv3): Conv2d(256, 1024, kernel_size=(1, 1), stride=(1, 1), bias=False)\n",
       "      (bn3): BatchNorm2d(1024, eps=1e-05, momentum=0.1, affine=True, track_running_stats=True)\n",
       "      (relu): ReLU(inplace=True)\n",
       "    )\n",
       "    (2): Bottleneck(\n",
       "      (conv1): Conv2d(1024, 256, kernel_size=(1, 1), stride=(1, 1), bias=False)\n",
       "      (bn1): BatchNorm2d(256, eps=1e-05, momentum=0.1, affine=True, track_running_stats=True)\n",
       "      (conv2): Conv2d(256, 256, kernel_size=(3, 3), stride=(1, 1), padding=(1, 1), bias=False)\n",
       "      (bn2): BatchNorm2d(256, eps=1e-05, momentum=0.1, affine=True, track_running_stats=True)\n",
       "      (conv3): Conv2d(256, 1024, kernel_size=(1, 1), stride=(1, 1), bias=False)\n",
       "      (bn3): BatchNorm2d(1024, eps=1e-05, momentum=0.1, affine=True, track_running_stats=True)\n",
       "      (relu): ReLU(inplace=True)\n",
       "    )\n",
       "    (3): Bottleneck(\n",
       "      (conv1): Conv2d(1024, 256, kernel_size=(1, 1), stride=(1, 1), bias=False)\n",
       "      (bn1): BatchNorm2d(256, eps=1e-05, momentum=0.1, affine=True, track_running_stats=True)\n",
       "      (conv2): Conv2d(256, 256, kernel_size=(3, 3), stride=(1, 1), padding=(1, 1), bias=False)\n",
       "      (bn2): BatchNorm2d(256, eps=1e-05, momentum=0.1, affine=True, track_running_stats=True)\n",
       "      (conv3): Conv2d(256, 1024, kernel_size=(1, 1), stride=(1, 1), bias=False)\n",
       "      (bn3): BatchNorm2d(1024, eps=1e-05, momentum=0.1, affine=True, track_running_stats=True)\n",
       "      (relu): ReLU(inplace=True)\n",
       "    )\n",
       "    (4): Bottleneck(\n",
       "      (conv1): Conv2d(1024, 256, kernel_size=(1, 1), stride=(1, 1), bias=False)\n",
       "      (bn1): BatchNorm2d(256, eps=1e-05, momentum=0.1, affine=True, track_running_stats=True)\n",
       "      (conv2): Conv2d(256, 256, kernel_size=(3, 3), stride=(1, 1), padding=(1, 1), bias=False)\n",
       "      (bn2): BatchNorm2d(256, eps=1e-05, momentum=0.1, affine=True, track_running_stats=True)\n",
       "      (conv3): Conv2d(256, 1024, kernel_size=(1, 1), stride=(1, 1), bias=False)\n",
       "      (bn3): BatchNorm2d(1024, eps=1e-05, momentum=0.1, affine=True, track_running_stats=True)\n",
       "      (relu): ReLU(inplace=True)\n",
       "    )\n",
       "    (5): Bottleneck(\n",
       "      (conv1): Conv2d(1024, 256, kernel_size=(1, 1), stride=(1, 1), bias=False)\n",
       "      (bn1): BatchNorm2d(256, eps=1e-05, momentum=0.1, affine=True, track_running_stats=True)\n",
       "      (conv2): Conv2d(256, 256, kernel_size=(3, 3), stride=(1, 1), padding=(1, 1), bias=False)\n",
       "      (bn2): BatchNorm2d(256, eps=1e-05, momentum=0.1, affine=True, track_running_stats=True)\n",
       "      (conv3): Conv2d(256, 1024, kernel_size=(1, 1), stride=(1, 1), bias=False)\n",
       "      (bn3): BatchNorm2d(1024, eps=1e-05, momentum=0.1, affine=True, track_running_stats=True)\n",
       "      (relu): ReLU(inplace=True)\n",
       "    )\n",
       "    (6): Bottleneck(\n",
       "      (conv1): Conv2d(1024, 256, kernel_size=(1, 1), stride=(1, 1), bias=False)\n",
       "      (bn1): BatchNorm2d(256, eps=1e-05, momentum=0.1, affine=True, track_running_stats=True)\n",
       "      (conv2): Conv2d(256, 256, kernel_size=(3, 3), stride=(1, 1), padding=(1, 1), bias=False)\n",
       "      (bn2): BatchNorm2d(256, eps=1e-05, momentum=0.1, affine=True, track_running_stats=True)\n",
       "      (conv3): Conv2d(256, 1024, kernel_size=(1, 1), stride=(1, 1), bias=False)\n",
       "      (bn3): BatchNorm2d(1024, eps=1e-05, momentum=0.1, affine=True, track_running_stats=True)\n",
       "      (relu): ReLU(inplace=True)\n",
       "    )\n",
       "    (7): Bottleneck(\n",
       "      (conv1): Conv2d(1024, 256, kernel_size=(1, 1), stride=(1, 1), bias=False)\n",
       "      (bn1): BatchNorm2d(256, eps=1e-05, momentum=0.1, affine=True, track_running_stats=True)\n",
       "      (conv2): Conv2d(256, 256, kernel_size=(3, 3), stride=(1, 1), padding=(1, 1), bias=False)\n",
       "      (bn2): BatchNorm2d(256, eps=1e-05, momentum=0.1, affine=True, track_running_stats=True)\n",
       "      (conv3): Conv2d(256, 1024, kernel_size=(1, 1), stride=(1, 1), bias=False)\n",
       "      (bn3): BatchNorm2d(1024, eps=1e-05, momentum=0.1, affine=True, track_running_stats=True)\n",
       "      (relu): ReLU(inplace=True)\n",
       "    )\n",
       "    (8): Bottleneck(\n",
       "      (conv1): Conv2d(1024, 256, kernel_size=(1, 1), stride=(1, 1), bias=False)\n",
       "      (bn1): BatchNorm2d(256, eps=1e-05, momentum=0.1, affine=True, track_running_stats=True)\n",
       "      (conv2): Conv2d(256, 256, kernel_size=(3, 3), stride=(1, 1), padding=(1, 1), bias=False)\n",
       "      (bn2): BatchNorm2d(256, eps=1e-05, momentum=0.1, affine=True, track_running_stats=True)\n",
       "      (conv3): Conv2d(256, 1024, kernel_size=(1, 1), stride=(1, 1), bias=False)\n",
       "      (bn3): BatchNorm2d(1024, eps=1e-05, momentum=0.1, affine=True, track_running_stats=True)\n",
       "      (relu): ReLU(inplace=True)\n",
       "    )\n",
       "    (9): Bottleneck(\n",
       "      (conv1): Conv2d(1024, 256, kernel_size=(1, 1), stride=(1, 1), bias=False)\n",
       "      (bn1): BatchNorm2d(256, eps=1e-05, momentum=0.1, affine=True, track_running_stats=True)\n",
       "      (conv2): Conv2d(256, 256, kernel_size=(3, 3), stride=(1, 1), padding=(1, 1), bias=False)\n",
       "      (bn2): BatchNorm2d(256, eps=1e-05, momentum=0.1, affine=True, track_running_stats=True)\n",
       "      (conv3): Conv2d(256, 1024, kernel_size=(1, 1), stride=(1, 1), bias=False)\n",
       "      (bn3): BatchNorm2d(1024, eps=1e-05, momentum=0.1, affine=True, track_running_stats=True)\n",
       "      (relu): ReLU(inplace=True)\n",
       "    )\n",
       "    (10): Bottleneck(\n",
       "      (conv1): Conv2d(1024, 256, kernel_size=(1, 1), stride=(1, 1), bias=False)\n",
       "      (bn1): BatchNorm2d(256, eps=1e-05, momentum=0.1, affine=True, track_running_stats=True)\n",
       "      (conv2): Conv2d(256, 256, kernel_size=(3, 3), stride=(1, 1), padding=(1, 1), bias=False)\n",
       "      (bn2): BatchNorm2d(256, eps=1e-05, momentum=0.1, affine=True, track_running_stats=True)\n",
       "      (conv3): Conv2d(256, 1024, kernel_size=(1, 1), stride=(1, 1), bias=False)\n",
       "      (bn3): BatchNorm2d(1024, eps=1e-05, momentum=0.1, affine=True, track_running_stats=True)\n",
       "      (relu): ReLU(inplace=True)\n",
       "    )\n",
       "    (11): Bottleneck(\n",
       "      (conv1): Conv2d(1024, 256, kernel_size=(1, 1), stride=(1, 1), bias=False)\n",
       "      (bn1): BatchNorm2d(256, eps=1e-05, momentum=0.1, affine=True, track_running_stats=True)\n",
       "      (conv2): Conv2d(256, 256, kernel_size=(3, 3), stride=(1, 1), padding=(1, 1), bias=False)\n",
       "      (bn2): BatchNorm2d(256, eps=1e-05, momentum=0.1, affine=True, track_running_stats=True)\n",
       "      (conv3): Conv2d(256, 1024, kernel_size=(1, 1), stride=(1, 1), bias=False)\n",
       "      (bn3): BatchNorm2d(1024, eps=1e-05, momentum=0.1, affine=True, track_running_stats=True)\n",
       "      (relu): ReLU(inplace=True)\n",
       "    )\n",
       "    (12): Bottleneck(\n",
       "      (conv1): Conv2d(1024, 256, kernel_size=(1, 1), stride=(1, 1), bias=False)\n",
       "      (bn1): BatchNorm2d(256, eps=1e-05, momentum=0.1, affine=True, track_running_stats=True)\n",
       "      (conv2): Conv2d(256, 256, kernel_size=(3, 3), stride=(1, 1), padding=(1, 1), bias=False)\n",
       "      (bn2): BatchNorm2d(256, eps=1e-05, momentum=0.1, affine=True, track_running_stats=True)\n",
       "      (conv3): Conv2d(256, 1024, kernel_size=(1, 1), stride=(1, 1), bias=False)\n",
       "      (bn3): BatchNorm2d(1024, eps=1e-05, momentum=0.1, affine=True, track_running_stats=True)\n",
       "      (relu): ReLU(inplace=True)\n",
       "    )\n",
       "    (13): Bottleneck(\n",
       "      (conv1): Conv2d(1024, 256, kernel_size=(1, 1), stride=(1, 1), bias=False)\n",
       "      (bn1): BatchNorm2d(256, eps=1e-05, momentum=0.1, affine=True, track_running_stats=True)\n",
       "      (conv2): Conv2d(256, 256, kernel_size=(3, 3), stride=(1, 1), padding=(1, 1), bias=False)\n",
       "      (bn2): BatchNorm2d(256, eps=1e-05, momentum=0.1, affine=True, track_running_stats=True)\n",
       "      (conv3): Conv2d(256, 1024, kernel_size=(1, 1), stride=(1, 1), bias=False)\n",
       "      (bn3): BatchNorm2d(1024, eps=1e-05, momentum=0.1, affine=True, track_running_stats=True)\n",
       "      (relu): ReLU(inplace=True)\n",
       "    )\n",
       "    (14): Bottleneck(\n",
       "      (conv1): Conv2d(1024, 256, kernel_size=(1, 1), stride=(1, 1), bias=False)\n",
       "      (bn1): BatchNorm2d(256, eps=1e-05, momentum=0.1, affine=True, track_running_stats=True)\n",
       "      (conv2): Conv2d(256, 256, kernel_size=(3, 3), stride=(1, 1), padding=(1, 1), bias=False)\n",
       "      (bn2): BatchNorm2d(256, eps=1e-05, momentum=0.1, affine=True, track_running_stats=True)\n",
       "      (conv3): Conv2d(256, 1024, kernel_size=(1, 1), stride=(1, 1), bias=False)\n",
       "      (bn3): BatchNorm2d(1024, eps=1e-05, momentum=0.1, affine=True, track_running_stats=True)\n",
       "      (relu): ReLU(inplace=True)\n",
       "    )\n",
       "    (15): Bottleneck(\n",
       "      (conv1): Conv2d(1024, 256, kernel_size=(1, 1), stride=(1, 1), bias=False)\n",
       "      (bn1): BatchNorm2d(256, eps=1e-05, momentum=0.1, affine=True, track_running_stats=True)\n",
       "      (conv2): Conv2d(256, 256, kernel_size=(3, 3), stride=(1, 1), padding=(1, 1), bias=False)\n",
       "      (bn2): BatchNorm2d(256, eps=1e-05, momentum=0.1, affine=True, track_running_stats=True)\n",
       "      (conv3): Conv2d(256, 1024, kernel_size=(1, 1), stride=(1, 1), bias=False)\n",
       "      (bn3): BatchNorm2d(1024, eps=1e-05, momentum=0.1, affine=True, track_running_stats=True)\n",
       "      (relu): ReLU(inplace=True)\n",
       "    )\n",
       "    (16): Bottleneck(\n",
       "      (conv1): Conv2d(1024, 256, kernel_size=(1, 1), stride=(1, 1), bias=False)\n",
       "      (bn1): BatchNorm2d(256, eps=1e-05, momentum=0.1, affine=True, track_running_stats=True)\n",
       "      (conv2): Conv2d(256, 256, kernel_size=(3, 3), stride=(1, 1), padding=(1, 1), bias=False)\n",
       "      (bn2): BatchNorm2d(256, eps=1e-05, momentum=0.1, affine=True, track_running_stats=True)\n",
       "      (conv3): Conv2d(256, 1024, kernel_size=(1, 1), stride=(1, 1), bias=False)\n",
       "      (bn3): BatchNorm2d(1024, eps=1e-05, momentum=0.1, affine=True, track_running_stats=True)\n",
       "      (relu): ReLU(inplace=True)\n",
       "    )\n",
       "    (17): Bottleneck(\n",
       "      (conv1): Conv2d(1024, 256, kernel_size=(1, 1), stride=(1, 1), bias=False)\n",
       "      (bn1): BatchNorm2d(256, eps=1e-05, momentum=0.1, affine=True, track_running_stats=True)\n",
       "      (conv2): Conv2d(256, 256, kernel_size=(3, 3), stride=(1, 1), padding=(1, 1), bias=False)\n",
       "      (bn2): BatchNorm2d(256, eps=1e-05, momentum=0.1, affine=True, track_running_stats=True)\n",
       "      (conv3): Conv2d(256, 1024, kernel_size=(1, 1), stride=(1, 1), bias=False)\n",
       "      (bn3): BatchNorm2d(1024, eps=1e-05, momentum=0.1, affine=True, track_running_stats=True)\n",
       "      (relu): ReLU(inplace=True)\n",
       "    )\n",
       "    (18): Bottleneck(\n",
       "      (conv1): Conv2d(1024, 256, kernel_size=(1, 1), stride=(1, 1), bias=False)\n",
       "      (bn1): BatchNorm2d(256, eps=1e-05, momentum=0.1, affine=True, track_running_stats=True)\n",
       "      (conv2): Conv2d(256, 256, kernel_size=(3, 3), stride=(1, 1), padding=(1, 1), bias=False)\n",
       "      (bn2): BatchNorm2d(256, eps=1e-05, momentum=0.1, affine=True, track_running_stats=True)\n",
       "      (conv3): Conv2d(256, 1024, kernel_size=(1, 1), stride=(1, 1), bias=False)\n",
       "      (bn3): BatchNorm2d(1024, eps=1e-05, momentum=0.1, affine=True, track_running_stats=True)\n",
       "      (relu): ReLU(inplace=True)\n",
       "    )\n",
       "    (19): Bottleneck(\n",
       "      (conv1): Conv2d(1024, 256, kernel_size=(1, 1), stride=(1, 1), bias=False)\n",
       "      (bn1): BatchNorm2d(256, eps=1e-05, momentum=0.1, affine=True, track_running_stats=True)\n",
       "      (conv2): Conv2d(256, 256, kernel_size=(3, 3), stride=(1, 1), padding=(1, 1), bias=False)\n",
       "      (bn2): BatchNorm2d(256, eps=1e-05, momentum=0.1, affine=True, track_running_stats=True)\n",
       "      (conv3): Conv2d(256, 1024, kernel_size=(1, 1), stride=(1, 1), bias=False)\n",
       "      (bn3): BatchNorm2d(1024, eps=1e-05, momentum=0.1, affine=True, track_running_stats=True)\n",
       "      (relu): ReLU(inplace=True)\n",
       "    )\n",
       "    (20): Bottleneck(\n",
       "      (conv1): Conv2d(1024, 256, kernel_size=(1, 1), stride=(1, 1), bias=False)\n",
       "      (bn1): BatchNorm2d(256, eps=1e-05, momentum=0.1, affine=True, track_running_stats=True)\n",
       "      (conv2): Conv2d(256, 256, kernel_size=(3, 3), stride=(1, 1), padding=(1, 1), bias=False)\n",
       "      (bn2): BatchNorm2d(256, eps=1e-05, momentum=0.1, affine=True, track_running_stats=True)\n",
       "      (conv3): Conv2d(256, 1024, kernel_size=(1, 1), stride=(1, 1), bias=False)\n",
       "      (bn3): BatchNorm2d(1024, eps=1e-05, momentum=0.1, affine=True, track_running_stats=True)\n",
       "      (relu): ReLU(inplace=True)\n",
       "    )\n",
       "    (21): Bottleneck(\n",
       "      (conv1): Conv2d(1024, 256, kernel_size=(1, 1), stride=(1, 1), bias=False)\n",
       "      (bn1): BatchNorm2d(256, eps=1e-05, momentum=0.1, affine=True, track_running_stats=True)\n",
       "      (conv2): Conv2d(256, 256, kernel_size=(3, 3), stride=(1, 1), padding=(1, 1), bias=False)\n",
       "      (bn2): BatchNorm2d(256, eps=1e-05, momentum=0.1, affine=True, track_running_stats=True)\n",
       "      (conv3): Conv2d(256, 1024, kernel_size=(1, 1), stride=(1, 1), bias=False)\n",
       "      (bn3): BatchNorm2d(1024, eps=1e-05, momentum=0.1, affine=True, track_running_stats=True)\n",
       "      (relu): ReLU(inplace=True)\n",
       "    )\n",
       "    (22): Bottleneck(\n",
       "      (conv1): Conv2d(1024, 256, kernel_size=(1, 1), stride=(1, 1), bias=False)\n",
       "      (bn1): BatchNorm2d(256, eps=1e-05, momentum=0.1, affine=True, track_running_stats=True)\n",
       "      (conv2): Conv2d(256, 256, kernel_size=(3, 3), stride=(1, 1), padding=(1, 1), bias=False)\n",
       "      (bn2): BatchNorm2d(256, eps=1e-05, momentum=0.1, affine=True, track_running_stats=True)\n",
       "      (conv3): Conv2d(256, 1024, kernel_size=(1, 1), stride=(1, 1), bias=False)\n",
       "      (bn3): BatchNorm2d(1024, eps=1e-05, momentum=0.1, affine=True, track_running_stats=True)\n",
       "      (relu): ReLU(inplace=True)\n",
       "    )\n",
       "    (23): Bottleneck(\n",
       "      (conv1): Conv2d(1024, 256, kernel_size=(1, 1), stride=(1, 1), bias=False)\n",
       "      (bn1): BatchNorm2d(256, eps=1e-05, momentum=0.1, affine=True, track_running_stats=True)\n",
       "      (conv2): Conv2d(256, 256, kernel_size=(3, 3), stride=(1, 1), padding=(1, 1), bias=False)\n",
       "      (bn2): BatchNorm2d(256, eps=1e-05, momentum=0.1, affine=True, track_running_stats=True)\n",
       "      (conv3): Conv2d(256, 1024, kernel_size=(1, 1), stride=(1, 1), bias=False)\n",
       "      (bn3): BatchNorm2d(1024, eps=1e-05, momentum=0.1, affine=True, track_running_stats=True)\n",
       "      (relu): ReLU(inplace=True)\n",
       "    )\n",
       "    (24): Bottleneck(\n",
       "      (conv1): Conv2d(1024, 256, kernel_size=(1, 1), stride=(1, 1), bias=False)\n",
       "      (bn1): BatchNorm2d(256, eps=1e-05, momentum=0.1, affine=True, track_running_stats=True)\n",
       "      (conv2): Conv2d(256, 256, kernel_size=(3, 3), stride=(1, 1), padding=(1, 1), bias=False)\n",
       "      (bn2): BatchNorm2d(256, eps=1e-05, momentum=0.1, affine=True, track_running_stats=True)\n",
       "      (conv3): Conv2d(256, 1024, kernel_size=(1, 1), stride=(1, 1), bias=False)\n",
       "      (bn3): BatchNorm2d(1024, eps=1e-05, momentum=0.1, affine=True, track_running_stats=True)\n",
       "      (relu): ReLU(inplace=True)\n",
       "    )\n",
       "    (25): Bottleneck(\n",
       "      (conv1): Conv2d(1024, 256, kernel_size=(1, 1), stride=(1, 1), bias=False)\n",
       "      (bn1): BatchNorm2d(256, eps=1e-05, momentum=0.1, affine=True, track_running_stats=True)\n",
       "      (conv2): Conv2d(256, 256, kernel_size=(3, 3), stride=(1, 1), padding=(1, 1), bias=False)\n",
       "      (bn2): BatchNorm2d(256, eps=1e-05, momentum=0.1, affine=True, track_running_stats=True)\n",
       "      (conv3): Conv2d(256, 1024, kernel_size=(1, 1), stride=(1, 1), bias=False)\n",
       "      (bn3): BatchNorm2d(1024, eps=1e-05, momentum=0.1, affine=True, track_running_stats=True)\n",
       "      (relu): ReLU(inplace=True)\n",
       "    )\n",
       "    (26): Bottleneck(\n",
       "      (conv1): Conv2d(1024, 256, kernel_size=(1, 1), stride=(1, 1), bias=False)\n",
       "      (bn1): BatchNorm2d(256, eps=1e-05, momentum=0.1, affine=True, track_running_stats=True)\n",
       "      (conv2): Conv2d(256, 256, kernel_size=(3, 3), stride=(1, 1), padding=(1, 1), bias=False)\n",
       "      (bn2): BatchNorm2d(256, eps=1e-05, momentum=0.1, affine=True, track_running_stats=True)\n",
       "      (conv3): Conv2d(256, 1024, kernel_size=(1, 1), stride=(1, 1), bias=False)\n",
       "      (bn3): BatchNorm2d(1024, eps=1e-05, momentum=0.1, affine=True, track_running_stats=True)\n",
       "      (relu): ReLU(inplace=True)\n",
       "    )\n",
       "    (27): Bottleneck(\n",
       "      (conv1): Conv2d(1024, 256, kernel_size=(1, 1), stride=(1, 1), bias=False)\n",
       "      (bn1): BatchNorm2d(256, eps=1e-05, momentum=0.1, affine=True, track_running_stats=True)\n",
       "      (conv2): Conv2d(256, 256, kernel_size=(3, 3), stride=(1, 1), padding=(1, 1), bias=False)\n",
       "      (bn2): BatchNorm2d(256, eps=1e-05, momentum=0.1, affine=True, track_running_stats=True)\n",
       "      (conv3): Conv2d(256, 1024, kernel_size=(1, 1), stride=(1, 1), bias=False)\n",
       "      (bn3): BatchNorm2d(1024, eps=1e-05, momentum=0.1, affine=True, track_running_stats=True)\n",
       "      (relu): ReLU(inplace=True)\n",
       "    )\n",
       "    (28): Bottleneck(\n",
       "      (conv1): Conv2d(1024, 256, kernel_size=(1, 1), stride=(1, 1), bias=False)\n",
       "      (bn1): BatchNorm2d(256, eps=1e-05, momentum=0.1, affine=True, track_running_stats=True)\n",
       "      (conv2): Conv2d(256, 256, kernel_size=(3, 3), stride=(1, 1), padding=(1, 1), bias=False)\n",
       "      (bn2): BatchNorm2d(256, eps=1e-05, momentum=0.1, affine=True, track_running_stats=True)\n",
       "      (conv3): Conv2d(256, 1024, kernel_size=(1, 1), stride=(1, 1), bias=False)\n",
       "      (bn3): BatchNorm2d(1024, eps=1e-05, momentum=0.1, affine=True, track_running_stats=True)\n",
       "      (relu): ReLU(inplace=True)\n",
       "    )\n",
       "    (29): Bottleneck(\n",
       "      (conv1): Conv2d(1024, 256, kernel_size=(1, 1), stride=(1, 1), bias=False)\n",
       "      (bn1): BatchNorm2d(256, eps=1e-05, momentum=0.1, affine=True, track_running_stats=True)\n",
       "      (conv2): Conv2d(256, 256, kernel_size=(3, 3), stride=(1, 1), padding=(1, 1), bias=False)\n",
       "      (bn2): BatchNorm2d(256, eps=1e-05, momentum=0.1, affine=True, track_running_stats=True)\n",
       "      (conv3): Conv2d(256, 1024, kernel_size=(1, 1), stride=(1, 1), bias=False)\n",
       "      (bn3): BatchNorm2d(1024, eps=1e-05, momentum=0.1, affine=True, track_running_stats=True)\n",
       "      (relu): ReLU(inplace=True)\n",
       "    )\n",
       "    (30): Bottleneck(\n",
       "      (conv1): Conv2d(1024, 256, kernel_size=(1, 1), stride=(1, 1), bias=False)\n",
       "      (bn1): BatchNorm2d(256, eps=1e-05, momentum=0.1, affine=True, track_running_stats=True)\n",
       "      (conv2): Conv2d(256, 256, kernel_size=(3, 3), stride=(1, 1), padding=(1, 1), bias=False)\n",
       "      (bn2): BatchNorm2d(256, eps=1e-05, momentum=0.1, affine=True, track_running_stats=True)\n",
       "      (conv3): Conv2d(256, 1024, kernel_size=(1, 1), stride=(1, 1), bias=False)\n",
       "      (bn3): BatchNorm2d(1024, eps=1e-05, momentum=0.1, affine=True, track_running_stats=True)\n",
       "      (relu): ReLU(inplace=True)\n",
       "    )\n",
       "    (31): Bottleneck(\n",
       "      (conv1): Conv2d(1024, 256, kernel_size=(1, 1), stride=(1, 1), bias=False)\n",
       "      (bn1): BatchNorm2d(256, eps=1e-05, momentum=0.1, affine=True, track_running_stats=True)\n",
       "      (conv2): Conv2d(256, 256, kernel_size=(3, 3), stride=(1, 1), padding=(1, 1), bias=False)\n",
       "      (bn2): BatchNorm2d(256, eps=1e-05, momentum=0.1, affine=True, track_running_stats=True)\n",
       "      (conv3): Conv2d(256, 1024, kernel_size=(1, 1), stride=(1, 1), bias=False)\n",
       "      (bn3): BatchNorm2d(1024, eps=1e-05, momentum=0.1, affine=True, track_running_stats=True)\n",
       "      (relu): ReLU(inplace=True)\n",
       "    )\n",
       "    (32): Bottleneck(\n",
       "      (conv1): Conv2d(1024, 256, kernel_size=(1, 1), stride=(1, 1), bias=False)\n",
       "      (bn1): BatchNorm2d(256, eps=1e-05, momentum=0.1, affine=True, track_running_stats=True)\n",
       "      (conv2): Conv2d(256, 256, kernel_size=(3, 3), stride=(1, 1), padding=(1, 1), bias=False)\n",
       "      (bn2): BatchNorm2d(256, eps=1e-05, momentum=0.1, affine=True, track_running_stats=True)\n",
       "      (conv3): Conv2d(256, 1024, kernel_size=(1, 1), stride=(1, 1), bias=False)\n",
       "      (bn3): BatchNorm2d(1024, eps=1e-05, momentum=0.1, affine=True, track_running_stats=True)\n",
       "      (relu): ReLU(inplace=True)\n",
       "    )\n",
       "    (33): Bottleneck(\n",
       "      (conv1): Conv2d(1024, 256, kernel_size=(1, 1), stride=(1, 1), bias=False)\n",
       "      (bn1): BatchNorm2d(256, eps=1e-05, momentum=0.1, affine=True, track_running_stats=True)\n",
       "      (conv2): Conv2d(256, 256, kernel_size=(3, 3), stride=(1, 1), padding=(1, 1), bias=False)\n",
       "      (bn2): BatchNorm2d(256, eps=1e-05, momentum=0.1, affine=True, track_running_stats=True)\n",
       "      (conv3): Conv2d(256, 1024, kernel_size=(1, 1), stride=(1, 1), bias=False)\n",
       "      (bn3): BatchNorm2d(1024, eps=1e-05, momentum=0.1, affine=True, track_running_stats=True)\n",
       "      (relu): ReLU(inplace=True)\n",
       "    )\n",
       "    (34): Bottleneck(\n",
       "      (conv1): Conv2d(1024, 256, kernel_size=(1, 1), stride=(1, 1), bias=False)\n",
       "      (bn1): BatchNorm2d(256, eps=1e-05, momentum=0.1, affine=True, track_running_stats=True)\n",
       "      (conv2): Conv2d(256, 256, kernel_size=(3, 3), stride=(1, 1), padding=(1, 1), bias=False)\n",
       "      (bn2): BatchNorm2d(256, eps=1e-05, momentum=0.1, affine=True, track_running_stats=True)\n",
       "      (conv3): Conv2d(256, 1024, kernel_size=(1, 1), stride=(1, 1), bias=False)\n",
       "      (bn3): BatchNorm2d(1024, eps=1e-05, momentum=0.1, affine=True, track_running_stats=True)\n",
       "      (relu): ReLU(inplace=True)\n",
       "    )\n",
       "    (35): Bottleneck(\n",
       "      (conv1): Conv2d(1024, 256, kernel_size=(1, 1), stride=(1, 1), bias=False)\n",
       "      (bn1): BatchNorm2d(256, eps=1e-05, momentum=0.1, affine=True, track_running_stats=True)\n",
       "      (conv2): Conv2d(256, 256, kernel_size=(3, 3), stride=(1, 1), padding=(1, 1), bias=False)\n",
       "      (bn2): BatchNorm2d(256, eps=1e-05, momentum=0.1, affine=True, track_running_stats=True)\n",
       "      (conv3): Conv2d(256, 1024, kernel_size=(1, 1), stride=(1, 1), bias=False)\n",
       "      (bn3): BatchNorm2d(1024, eps=1e-05, momentum=0.1, affine=True, track_running_stats=True)\n",
       "      (relu): ReLU(inplace=True)\n",
       "    )\n",
       "  )\n",
       "  (layer4): Sequential(\n",
       "    (0): Bottleneck(\n",
       "      (conv1): Conv2d(1024, 512, kernel_size=(1, 1), stride=(1, 1), bias=False)\n",
       "      (bn1): BatchNorm2d(512, eps=1e-05, momentum=0.1, affine=True, track_running_stats=True)\n",
       "      (conv2): Conv2d(512, 512, kernel_size=(3, 3), stride=(2, 2), padding=(1, 1), bias=False)\n",
       "      (bn2): BatchNorm2d(512, eps=1e-05, momentum=0.1, affine=True, track_running_stats=True)\n",
       "      (conv3): Conv2d(512, 2048, kernel_size=(1, 1), stride=(1, 1), bias=False)\n",
       "      (bn3): BatchNorm2d(2048, eps=1e-05, momentum=0.1, affine=True, track_running_stats=True)\n",
       "      (relu): ReLU(inplace=True)\n",
       "      (downsample): Sequential(\n",
       "        (0): Conv2d(1024, 2048, kernel_size=(1, 1), stride=(2, 2), bias=False)\n",
       "        (1): BatchNorm2d(2048, eps=1e-05, momentum=0.1, affine=True, track_running_stats=True)\n",
       "      )\n",
       "    )\n",
       "    (1): Bottleneck(\n",
       "      (conv1): Conv2d(2048, 512, kernel_size=(1, 1), stride=(1, 1), bias=False)\n",
       "      (bn1): BatchNorm2d(512, eps=1e-05, momentum=0.1, affine=True, track_running_stats=True)\n",
       "      (conv2): Conv2d(512, 512, kernel_size=(3, 3), stride=(1, 1), padding=(1, 1), bias=False)\n",
       "      (bn2): BatchNorm2d(512, eps=1e-05, momentum=0.1, affine=True, track_running_stats=True)\n",
       "      (conv3): Conv2d(512, 2048, kernel_size=(1, 1), stride=(1, 1), bias=False)\n",
       "      (bn3): BatchNorm2d(2048, eps=1e-05, momentum=0.1, affine=True, track_running_stats=True)\n",
       "      (relu): ReLU(inplace=True)\n",
       "    )\n",
       "    (2): Bottleneck(\n",
       "      (conv1): Conv2d(2048, 512, kernel_size=(1, 1), stride=(1, 1), bias=False)\n",
       "      (bn1): BatchNorm2d(512, eps=1e-05, momentum=0.1, affine=True, track_running_stats=True)\n",
       "      (conv2): Conv2d(512, 512, kernel_size=(3, 3), stride=(1, 1), padding=(1, 1), bias=False)\n",
       "      (bn2): BatchNorm2d(512, eps=1e-05, momentum=0.1, affine=True, track_running_stats=True)\n",
       "      (conv3): Conv2d(512, 2048, kernel_size=(1, 1), stride=(1, 1), bias=False)\n",
       "      (bn3): BatchNorm2d(2048, eps=1e-05, momentum=0.1, affine=True, track_running_stats=True)\n",
       "      (relu): ReLU(inplace=True)\n",
       "    )\n",
       "  )\n",
       "  (avgpool): AdaptiveAvgPool2d(output_size=(1, 1))\n",
       "  (fc): Linear(in_features=2048, out_features=102, bias=True)\n",
       ")"
      ]
     },
     "execution_count": 6,
     "metadata": {},
     "output_type": "execute_result"
    }
   ],
   "source": [
    "model.fc = nn.Linear(in_features, 102) # set in_features and out_features\n",
    "model.train()"
   ]
  },
  {
   "cell_type": "code",
   "execution_count": 7,
   "id": "d923adb4",
   "metadata": {
    "ExecuteTime": {
     "end_time": "2022-04-26T23:58:13.813471Z",
     "start_time": "2022-04-26T23:58:13.775602Z"
    }
   },
   "outputs": [
    {
     "name": "stdout",
     "output_type": "stream",
     "text": [
      "Freeze conv1.weight\n",
      "Freeze bn1.weight\n",
      "Freeze bn1.bias\n",
      "Freeze layer1.0.conv1.weight\n",
      "Freeze layer1.0.bn1.weight\n",
      "Freeze layer1.0.bn1.bias\n",
      "Freeze layer1.0.conv2.weight\n",
      "Freeze layer1.0.bn2.weight\n",
      "Freeze layer1.0.bn2.bias\n",
      "Freeze layer1.0.conv3.weight\n",
      "Freeze layer1.0.bn3.weight\n",
      "Freeze layer1.0.bn3.bias\n",
      "Freeze layer1.0.downsample.0.weight\n",
      "Freeze layer1.0.downsample.1.weight\n",
      "Freeze layer1.0.downsample.1.bias\n",
      "Freeze layer1.1.conv1.weight\n",
      "Freeze layer1.1.bn1.weight\n",
      "Freeze layer1.1.bn1.bias\n",
      "Freeze layer1.1.conv2.weight\n",
      "Freeze layer1.1.bn2.weight\n",
      "Freeze layer1.1.bn2.bias\n",
      "Freeze layer1.1.conv3.weight\n",
      "Freeze layer1.1.bn3.weight\n",
      "Freeze layer1.1.bn3.bias\n",
      "Freeze layer1.2.conv1.weight\n",
      "Freeze layer1.2.bn1.weight\n",
      "Freeze layer1.2.bn1.bias\n",
      "Freeze layer1.2.conv2.weight\n",
      "Freeze layer1.2.bn2.weight\n",
      "Freeze layer1.2.bn2.bias\n",
      "Freeze layer1.2.conv3.weight\n",
      "Freeze layer1.2.bn3.weight\n",
      "Freeze layer1.2.bn3.bias\n",
      "Freeze layer2.0.conv1.weight\n",
      "Freeze layer2.0.bn1.weight\n",
      "Freeze layer2.0.bn1.bias\n",
      "Freeze layer2.0.conv2.weight\n",
      "Freeze layer2.0.bn2.weight\n",
      "Freeze layer2.0.bn2.bias\n",
      "Freeze layer2.0.conv3.weight\n",
      "Freeze layer2.0.bn3.weight\n",
      "Freeze layer2.0.bn3.bias\n",
      "Freeze layer2.0.downsample.0.weight\n",
      "Freeze layer2.0.downsample.1.weight\n",
      "Freeze layer2.0.downsample.1.bias\n",
      "Freeze layer2.1.conv1.weight\n",
      "Freeze layer2.1.bn1.weight\n",
      "Freeze layer2.1.bn1.bias\n",
      "Freeze layer2.1.conv2.weight\n",
      "Freeze layer2.1.bn2.weight\n",
      "Freeze layer2.1.bn2.bias\n",
      "Freeze layer2.1.conv3.weight\n",
      "Freeze layer2.1.bn3.weight\n",
      "Freeze layer2.1.bn3.bias\n",
      "Freeze layer2.2.conv1.weight\n",
      "Freeze layer2.2.bn1.weight\n",
      "Freeze layer2.2.bn1.bias\n",
      "Freeze layer2.2.conv2.weight\n",
      "Freeze layer2.2.bn2.weight\n",
      "Freeze layer2.2.bn2.bias\n",
      "Freeze layer2.2.conv3.weight\n",
      "Freeze layer2.2.bn3.weight\n",
      "Freeze layer2.2.bn3.bias\n",
      "Freeze layer2.3.conv1.weight\n",
      "Freeze layer2.3.bn1.weight\n",
      "Freeze layer2.3.bn1.bias\n",
      "Freeze layer2.3.conv2.weight\n",
      "Freeze layer2.3.bn2.weight\n",
      "Freeze layer2.3.bn2.bias\n",
      "Freeze layer2.3.conv3.weight\n",
      "Freeze layer2.3.bn3.weight\n",
      "Freeze layer2.3.bn3.bias\n",
      "Freeze layer2.4.conv1.weight\n",
      "Freeze layer2.4.bn1.weight\n",
      "Freeze layer2.4.bn1.bias\n",
      "Freeze layer2.4.conv2.weight\n",
      "Freeze layer2.4.bn2.weight\n",
      "Freeze layer2.4.bn2.bias\n",
      "Freeze layer2.4.conv3.weight\n",
      "Freeze layer2.4.bn3.weight\n",
      "Freeze layer2.4.bn3.bias\n",
      "Freeze layer2.5.conv1.weight\n",
      "Freeze layer2.5.bn1.weight\n",
      "Freeze layer2.5.bn1.bias\n",
      "Freeze layer2.5.conv2.weight\n",
      "Freeze layer2.5.bn2.weight\n",
      "Freeze layer2.5.bn2.bias\n",
      "Freeze layer2.5.conv3.weight\n",
      "Freeze layer2.5.bn3.weight\n",
      "Freeze layer2.5.bn3.bias\n",
      "Freeze layer2.6.conv1.weight\n",
      "Freeze layer2.6.bn1.weight\n",
      "Freeze layer2.6.bn1.bias\n",
      "Freeze layer2.6.conv2.weight\n",
      "Freeze layer2.6.bn2.weight\n",
      "Freeze layer2.6.bn2.bias\n",
      "Freeze layer2.6.conv3.weight\n",
      "Freeze layer2.6.bn3.weight\n",
      "Freeze layer2.6.bn3.bias\n",
      "Freeze layer2.7.conv1.weight\n",
      "Freeze layer2.7.bn1.weight\n",
      "Freeze layer2.7.bn1.bias\n",
      "Freeze layer2.7.conv2.weight\n",
      "Freeze layer2.7.bn2.weight\n",
      "Freeze layer2.7.bn2.bias\n",
      "Freeze layer2.7.conv3.weight\n",
      "Freeze layer2.7.bn3.weight\n",
      "Freeze layer2.7.bn3.bias\n",
      "Freeze layer3.0.conv1.weight\n",
      "Freeze layer3.0.bn1.weight\n",
      "Freeze layer3.0.bn1.bias\n",
      "Freeze layer3.0.conv2.weight\n",
      "Freeze layer3.0.bn2.weight\n",
      "Freeze layer3.0.bn2.bias\n",
      "Freeze layer3.0.conv3.weight\n",
      "Freeze layer3.0.bn3.weight\n",
      "Freeze layer3.0.bn3.bias\n",
      "Freeze layer3.0.downsample.0.weight\n",
      "Freeze layer3.0.downsample.1.weight\n",
      "Freeze layer3.0.downsample.1.bias\n",
      "Freeze layer3.1.conv1.weight\n",
      "Freeze layer3.1.bn1.weight\n",
      "Freeze layer3.1.bn1.bias\n",
      "Freeze layer3.1.conv2.weight\n",
      "Freeze layer3.1.bn2.weight\n",
      "Freeze layer3.1.bn2.bias\n",
      "Freeze layer3.1.conv3.weight\n",
      "Freeze layer3.1.bn3.weight\n",
      "Freeze layer3.1.bn3.bias\n",
      "Freeze layer3.2.conv1.weight\n",
      "Freeze layer3.2.bn1.weight\n",
      "Freeze layer3.2.bn1.bias\n",
      "Freeze layer3.2.conv2.weight\n",
      "Freeze layer3.2.bn2.weight\n",
      "Freeze layer3.2.bn2.bias\n",
      "Freeze layer3.2.conv3.weight\n",
      "Freeze layer3.2.bn3.weight\n",
      "Freeze layer3.2.bn3.bias\n",
      "Freeze layer3.3.conv1.weight\n",
      "Freeze layer3.3.bn1.weight\n",
      "Freeze layer3.3.bn1.bias\n",
      "Freeze layer3.3.conv2.weight\n",
      "Freeze layer3.3.bn2.weight\n",
      "Freeze layer3.3.bn2.bias\n",
      "Freeze layer3.3.conv3.weight\n",
      "Freeze layer3.3.bn3.weight\n",
      "Freeze layer3.3.bn3.bias\n",
      "Freeze layer3.4.conv1.weight\n",
      "Freeze layer3.4.bn1.weight\n",
      "Freeze layer3.4.bn1.bias\n",
      "Freeze layer3.4.conv2.weight\n",
      "Freeze layer3.4.bn2.weight\n",
      "Freeze layer3.4.bn2.bias\n",
      "Freeze layer3.4.conv3.weight\n",
      "Freeze layer3.4.bn3.weight\n",
      "Freeze layer3.4.bn3.bias\n",
      "Freeze layer3.5.conv1.weight\n",
      "Freeze layer3.5.bn1.weight\n",
      "Freeze layer3.5.bn1.bias\n",
      "Freeze layer3.5.conv2.weight\n",
      "Freeze layer3.5.bn2.weight\n",
      "Freeze layer3.5.bn2.bias\n",
      "Freeze layer3.5.conv3.weight\n",
      "Freeze layer3.5.bn3.weight\n",
      "Freeze layer3.5.bn3.bias\n",
      "Freeze layer3.6.conv1.weight\n",
      "Freeze layer3.6.bn1.weight\n",
      "Freeze layer3.6.bn1.bias\n",
      "Freeze layer3.6.conv2.weight\n",
      "Freeze layer3.6.bn2.weight\n",
      "Freeze layer3.6.bn2.bias\n",
      "Freeze layer3.6.conv3.weight\n",
      "Freeze layer3.6.bn3.weight\n",
      "Freeze layer3.6.bn3.bias\n",
      "Freeze layer3.7.conv1.weight\n",
      "Freeze layer3.7.bn1.weight\n",
      "Freeze layer3.7.bn1.bias\n",
      "Freeze layer3.7.conv2.weight\n",
      "Freeze layer3.7.bn2.weight\n",
      "Freeze layer3.7.bn2.bias\n",
      "Freeze layer3.7.conv3.weight\n",
      "Freeze layer3.7.bn3.weight\n",
      "Freeze layer3.7.bn3.bias\n",
      "Freeze layer3.8.conv1.weight\n",
      "Freeze layer3.8.bn1.weight\n",
      "Freeze layer3.8.bn1.bias\n",
      "Freeze layer3.8.conv2.weight\n",
      "Freeze layer3.8.bn2.weight\n",
      "Freeze layer3.8.bn2.bias\n",
      "Freeze layer3.8.conv3.weight\n",
      "Freeze layer3.8.bn3.weight\n",
      "Freeze layer3.8.bn3.bias\n",
      "Freeze layer3.9.conv1.weight\n",
      "Freeze layer3.9.bn1.weight\n",
      "Freeze layer3.9.bn1.bias\n",
      "Freeze layer3.9.conv2.weight\n",
      "Freeze layer3.9.bn2.weight\n",
      "Freeze layer3.9.bn2.bias\n",
      "Freeze layer3.9.conv3.weight\n",
      "Freeze layer3.9.bn3.weight\n",
      "Freeze layer3.9.bn3.bias\n",
      "Freeze layer3.10.conv1.weight\n",
      "Freeze layer3.10.bn1.weight\n",
      "Freeze layer3.10.bn1.bias\n",
      "Freeze layer3.10.conv2.weight\n",
      "Freeze layer3.10.bn2.weight\n",
      "Freeze layer3.10.bn2.bias\n",
      "Freeze layer3.10.conv3.weight\n",
      "Freeze layer3.10.bn3.weight\n",
      "Freeze layer3.10.bn3.bias\n",
      "Freeze layer3.11.conv1.weight\n",
      "Freeze layer3.11.bn1.weight\n",
      "Freeze layer3.11.bn1.bias\n",
      "Freeze layer3.11.conv2.weight\n",
      "Freeze layer3.11.bn2.weight\n",
      "Freeze layer3.11.bn2.bias\n",
      "Freeze layer3.11.conv3.weight\n",
      "Freeze layer3.11.bn3.weight\n",
      "Freeze layer3.11.bn3.bias\n",
      "Freeze layer3.12.conv1.weight\n",
      "Freeze layer3.12.bn1.weight\n",
      "Freeze layer3.12.bn1.bias\n",
      "Freeze layer3.12.conv2.weight\n",
      "Freeze layer3.12.bn2.weight\n",
      "Freeze layer3.12.bn2.bias\n",
      "Freeze layer3.12.conv3.weight\n",
      "Freeze layer3.12.bn3.weight\n",
      "Freeze layer3.12.bn3.bias\n",
      "Freeze layer3.13.conv1.weight\n",
      "Freeze layer3.13.bn1.weight\n",
      "Freeze layer3.13.bn1.bias\n",
      "Freeze layer3.13.conv2.weight\n",
      "Freeze layer3.13.bn2.weight\n",
      "Freeze layer3.13.bn2.bias\n",
      "Freeze layer3.13.conv3.weight\n",
      "Freeze layer3.13.bn3.weight\n",
      "Freeze layer3.13.bn3.bias\n",
      "Freeze layer3.14.conv1.weight\n",
      "Freeze layer3.14.bn1.weight\n",
      "Freeze layer3.14.bn1.bias\n",
      "Freeze layer3.14.conv2.weight\n",
      "Freeze layer3.14.bn2.weight\n",
      "Freeze layer3.14.bn2.bias\n",
      "Freeze layer3.14.conv3.weight\n",
      "Freeze layer3.14.bn3.weight\n",
      "Freeze layer3.14.bn3.bias\n",
      "Freeze layer3.15.conv1.weight\n",
      "Freeze layer3.15.bn1.weight\n",
      "Freeze layer3.15.bn1.bias\n",
      "Freeze layer3.15.conv2.weight\n",
      "Freeze layer3.15.bn2.weight\n",
      "Freeze layer3.15.bn2.bias\n",
      "Freeze layer3.15.conv3.weight\n",
      "Freeze layer3.15.bn3.weight\n",
      "Freeze layer3.15.bn3.bias\n",
      "Freeze layer3.16.conv1.weight\n",
      "Freeze layer3.16.bn1.weight\n",
      "Freeze layer3.16.bn1.bias\n",
      "Freeze layer3.16.conv2.weight\n",
      "Freeze layer3.16.bn2.weight\n",
      "Freeze layer3.16.bn2.bias\n",
      "Freeze layer3.16.conv3.weight\n",
      "Freeze layer3.16.bn3.weight\n",
      "Freeze layer3.16.bn3.bias\n",
      "Freeze layer3.17.conv1.weight\n",
      "Freeze layer3.17.bn1.weight\n",
      "Freeze layer3.17.bn1.bias\n",
      "Freeze layer3.17.conv2.weight\n",
      "Freeze layer3.17.bn2.weight\n",
      "Freeze layer3.17.bn2.bias\n",
      "Freeze layer3.17.conv3.weight\n",
      "Freeze layer3.17.bn3.weight\n",
      "Freeze layer3.17.bn3.bias\n",
      "Freeze layer3.18.conv1.weight\n",
      "Freeze layer3.18.bn1.weight\n",
      "Freeze layer3.18.bn1.bias\n",
      "Freeze layer3.18.conv2.weight\n",
      "Freeze layer3.18.bn2.weight\n",
      "Freeze layer3.18.bn2.bias\n",
      "Freeze layer3.18.conv3.weight\n",
      "Freeze layer3.18.bn3.weight\n",
      "Freeze layer3.18.bn3.bias\n",
      "Freeze layer3.19.conv1.weight\n",
      "Freeze layer3.19.bn1.weight\n",
      "Freeze layer3.19.bn1.bias\n",
      "Freeze layer3.19.conv2.weight\n",
      "Freeze layer3.19.bn2.weight\n",
      "Freeze layer3.19.bn2.bias\n",
      "Freeze layer3.19.conv3.weight\n",
      "Freeze layer3.19.bn3.weight\n",
      "Freeze layer3.19.bn3.bias\n",
      "Freeze layer3.20.conv1.weight\n",
      "Freeze layer3.20.bn1.weight\n",
      "Freeze layer3.20.bn1.bias\n",
      "Freeze layer3.20.conv2.weight\n",
      "Freeze layer3.20.bn2.weight\n",
      "Freeze layer3.20.bn2.bias\n",
      "Freeze layer3.20.conv3.weight\n",
      "Freeze layer3.20.bn3.weight\n",
      "Freeze layer3.20.bn3.bias\n",
      "Freeze layer3.21.conv1.weight\n",
      "Freeze layer3.21.bn1.weight\n",
      "Freeze layer3.21.bn1.bias\n",
      "Freeze layer3.21.conv2.weight\n",
      "Freeze layer3.21.bn2.weight\n",
      "Freeze layer3.21.bn2.bias\n",
      "Freeze layer3.21.conv3.weight\n",
      "Freeze layer3.21.bn3.weight\n",
      "Freeze layer3.21.bn3.bias\n",
      "Freeze layer3.22.conv1.weight\n",
      "Freeze layer3.22.bn1.weight\n",
      "Freeze layer3.22.bn1.bias\n",
      "Freeze layer3.22.conv2.weight\n",
      "Freeze layer3.22.bn2.weight\n",
      "Freeze layer3.22.bn2.bias\n",
      "Freeze layer3.22.conv3.weight\n",
      "Freeze layer3.22.bn3.weight\n",
      "Freeze layer3.22.bn3.bias\n",
      "Freeze layer3.23.conv1.weight\n",
      "Freeze layer3.23.bn1.weight\n",
      "Freeze layer3.23.bn1.bias\n",
      "Freeze layer3.23.conv2.weight\n",
      "Freeze layer3.23.bn2.weight\n",
      "Freeze layer3.23.bn2.bias\n",
      "Freeze layer3.23.conv3.weight\n",
      "Freeze layer3.23.bn3.weight\n",
      "Freeze layer3.23.bn3.bias\n",
      "Freeze layer3.24.conv1.weight\n",
      "Freeze layer3.24.bn1.weight\n",
      "Freeze layer3.24.bn1.bias\n",
      "Freeze layer3.24.conv2.weight\n",
      "Freeze layer3.24.bn2.weight\n",
      "Freeze layer3.24.bn2.bias\n",
      "Freeze layer3.24.conv3.weight\n",
      "Freeze layer3.24.bn3.weight\n",
      "Freeze layer3.24.bn3.bias\n",
      "Freeze layer3.25.conv1.weight\n",
      "Freeze layer3.25.bn1.weight\n",
      "Freeze layer3.25.bn1.bias\n",
      "Freeze layer3.25.conv2.weight\n",
      "Freeze layer3.25.bn2.weight\n",
      "Freeze layer3.25.bn2.bias\n",
      "Freeze layer3.25.conv3.weight\n",
      "Freeze layer3.25.bn3.weight\n",
      "Freeze layer3.25.bn3.bias\n",
      "Freeze layer3.26.conv1.weight\n",
      "Freeze layer3.26.bn1.weight\n",
      "Freeze layer3.26.bn1.bias\n",
      "Freeze layer3.26.conv2.weight\n",
      "Freeze layer3.26.bn2.weight\n",
      "Freeze layer3.26.bn2.bias\n",
      "Freeze layer3.26.conv3.weight\n",
      "Freeze layer3.26.bn3.weight\n",
      "Freeze layer3.26.bn3.bias\n",
      "Freeze layer3.27.conv1.weight\n",
      "Freeze layer3.27.bn1.weight\n",
      "Freeze layer3.27.bn1.bias\n",
      "Freeze layer3.27.conv2.weight\n",
      "Freeze layer3.27.bn2.weight\n",
      "Freeze layer3.27.bn2.bias\n",
      "Freeze layer3.27.conv3.weight\n",
      "Freeze layer3.27.bn3.weight\n",
      "Freeze layer3.27.bn3.bias\n",
      "Freeze layer3.28.conv1.weight\n",
      "Freeze layer3.28.bn1.weight\n",
      "Freeze layer3.28.bn1.bias\n",
      "Freeze layer3.28.conv2.weight\n",
      "Freeze layer3.28.bn2.weight\n",
      "Freeze layer3.28.bn2.bias\n",
      "Freeze layer3.28.conv3.weight\n",
      "Freeze layer3.28.bn3.weight\n",
      "Freeze layer3.28.bn3.bias\n",
      "Freeze layer3.29.conv1.weight\n",
      "Freeze layer3.29.bn1.weight\n",
      "Freeze layer3.29.bn1.bias\n",
      "Freeze layer3.29.conv2.weight\n",
      "Freeze layer3.29.bn2.weight\n",
      "Freeze layer3.29.bn2.bias\n",
      "Freeze layer3.29.conv3.weight\n",
      "Freeze layer3.29.bn3.weight\n",
      "Freeze layer3.29.bn3.bias\n",
      "Freeze layer3.30.conv1.weight\n",
      "Freeze layer3.30.bn1.weight\n",
      "Freeze layer3.30.bn1.bias\n",
      "Freeze layer3.30.conv2.weight\n",
      "Freeze layer3.30.bn2.weight\n",
      "Freeze layer3.30.bn2.bias\n",
      "Freeze layer3.30.conv3.weight\n",
      "Freeze layer3.30.bn3.weight\n",
      "Freeze layer3.30.bn3.bias\n",
      "Freeze layer3.31.conv1.weight\n",
      "Freeze layer3.31.bn1.weight\n",
      "Freeze layer3.31.bn1.bias\n",
      "Freeze layer3.31.conv2.weight\n",
      "Freeze layer3.31.bn2.weight\n",
      "Freeze layer3.31.bn2.bias\n",
      "Freeze layer3.31.conv3.weight\n",
      "Freeze layer3.31.bn3.weight\n",
      "Freeze layer3.31.bn3.bias\n",
      "Freeze layer3.32.conv1.weight\n",
      "Freeze layer3.32.bn1.weight\n",
      "Freeze layer3.32.bn1.bias\n",
      "Freeze layer3.32.conv2.weight\n",
      "Freeze layer3.32.bn2.weight\n",
      "Freeze layer3.32.bn2.bias\n",
      "Freeze layer3.32.conv3.weight\n",
      "Freeze layer3.32.bn3.weight\n",
      "Freeze layer3.32.bn3.bias\n",
      "Freeze layer3.33.conv1.weight\n",
      "Freeze layer3.33.bn1.weight\n",
      "Freeze layer3.33.bn1.bias\n",
      "Freeze layer3.33.conv2.weight\n",
      "Freeze layer3.33.bn2.weight\n",
      "Freeze layer3.33.bn2.bias\n",
      "Freeze layer3.33.conv3.weight\n",
      "Freeze layer3.33.bn3.weight\n",
      "Freeze layer3.33.bn3.bias\n",
      "Freeze layer3.34.conv1.weight\n",
      "Freeze layer3.34.bn1.weight\n",
      "Freeze layer3.34.bn1.bias\n",
      "Freeze layer3.34.conv2.weight\n",
      "Freeze layer3.34.bn2.weight\n",
      "Freeze layer3.34.bn2.bias\n",
      "Freeze layer3.34.conv3.weight\n",
      "Freeze layer3.34.bn3.weight\n",
      "Freeze layer3.34.bn3.bias\n",
      "Freeze layer3.35.conv1.weight\n",
      "Freeze layer3.35.bn1.weight\n",
      "Freeze layer3.35.bn1.bias\n",
      "Freeze layer3.35.conv2.weight\n",
      "Freeze layer3.35.bn2.weight\n",
      "Freeze layer3.35.bn2.bias\n",
      "Freeze layer3.35.conv3.weight\n",
      "Freeze layer3.35.bn3.weight\n",
      "Freeze layer3.35.bn3.bias\n",
      "Unfreeze layer4.0.conv1.weight\n",
      "Unfreeze layer4.0.bn1.weight\n",
      "Unfreeze layer4.0.bn1.bias\n",
      "Unfreeze layer4.0.conv2.weight\n",
      "Unfreeze layer4.0.bn2.weight\n",
      "Unfreeze layer4.0.bn2.bias\n",
      "Unfreeze layer4.0.conv3.weight\n",
      "Unfreeze layer4.0.bn3.weight\n",
      "Unfreeze layer4.0.bn3.bias\n",
      "Unfreeze layer4.0.downsample.0.weight\n",
      "Unfreeze layer4.0.downsample.1.weight\n",
      "Unfreeze layer4.0.downsample.1.bias\n",
      "Unfreeze layer4.1.conv1.weight\n",
      "Unfreeze layer4.1.bn1.weight\n",
      "Unfreeze layer4.1.bn1.bias\n",
      "Unfreeze layer4.1.conv2.weight\n",
      "Unfreeze layer4.1.bn2.weight\n",
      "Unfreeze layer4.1.bn2.bias\n",
      "Unfreeze layer4.1.conv3.weight\n",
      "Unfreeze layer4.1.bn3.weight\n",
      "Unfreeze layer4.1.bn3.bias\n",
      "Unfreeze layer4.2.conv1.weight\n",
      "Unfreeze layer4.2.bn1.weight\n",
      "Unfreeze layer4.2.bn1.bias\n",
      "Unfreeze layer4.2.conv2.weight\n",
      "Unfreeze layer4.2.bn2.weight\n",
      "Unfreeze layer4.2.bn2.bias\n",
      "Unfreeze layer4.2.conv3.weight\n",
      "Unfreeze layer4.2.bn3.weight\n",
      "Unfreeze layer4.2.bn3.bias\n",
      "Unfreeze fc.weight\n",
      "Unfreeze fc.bias\n"
     ]
    }
   ],
   "source": [
    "# Freeze layers\n",
    "for name, param in model.named_parameters():\n",
    "    if ('fc' in name) or ('layer4' in name): # or ('layer3' in name)\n",
    "        print(\"Unfreeze \" + name)\n",
    "        param.requires_grad = True\n",
    "    else:\n",
    "        print(\"Freeze \" + name)\n",
    "        param.requires_grad = False\n"
   ]
  },
  {
   "cell_type": "code",
   "execution_count": 8,
   "id": "3696240a",
   "metadata": {
    "ExecuteTime": {
     "end_time": "2022-04-27T00:00:08.604143Z",
     "start_time": "2022-04-26T23:58:13.827397Z"
    }
   },
   "outputs": [],
   "source": [
    "# Reading whole dataloader into memory can improve the speed of training\n",
    "train_loader = list(train_loader)\n",
    "test_loader = list(test_loader)"
   ]
  },
  {
   "cell_type": "code",
   "execution_count": 9,
   "id": "9e984877",
   "metadata": {
    "ExecuteTime": {
     "end_time": "2022-04-27T00:00:08.614146Z",
     "start_time": "2022-04-27T00:00:08.608066Z"
    }
   },
   "outputs": [
    {
     "data": {
      "text/plain": [
       "Dataset Flowers102\n",
       "    Number of datapoints: 1020\n",
       "    Root location: ./data\n",
       "    split=train\n",
       "    StandardTransform\n",
       "Transform: Compose(\n",
       "               ToTensor()\n",
       "               Resize(size=224, interpolation=bilinear, max_size=None, antialias=None)\n",
       "               CenterCrop(size=(224, 224))\n",
       "           )"
      ]
     },
     "execution_count": 9,
     "metadata": {},
     "output_type": "execute_result"
    }
   ],
   "source": [
    "train_set"
   ]
  },
  {
   "cell_type": "code",
   "execution_count": null,
   "id": "506c0509",
   "metadata": {
    "ExecuteTime": {
     "end_time": "2022-04-26T13:28:44.010607Z",
     "start_time": "2022-04-26T13:28:43.957875Z"
    }
   },
   "outputs": [],
   "source": []
  },
  {
   "cell_type": "code",
   "execution_count": 10,
   "id": "a7e099b7",
   "metadata": {
    "ExecuteTime": {
     "end_time": "2022-04-27T00:00:08.636594Z",
     "start_time": "2022-04-27T00:00:08.619182Z"
    }
   },
   "outputs": [],
   "source": [
    "loss_function = nn.CrossEntropyLoss()"
   ]
  },
  {
   "cell_type": "code",
   "execution_count": 11,
   "id": "01579691",
   "metadata": {
    "ExecuteTime": {
     "end_time": "2022-04-27T00:00:13.874968Z",
     "start_time": "2022-04-27T00:00:08.639631Z"
    }
   },
   "outputs": [
    {
     "data": {
      "text/plain": [
       "ResNet(\n",
       "  (conv1): Conv2d(3, 64, kernel_size=(7, 7), stride=(2, 2), padding=(3, 3), bias=False)\n",
       "  (bn1): BatchNorm2d(64, eps=1e-05, momentum=0.1, affine=True, track_running_stats=True)\n",
       "  (relu): ReLU(inplace=True)\n",
       "  (maxpool): MaxPool2d(kernel_size=3, stride=2, padding=1, dilation=1, ceil_mode=False)\n",
       "  (layer1): Sequential(\n",
       "    (0): Bottleneck(\n",
       "      (conv1): Conv2d(64, 64, kernel_size=(1, 1), stride=(1, 1), bias=False)\n",
       "      (bn1): BatchNorm2d(64, eps=1e-05, momentum=0.1, affine=True, track_running_stats=True)\n",
       "      (conv2): Conv2d(64, 64, kernel_size=(3, 3), stride=(1, 1), padding=(1, 1), bias=False)\n",
       "      (bn2): BatchNorm2d(64, eps=1e-05, momentum=0.1, affine=True, track_running_stats=True)\n",
       "      (conv3): Conv2d(64, 256, kernel_size=(1, 1), stride=(1, 1), bias=False)\n",
       "      (bn3): BatchNorm2d(256, eps=1e-05, momentum=0.1, affine=True, track_running_stats=True)\n",
       "      (relu): ReLU(inplace=True)\n",
       "      (downsample): Sequential(\n",
       "        (0): Conv2d(64, 256, kernel_size=(1, 1), stride=(1, 1), bias=False)\n",
       "        (1): BatchNorm2d(256, eps=1e-05, momentum=0.1, affine=True, track_running_stats=True)\n",
       "      )\n",
       "    )\n",
       "    (1): Bottleneck(\n",
       "      (conv1): Conv2d(256, 64, kernel_size=(1, 1), stride=(1, 1), bias=False)\n",
       "      (bn1): BatchNorm2d(64, eps=1e-05, momentum=0.1, affine=True, track_running_stats=True)\n",
       "      (conv2): Conv2d(64, 64, kernel_size=(3, 3), stride=(1, 1), padding=(1, 1), bias=False)\n",
       "      (bn2): BatchNorm2d(64, eps=1e-05, momentum=0.1, affine=True, track_running_stats=True)\n",
       "      (conv3): Conv2d(64, 256, kernel_size=(1, 1), stride=(1, 1), bias=False)\n",
       "      (bn3): BatchNorm2d(256, eps=1e-05, momentum=0.1, affine=True, track_running_stats=True)\n",
       "      (relu): ReLU(inplace=True)\n",
       "    )\n",
       "    (2): Bottleneck(\n",
       "      (conv1): Conv2d(256, 64, kernel_size=(1, 1), stride=(1, 1), bias=False)\n",
       "      (bn1): BatchNorm2d(64, eps=1e-05, momentum=0.1, affine=True, track_running_stats=True)\n",
       "      (conv2): Conv2d(64, 64, kernel_size=(3, 3), stride=(1, 1), padding=(1, 1), bias=False)\n",
       "      (bn2): BatchNorm2d(64, eps=1e-05, momentum=0.1, affine=True, track_running_stats=True)\n",
       "      (conv3): Conv2d(64, 256, kernel_size=(1, 1), stride=(1, 1), bias=False)\n",
       "      (bn3): BatchNorm2d(256, eps=1e-05, momentum=0.1, affine=True, track_running_stats=True)\n",
       "      (relu): ReLU(inplace=True)\n",
       "    )\n",
       "  )\n",
       "  (layer2): Sequential(\n",
       "    (0): Bottleneck(\n",
       "      (conv1): Conv2d(256, 128, kernel_size=(1, 1), stride=(1, 1), bias=False)\n",
       "      (bn1): BatchNorm2d(128, eps=1e-05, momentum=0.1, affine=True, track_running_stats=True)\n",
       "      (conv2): Conv2d(128, 128, kernel_size=(3, 3), stride=(2, 2), padding=(1, 1), bias=False)\n",
       "      (bn2): BatchNorm2d(128, eps=1e-05, momentum=0.1, affine=True, track_running_stats=True)\n",
       "      (conv3): Conv2d(128, 512, kernel_size=(1, 1), stride=(1, 1), bias=False)\n",
       "      (bn3): BatchNorm2d(512, eps=1e-05, momentum=0.1, affine=True, track_running_stats=True)\n",
       "      (relu): ReLU(inplace=True)\n",
       "      (downsample): Sequential(\n",
       "        (0): Conv2d(256, 512, kernel_size=(1, 1), stride=(2, 2), bias=False)\n",
       "        (1): BatchNorm2d(512, eps=1e-05, momentum=0.1, affine=True, track_running_stats=True)\n",
       "      )\n",
       "    )\n",
       "    (1): Bottleneck(\n",
       "      (conv1): Conv2d(512, 128, kernel_size=(1, 1), stride=(1, 1), bias=False)\n",
       "      (bn1): BatchNorm2d(128, eps=1e-05, momentum=0.1, affine=True, track_running_stats=True)\n",
       "      (conv2): Conv2d(128, 128, kernel_size=(3, 3), stride=(1, 1), padding=(1, 1), bias=False)\n",
       "      (bn2): BatchNorm2d(128, eps=1e-05, momentum=0.1, affine=True, track_running_stats=True)\n",
       "      (conv3): Conv2d(128, 512, kernel_size=(1, 1), stride=(1, 1), bias=False)\n",
       "      (bn3): BatchNorm2d(512, eps=1e-05, momentum=0.1, affine=True, track_running_stats=True)\n",
       "      (relu): ReLU(inplace=True)\n",
       "    )\n",
       "    (2): Bottleneck(\n",
       "      (conv1): Conv2d(512, 128, kernel_size=(1, 1), stride=(1, 1), bias=False)\n",
       "      (bn1): BatchNorm2d(128, eps=1e-05, momentum=0.1, affine=True, track_running_stats=True)\n",
       "      (conv2): Conv2d(128, 128, kernel_size=(3, 3), stride=(1, 1), padding=(1, 1), bias=False)\n",
       "      (bn2): BatchNorm2d(128, eps=1e-05, momentum=0.1, affine=True, track_running_stats=True)\n",
       "      (conv3): Conv2d(128, 512, kernel_size=(1, 1), stride=(1, 1), bias=False)\n",
       "      (bn3): BatchNorm2d(512, eps=1e-05, momentum=0.1, affine=True, track_running_stats=True)\n",
       "      (relu): ReLU(inplace=True)\n",
       "    )\n",
       "    (3): Bottleneck(\n",
       "      (conv1): Conv2d(512, 128, kernel_size=(1, 1), stride=(1, 1), bias=False)\n",
       "      (bn1): BatchNorm2d(128, eps=1e-05, momentum=0.1, affine=True, track_running_stats=True)\n",
       "      (conv2): Conv2d(128, 128, kernel_size=(3, 3), stride=(1, 1), padding=(1, 1), bias=False)\n",
       "      (bn2): BatchNorm2d(128, eps=1e-05, momentum=0.1, affine=True, track_running_stats=True)\n",
       "      (conv3): Conv2d(128, 512, kernel_size=(1, 1), stride=(1, 1), bias=False)\n",
       "      (bn3): BatchNorm2d(512, eps=1e-05, momentum=0.1, affine=True, track_running_stats=True)\n",
       "      (relu): ReLU(inplace=True)\n",
       "    )\n",
       "    (4): Bottleneck(\n",
       "      (conv1): Conv2d(512, 128, kernel_size=(1, 1), stride=(1, 1), bias=False)\n",
       "      (bn1): BatchNorm2d(128, eps=1e-05, momentum=0.1, affine=True, track_running_stats=True)\n",
       "      (conv2): Conv2d(128, 128, kernel_size=(3, 3), stride=(1, 1), padding=(1, 1), bias=False)\n",
       "      (bn2): BatchNorm2d(128, eps=1e-05, momentum=0.1, affine=True, track_running_stats=True)\n",
       "      (conv3): Conv2d(128, 512, kernel_size=(1, 1), stride=(1, 1), bias=False)\n",
       "      (bn3): BatchNorm2d(512, eps=1e-05, momentum=0.1, affine=True, track_running_stats=True)\n",
       "      (relu): ReLU(inplace=True)\n",
       "    )\n",
       "    (5): Bottleneck(\n",
       "      (conv1): Conv2d(512, 128, kernel_size=(1, 1), stride=(1, 1), bias=False)\n",
       "      (bn1): BatchNorm2d(128, eps=1e-05, momentum=0.1, affine=True, track_running_stats=True)\n",
       "      (conv2): Conv2d(128, 128, kernel_size=(3, 3), stride=(1, 1), padding=(1, 1), bias=False)\n",
       "      (bn2): BatchNorm2d(128, eps=1e-05, momentum=0.1, affine=True, track_running_stats=True)\n",
       "      (conv3): Conv2d(128, 512, kernel_size=(1, 1), stride=(1, 1), bias=False)\n",
       "      (bn3): BatchNorm2d(512, eps=1e-05, momentum=0.1, affine=True, track_running_stats=True)\n",
       "      (relu): ReLU(inplace=True)\n",
       "    )\n",
       "    (6): Bottleneck(\n",
       "      (conv1): Conv2d(512, 128, kernel_size=(1, 1), stride=(1, 1), bias=False)\n",
       "      (bn1): BatchNorm2d(128, eps=1e-05, momentum=0.1, affine=True, track_running_stats=True)\n",
       "      (conv2): Conv2d(128, 128, kernel_size=(3, 3), stride=(1, 1), padding=(1, 1), bias=False)\n",
       "      (bn2): BatchNorm2d(128, eps=1e-05, momentum=0.1, affine=True, track_running_stats=True)\n",
       "      (conv3): Conv2d(128, 512, kernel_size=(1, 1), stride=(1, 1), bias=False)\n",
       "      (bn3): BatchNorm2d(512, eps=1e-05, momentum=0.1, affine=True, track_running_stats=True)\n",
       "      (relu): ReLU(inplace=True)\n",
       "    )\n",
       "    (7): Bottleneck(\n",
       "      (conv1): Conv2d(512, 128, kernel_size=(1, 1), stride=(1, 1), bias=False)\n",
       "      (bn1): BatchNorm2d(128, eps=1e-05, momentum=0.1, affine=True, track_running_stats=True)\n",
       "      (conv2): Conv2d(128, 128, kernel_size=(3, 3), stride=(1, 1), padding=(1, 1), bias=False)\n",
       "      (bn2): BatchNorm2d(128, eps=1e-05, momentum=0.1, affine=True, track_running_stats=True)\n",
       "      (conv3): Conv2d(128, 512, kernel_size=(1, 1), stride=(1, 1), bias=False)\n",
       "      (bn3): BatchNorm2d(512, eps=1e-05, momentum=0.1, affine=True, track_running_stats=True)\n",
       "      (relu): ReLU(inplace=True)\n",
       "    )\n",
       "  )\n",
       "  (layer3): Sequential(\n",
       "    (0): Bottleneck(\n",
       "      (conv1): Conv2d(512, 256, kernel_size=(1, 1), stride=(1, 1), bias=False)\n",
       "      (bn1): BatchNorm2d(256, eps=1e-05, momentum=0.1, affine=True, track_running_stats=True)\n",
       "      (conv2): Conv2d(256, 256, kernel_size=(3, 3), stride=(2, 2), padding=(1, 1), bias=False)\n",
       "      (bn2): BatchNorm2d(256, eps=1e-05, momentum=0.1, affine=True, track_running_stats=True)\n",
       "      (conv3): Conv2d(256, 1024, kernel_size=(1, 1), stride=(1, 1), bias=False)\n",
       "      (bn3): BatchNorm2d(1024, eps=1e-05, momentum=0.1, affine=True, track_running_stats=True)\n",
       "      (relu): ReLU(inplace=True)\n",
       "      (downsample): Sequential(\n",
       "        (0): Conv2d(512, 1024, kernel_size=(1, 1), stride=(2, 2), bias=False)\n",
       "        (1): BatchNorm2d(1024, eps=1e-05, momentum=0.1, affine=True, track_running_stats=True)\n",
       "      )\n",
       "    )\n",
       "    (1): Bottleneck(\n",
       "      (conv1): Conv2d(1024, 256, kernel_size=(1, 1), stride=(1, 1), bias=False)\n",
       "      (bn1): BatchNorm2d(256, eps=1e-05, momentum=0.1, affine=True, track_running_stats=True)\n",
       "      (conv2): Conv2d(256, 256, kernel_size=(3, 3), stride=(1, 1), padding=(1, 1), bias=False)\n",
       "      (bn2): BatchNorm2d(256, eps=1e-05, momentum=0.1, affine=True, track_running_stats=True)\n",
       "      (conv3): Conv2d(256, 1024, kernel_size=(1, 1), stride=(1, 1), bias=False)\n",
       "      (bn3): BatchNorm2d(1024, eps=1e-05, momentum=0.1, affine=True, track_running_stats=True)\n",
       "      (relu): ReLU(inplace=True)\n",
       "    )\n",
       "    (2): Bottleneck(\n",
       "      (conv1): Conv2d(1024, 256, kernel_size=(1, 1), stride=(1, 1), bias=False)\n",
       "      (bn1): BatchNorm2d(256, eps=1e-05, momentum=0.1, affine=True, track_running_stats=True)\n",
       "      (conv2): Conv2d(256, 256, kernel_size=(3, 3), stride=(1, 1), padding=(1, 1), bias=False)\n",
       "      (bn2): BatchNorm2d(256, eps=1e-05, momentum=0.1, affine=True, track_running_stats=True)\n",
       "      (conv3): Conv2d(256, 1024, kernel_size=(1, 1), stride=(1, 1), bias=False)\n",
       "      (bn3): BatchNorm2d(1024, eps=1e-05, momentum=0.1, affine=True, track_running_stats=True)\n",
       "      (relu): ReLU(inplace=True)\n",
       "    )\n",
       "    (3): Bottleneck(\n",
       "      (conv1): Conv2d(1024, 256, kernel_size=(1, 1), stride=(1, 1), bias=False)\n",
       "      (bn1): BatchNorm2d(256, eps=1e-05, momentum=0.1, affine=True, track_running_stats=True)\n",
       "      (conv2): Conv2d(256, 256, kernel_size=(3, 3), stride=(1, 1), padding=(1, 1), bias=False)\n",
       "      (bn2): BatchNorm2d(256, eps=1e-05, momentum=0.1, affine=True, track_running_stats=True)\n",
       "      (conv3): Conv2d(256, 1024, kernel_size=(1, 1), stride=(1, 1), bias=False)\n",
       "      (bn3): BatchNorm2d(1024, eps=1e-05, momentum=0.1, affine=True, track_running_stats=True)\n",
       "      (relu): ReLU(inplace=True)\n",
       "    )\n",
       "    (4): Bottleneck(\n",
       "      (conv1): Conv2d(1024, 256, kernel_size=(1, 1), stride=(1, 1), bias=False)\n",
       "      (bn1): BatchNorm2d(256, eps=1e-05, momentum=0.1, affine=True, track_running_stats=True)\n",
       "      (conv2): Conv2d(256, 256, kernel_size=(3, 3), stride=(1, 1), padding=(1, 1), bias=False)\n",
       "      (bn2): BatchNorm2d(256, eps=1e-05, momentum=0.1, affine=True, track_running_stats=True)\n",
       "      (conv3): Conv2d(256, 1024, kernel_size=(1, 1), stride=(1, 1), bias=False)\n",
       "      (bn3): BatchNorm2d(1024, eps=1e-05, momentum=0.1, affine=True, track_running_stats=True)\n",
       "      (relu): ReLU(inplace=True)\n",
       "    )\n",
       "    (5): Bottleneck(\n",
       "      (conv1): Conv2d(1024, 256, kernel_size=(1, 1), stride=(1, 1), bias=False)\n",
       "      (bn1): BatchNorm2d(256, eps=1e-05, momentum=0.1, affine=True, track_running_stats=True)\n",
       "      (conv2): Conv2d(256, 256, kernel_size=(3, 3), stride=(1, 1), padding=(1, 1), bias=False)\n",
       "      (bn2): BatchNorm2d(256, eps=1e-05, momentum=0.1, affine=True, track_running_stats=True)\n",
       "      (conv3): Conv2d(256, 1024, kernel_size=(1, 1), stride=(1, 1), bias=False)\n",
       "      (bn3): BatchNorm2d(1024, eps=1e-05, momentum=0.1, affine=True, track_running_stats=True)\n",
       "      (relu): ReLU(inplace=True)\n",
       "    )\n",
       "    (6): Bottleneck(\n",
       "      (conv1): Conv2d(1024, 256, kernel_size=(1, 1), stride=(1, 1), bias=False)\n",
       "      (bn1): BatchNorm2d(256, eps=1e-05, momentum=0.1, affine=True, track_running_stats=True)\n",
       "      (conv2): Conv2d(256, 256, kernel_size=(3, 3), stride=(1, 1), padding=(1, 1), bias=False)\n",
       "      (bn2): BatchNorm2d(256, eps=1e-05, momentum=0.1, affine=True, track_running_stats=True)\n",
       "      (conv3): Conv2d(256, 1024, kernel_size=(1, 1), stride=(1, 1), bias=False)\n",
       "      (bn3): BatchNorm2d(1024, eps=1e-05, momentum=0.1, affine=True, track_running_stats=True)\n",
       "      (relu): ReLU(inplace=True)\n",
       "    )\n",
       "    (7): Bottleneck(\n",
       "      (conv1): Conv2d(1024, 256, kernel_size=(1, 1), stride=(1, 1), bias=False)\n",
       "      (bn1): BatchNorm2d(256, eps=1e-05, momentum=0.1, affine=True, track_running_stats=True)\n",
       "      (conv2): Conv2d(256, 256, kernel_size=(3, 3), stride=(1, 1), padding=(1, 1), bias=False)\n",
       "      (bn2): BatchNorm2d(256, eps=1e-05, momentum=0.1, affine=True, track_running_stats=True)\n",
       "      (conv3): Conv2d(256, 1024, kernel_size=(1, 1), stride=(1, 1), bias=False)\n",
       "      (bn3): BatchNorm2d(1024, eps=1e-05, momentum=0.1, affine=True, track_running_stats=True)\n",
       "      (relu): ReLU(inplace=True)\n",
       "    )\n",
       "    (8): Bottleneck(\n",
       "      (conv1): Conv2d(1024, 256, kernel_size=(1, 1), stride=(1, 1), bias=False)\n",
       "      (bn1): BatchNorm2d(256, eps=1e-05, momentum=0.1, affine=True, track_running_stats=True)\n",
       "      (conv2): Conv2d(256, 256, kernel_size=(3, 3), stride=(1, 1), padding=(1, 1), bias=False)\n",
       "      (bn2): BatchNorm2d(256, eps=1e-05, momentum=0.1, affine=True, track_running_stats=True)\n",
       "      (conv3): Conv2d(256, 1024, kernel_size=(1, 1), stride=(1, 1), bias=False)\n",
       "      (bn3): BatchNorm2d(1024, eps=1e-05, momentum=0.1, affine=True, track_running_stats=True)\n",
       "      (relu): ReLU(inplace=True)\n",
       "    )\n",
       "    (9): Bottleneck(\n",
       "      (conv1): Conv2d(1024, 256, kernel_size=(1, 1), stride=(1, 1), bias=False)\n",
       "      (bn1): BatchNorm2d(256, eps=1e-05, momentum=0.1, affine=True, track_running_stats=True)\n",
       "      (conv2): Conv2d(256, 256, kernel_size=(3, 3), stride=(1, 1), padding=(1, 1), bias=False)\n",
       "      (bn2): BatchNorm2d(256, eps=1e-05, momentum=0.1, affine=True, track_running_stats=True)\n",
       "      (conv3): Conv2d(256, 1024, kernel_size=(1, 1), stride=(1, 1), bias=False)\n",
       "      (bn3): BatchNorm2d(1024, eps=1e-05, momentum=0.1, affine=True, track_running_stats=True)\n",
       "      (relu): ReLU(inplace=True)\n",
       "    )\n",
       "    (10): Bottleneck(\n",
       "      (conv1): Conv2d(1024, 256, kernel_size=(1, 1), stride=(1, 1), bias=False)\n",
       "      (bn1): BatchNorm2d(256, eps=1e-05, momentum=0.1, affine=True, track_running_stats=True)\n",
       "      (conv2): Conv2d(256, 256, kernel_size=(3, 3), stride=(1, 1), padding=(1, 1), bias=False)\n",
       "      (bn2): BatchNorm2d(256, eps=1e-05, momentum=0.1, affine=True, track_running_stats=True)\n",
       "      (conv3): Conv2d(256, 1024, kernel_size=(1, 1), stride=(1, 1), bias=False)\n",
       "      (bn3): BatchNorm2d(1024, eps=1e-05, momentum=0.1, affine=True, track_running_stats=True)\n",
       "      (relu): ReLU(inplace=True)\n",
       "    )\n",
       "    (11): Bottleneck(\n",
       "      (conv1): Conv2d(1024, 256, kernel_size=(1, 1), stride=(1, 1), bias=False)\n",
       "      (bn1): BatchNorm2d(256, eps=1e-05, momentum=0.1, affine=True, track_running_stats=True)\n",
       "      (conv2): Conv2d(256, 256, kernel_size=(3, 3), stride=(1, 1), padding=(1, 1), bias=False)\n",
       "      (bn2): BatchNorm2d(256, eps=1e-05, momentum=0.1, affine=True, track_running_stats=True)\n",
       "      (conv3): Conv2d(256, 1024, kernel_size=(1, 1), stride=(1, 1), bias=False)\n",
       "      (bn3): BatchNorm2d(1024, eps=1e-05, momentum=0.1, affine=True, track_running_stats=True)\n",
       "      (relu): ReLU(inplace=True)\n",
       "    )\n",
       "    (12): Bottleneck(\n",
       "      (conv1): Conv2d(1024, 256, kernel_size=(1, 1), stride=(1, 1), bias=False)\n",
       "      (bn1): BatchNorm2d(256, eps=1e-05, momentum=0.1, affine=True, track_running_stats=True)\n",
       "      (conv2): Conv2d(256, 256, kernel_size=(3, 3), stride=(1, 1), padding=(1, 1), bias=False)\n",
       "      (bn2): BatchNorm2d(256, eps=1e-05, momentum=0.1, affine=True, track_running_stats=True)\n",
       "      (conv3): Conv2d(256, 1024, kernel_size=(1, 1), stride=(1, 1), bias=False)\n",
       "      (bn3): BatchNorm2d(1024, eps=1e-05, momentum=0.1, affine=True, track_running_stats=True)\n",
       "      (relu): ReLU(inplace=True)\n",
       "    )\n",
       "    (13): Bottleneck(\n",
       "      (conv1): Conv2d(1024, 256, kernel_size=(1, 1), stride=(1, 1), bias=False)\n",
       "      (bn1): BatchNorm2d(256, eps=1e-05, momentum=0.1, affine=True, track_running_stats=True)\n",
       "      (conv2): Conv2d(256, 256, kernel_size=(3, 3), stride=(1, 1), padding=(1, 1), bias=False)\n",
       "      (bn2): BatchNorm2d(256, eps=1e-05, momentum=0.1, affine=True, track_running_stats=True)\n",
       "      (conv3): Conv2d(256, 1024, kernel_size=(1, 1), stride=(1, 1), bias=False)\n",
       "      (bn3): BatchNorm2d(1024, eps=1e-05, momentum=0.1, affine=True, track_running_stats=True)\n",
       "      (relu): ReLU(inplace=True)\n",
       "    )\n",
       "    (14): Bottleneck(\n",
       "      (conv1): Conv2d(1024, 256, kernel_size=(1, 1), stride=(1, 1), bias=False)\n",
       "      (bn1): BatchNorm2d(256, eps=1e-05, momentum=0.1, affine=True, track_running_stats=True)\n",
       "      (conv2): Conv2d(256, 256, kernel_size=(3, 3), stride=(1, 1), padding=(1, 1), bias=False)\n",
       "      (bn2): BatchNorm2d(256, eps=1e-05, momentum=0.1, affine=True, track_running_stats=True)\n",
       "      (conv3): Conv2d(256, 1024, kernel_size=(1, 1), stride=(1, 1), bias=False)\n",
       "      (bn3): BatchNorm2d(1024, eps=1e-05, momentum=0.1, affine=True, track_running_stats=True)\n",
       "      (relu): ReLU(inplace=True)\n",
       "    )\n",
       "    (15): Bottleneck(\n",
       "      (conv1): Conv2d(1024, 256, kernel_size=(1, 1), stride=(1, 1), bias=False)\n",
       "      (bn1): BatchNorm2d(256, eps=1e-05, momentum=0.1, affine=True, track_running_stats=True)\n",
       "      (conv2): Conv2d(256, 256, kernel_size=(3, 3), stride=(1, 1), padding=(1, 1), bias=False)\n",
       "      (bn2): BatchNorm2d(256, eps=1e-05, momentum=0.1, affine=True, track_running_stats=True)\n",
       "      (conv3): Conv2d(256, 1024, kernel_size=(1, 1), stride=(1, 1), bias=False)\n",
       "      (bn3): BatchNorm2d(1024, eps=1e-05, momentum=0.1, affine=True, track_running_stats=True)\n",
       "      (relu): ReLU(inplace=True)\n",
       "    )\n",
       "    (16): Bottleneck(\n",
       "      (conv1): Conv2d(1024, 256, kernel_size=(1, 1), stride=(1, 1), bias=False)\n",
       "      (bn1): BatchNorm2d(256, eps=1e-05, momentum=0.1, affine=True, track_running_stats=True)\n",
       "      (conv2): Conv2d(256, 256, kernel_size=(3, 3), stride=(1, 1), padding=(1, 1), bias=False)\n",
       "      (bn2): BatchNorm2d(256, eps=1e-05, momentum=0.1, affine=True, track_running_stats=True)\n",
       "      (conv3): Conv2d(256, 1024, kernel_size=(1, 1), stride=(1, 1), bias=False)\n",
       "      (bn3): BatchNorm2d(1024, eps=1e-05, momentum=0.1, affine=True, track_running_stats=True)\n",
       "      (relu): ReLU(inplace=True)\n",
       "    )\n",
       "    (17): Bottleneck(\n",
       "      (conv1): Conv2d(1024, 256, kernel_size=(1, 1), stride=(1, 1), bias=False)\n",
       "      (bn1): BatchNorm2d(256, eps=1e-05, momentum=0.1, affine=True, track_running_stats=True)\n",
       "      (conv2): Conv2d(256, 256, kernel_size=(3, 3), stride=(1, 1), padding=(1, 1), bias=False)\n",
       "      (bn2): BatchNorm2d(256, eps=1e-05, momentum=0.1, affine=True, track_running_stats=True)\n",
       "      (conv3): Conv2d(256, 1024, kernel_size=(1, 1), stride=(1, 1), bias=False)\n",
       "      (bn3): BatchNorm2d(1024, eps=1e-05, momentum=0.1, affine=True, track_running_stats=True)\n",
       "      (relu): ReLU(inplace=True)\n",
       "    )\n",
       "    (18): Bottleneck(\n",
       "      (conv1): Conv2d(1024, 256, kernel_size=(1, 1), stride=(1, 1), bias=False)\n",
       "      (bn1): BatchNorm2d(256, eps=1e-05, momentum=0.1, affine=True, track_running_stats=True)\n",
       "      (conv2): Conv2d(256, 256, kernel_size=(3, 3), stride=(1, 1), padding=(1, 1), bias=False)\n",
       "      (bn2): BatchNorm2d(256, eps=1e-05, momentum=0.1, affine=True, track_running_stats=True)\n",
       "      (conv3): Conv2d(256, 1024, kernel_size=(1, 1), stride=(1, 1), bias=False)\n",
       "      (bn3): BatchNorm2d(1024, eps=1e-05, momentum=0.1, affine=True, track_running_stats=True)\n",
       "      (relu): ReLU(inplace=True)\n",
       "    )\n",
       "    (19): Bottleneck(\n",
       "      (conv1): Conv2d(1024, 256, kernel_size=(1, 1), stride=(1, 1), bias=False)\n",
       "      (bn1): BatchNorm2d(256, eps=1e-05, momentum=0.1, affine=True, track_running_stats=True)\n",
       "      (conv2): Conv2d(256, 256, kernel_size=(3, 3), stride=(1, 1), padding=(1, 1), bias=False)\n",
       "      (bn2): BatchNorm2d(256, eps=1e-05, momentum=0.1, affine=True, track_running_stats=True)\n",
       "      (conv3): Conv2d(256, 1024, kernel_size=(1, 1), stride=(1, 1), bias=False)\n",
       "      (bn3): BatchNorm2d(1024, eps=1e-05, momentum=0.1, affine=True, track_running_stats=True)\n",
       "      (relu): ReLU(inplace=True)\n",
       "    )\n",
       "    (20): Bottleneck(\n",
       "      (conv1): Conv2d(1024, 256, kernel_size=(1, 1), stride=(1, 1), bias=False)\n",
       "      (bn1): BatchNorm2d(256, eps=1e-05, momentum=0.1, affine=True, track_running_stats=True)\n",
       "      (conv2): Conv2d(256, 256, kernel_size=(3, 3), stride=(1, 1), padding=(1, 1), bias=False)\n",
       "      (bn2): BatchNorm2d(256, eps=1e-05, momentum=0.1, affine=True, track_running_stats=True)\n",
       "      (conv3): Conv2d(256, 1024, kernel_size=(1, 1), stride=(1, 1), bias=False)\n",
       "      (bn3): BatchNorm2d(1024, eps=1e-05, momentum=0.1, affine=True, track_running_stats=True)\n",
       "      (relu): ReLU(inplace=True)\n",
       "    )\n",
       "    (21): Bottleneck(\n",
       "      (conv1): Conv2d(1024, 256, kernel_size=(1, 1), stride=(1, 1), bias=False)\n",
       "      (bn1): BatchNorm2d(256, eps=1e-05, momentum=0.1, affine=True, track_running_stats=True)\n",
       "      (conv2): Conv2d(256, 256, kernel_size=(3, 3), stride=(1, 1), padding=(1, 1), bias=False)\n",
       "      (bn2): BatchNorm2d(256, eps=1e-05, momentum=0.1, affine=True, track_running_stats=True)\n",
       "      (conv3): Conv2d(256, 1024, kernel_size=(1, 1), stride=(1, 1), bias=False)\n",
       "      (bn3): BatchNorm2d(1024, eps=1e-05, momentum=0.1, affine=True, track_running_stats=True)\n",
       "      (relu): ReLU(inplace=True)\n",
       "    )\n",
       "    (22): Bottleneck(\n",
       "      (conv1): Conv2d(1024, 256, kernel_size=(1, 1), stride=(1, 1), bias=False)\n",
       "      (bn1): BatchNorm2d(256, eps=1e-05, momentum=0.1, affine=True, track_running_stats=True)\n",
       "      (conv2): Conv2d(256, 256, kernel_size=(3, 3), stride=(1, 1), padding=(1, 1), bias=False)\n",
       "      (bn2): BatchNorm2d(256, eps=1e-05, momentum=0.1, affine=True, track_running_stats=True)\n",
       "      (conv3): Conv2d(256, 1024, kernel_size=(1, 1), stride=(1, 1), bias=False)\n",
       "      (bn3): BatchNorm2d(1024, eps=1e-05, momentum=0.1, affine=True, track_running_stats=True)\n",
       "      (relu): ReLU(inplace=True)\n",
       "    )\n",
       "    (23): Bottleneck(\n",
       "      (conv1): Conv2d(1024, 256, kernel_size=(1, 1), stride=(1, 1), bias=False)\n",
       "      (bn1): BatchNorm2d(256, eps=1e-05, momentum=0.1, affine=True, track_running_stats=True)\n",
       "      (conv2): Conv2d(256, 256, kernel_size=(3, 3), stride=(1, 1), padding=(1, 1), bias=False)\n",
       "      (bn2): BatchNorm2d(256, eps=1e-05, momentum=0.1, affine=True, track_running_stats=True)\n",
       "      (conv3): Conv2d(256, 1024, kernel_size=(1, 1), stride=(1, 1), bias=False)\n",
       "      (bn3): BatchNorm2d(1024, eps=1e-05, momentum=0.1, affine=True, track_running_stats=True)\n",
       "      (relu): ReLU(inplace=True)\n",
       "    )\n",
       "    (24): Bottleneck(\n",
       "      (conv1): Conv2d(1024, 256, kernel_size=(1, 1), stride=(1, 1), bias=False)\n",
       "      (bn1): BatchNorm2d(256, eps=1e-05, momentum=0.1, affine=True, track_running_stats=True)\n",
       "      (conv2): Conv2d(256, 256, kernel_size=(3, 3), stride=(1, 1), padding=(1, 1), bias=False)\n",
       "      (bn2): BatchNorm2d(256, eps=1e-05, momentum=0.1, affine=True, track_running_stats=True)\n",
       "      (conv3): Conv2d(256, 1024, kernel_size=(1, 1), stride=(1, 1), bias=False)\n",
       "      (bn3): BatchNorm2d(1024, eps=1e-05, momentum=0.1, affine=True, track_running_stats=True)\n",
       "      (relu): ReLU(inplace=True)\n",
       "    )\n",
       "    (25): Bottleneck(\n",
       "      (conv1): Conv2d(1024, 256, kernel_size=(1, 1), stride=(1, 1), bias=False)\n",
       "      (bn1): BatchNorm2d(256, eps=1e-05, momentum=0.1, affine=True, track_running_stats=True)\n",
       "      (conv2): Conv2d(256, 256, kernel_size=(3, 3), stride=(1, 1), padding=(1, 1), bias=False)\n",
       "      (bn2): BatchNorm2d(256, eps=1e-05, momentum=0.1, affine=True, track_running_stats=True)\n",
       "      (conv3): Conv2d(256, 1024, kernel_size=(1, 1), stride=(1, 1), bias=False)\n",
       "      (bn3): BatchNorm2d(1024, eps=1e-05, momentum=0.1, affine=True, track_running_stats=True)\n",
       "      (relu): ReLU(inplace=True)\n",
       "    )\n",
       "    (26): Bottleneck(\n",
       "      (conv1): Conv2d(1024, 256, kernel_size=(1, 1), stride=(1, 1), bias=False)\n",
       "      (bn1): BatchNorm2d(256, eps=1e-05, momentum=0.1, affine=True, track_running_stats=True)\n",
       "      (conv2): Conv2d(256, 256, kernel_size=(3, 3), stride=(1, 1), padding=(1, 1), bias=False)\n",
       "      (bn2): BatchNorm2d(256, eps=1e-05, momentum=0.1, affine=True, track_running_stats=True)\n",
       "      (conv3): Conv2d(256, 1024, kernel_size=(1, 1), stride=(1, 1), bias=False)\n",
       "      (bn3): BatchNorm2d(1024, eps=1e-05, momentum=0.1, affine=True, track_running_stats=True)\n",
       "      (relu): ReLU(inplace=True)\n",
       "    )\n",
       "    (27): Bottleneck(\n",
       "      (conv1): Conv2d(1024, 256, kernel_size=(1, 1), stride=(1, 1), bias=False)\n",
       "      (bn1): BatchNorm2d(256, eps=1e-05, momentum=0.1, affine=True, track_running_stats=True)\n",
       "      (conv2): Conv2d(256, 256, kernel_size=(3, 3), stride=(1, 1), padding=(1, 1), bias=False)\n",
       "      (bn2): BatchNorm2d(256, eps=1e-05, momentum=0.1, affine=True, track_running_stats=True)\n",
       "      (conv3): Conv2d(256, 1024, kernel_size=(1, 1), stride=(1, 1), bias=False)\n",
       "      (bn3): BatchNorm2d(1024, eps=1e-05, momentum=0.1, affine=True, track_running_stats=True)\n",
       "      (relu): ReLU(inplace=True)\n",
       "    )\n",
       "    (28): Bottleneck(\n",
       "      (conv1): Conv2d(1024, 256, kernel_size=(1, 1), stride=(1, 1), bias=False)\n",
       "      (bn1): BatchNorm2d(256, eps=1e-05, momentum=0.1, affine=True, track_running_stats=True)\n",
       "      (conv2): Conv2d(256, 256, kernel_size=(3, 3), stride=(1, 1), padding=(1, 1), bias=False)\n",
       "      (bn2): BatchNorm2d(256, eps=1e-05, momentum=0.1, affine=True, track_running_stats=True)\n",
       "      (conv3): Conv2d(256, 1024, kernel_size=(1, 1), stride=(1, 1), bias=False)\n",
       "      (bn3): BatchNorm2d(1024, eps=1e-05, momentum=0.1, affine=True, track_running_stats=True)\n",
       "      (relu): ReLU(inplace=True)\n",
       "    )\n",
       "    (29): Bottleneck(\n",
       "      (conv1): Conv2d(1024, 256, kernel_size=(1, 1), stride=(1, 1), bias=False)\n",
       "      (bn1): BatchNorm2d(256, eps=1e-05, momentum=0.1, affine=True, track_running_stats=True)\n",
       "      (conv2): Conv2d(256, 256, kernel_size=(3, 3), stride=(1, 1), padding=(1, 1), bias=False)\n",
       "      (bn2): BatchNorm2d(256, eps=1e-05, momentum=0.1, affine=True, track_running_stats=True)\n",
       "      (conv3): Conv2d(256, 1024, kernel_size=(1, 1), stride=(1, 1), bias=False)\n",
       "      (bn3): BatchNorm2d(1024, eps=1e-05, momentum=0.1, affine=True, track_running_stats=True)\n",
       "      (relu): ReLU(inplace=True)\n",
       "    )\n",
       "    (30): Bottleneck(\n",
       "      (conv1): Conv2d(1024, 256, kernel_size=(1, 1), stride=(1, 1), bias=False)\n",
       "      (bn1): BatchNorm2d(256, eps=1e-05, momentum=0.1, affine=True, track_running_stats=True)\n",
       "      (conv2): Conv2d(256, 256, kernel_size=(3, 3), stride=(1, 1), padding=(1, 1), bias=False)\n",
       "      (bn2): BatchNorm2d(256, eps=1e-05, momentum=0.1, affine=True, track_running_stats=True)\n",
       "      (conv3): Conv2d(256, 1024, kernel_size=(1, 1), stride=(1, 1), bias=False)\n",
       "      (bn3): BatchNorm2d(1024, eps=1e-05, momentum=0.1, affine=True, track_running_stats=True)\n",
       "      (relu): ReLU(inplace=True)\n",
       "    )\n",
       "    (31): Bottleneck(\n",
       "      (conv1): Conv2d(1024, 256, kernel_size=(1, 1), stride=(1, 1), bias=False)\n",
       "      (bn1): BatchNorm2d(256, eps=1e-05, momentum=0.1, affine=True, track_running_stats=True)\n",
       "      (conv2): Conv2d(256, 256, kernel_size=(3, 3), stride=(1, 1), padding=(1, 1), bias=False)\n",
       "      (bn2): BatchNorm2d(256, eps=1e-05, momentum=0.1, affine=True, track_running_stats=True)\n",
       "      (conv3): Conv2d(256, 1024, kernel_size=(1, 1), stride=(1, 1), bias=False)\n",
       "      (bn3): BatchNorm2d(1024, eps=1e-05, momentum=0.1, affine=True, track_running_stats=True)\n",
       "      (relu): ReLU(inplace=True)\n",
       "    )\n",
       "    (32): Bottleneck(\n",
       "      (conv1): Conv2d(1024, 256, kernel_size=(1, 1), stride=(1, 1), bias=False)\n",
       "      (bn1): BatchNorm2d(256, eps=1e-05, momentum=0.1, affine=True, track_running_stats=True)\n",
       "      (conv2): Conv2d(256, 256, kernel_size=(3, 3), stride=(1, 1), padding=(1, 1), bias=False)\n",
       "      (bn2): BatchNorm2d(256, eps=1e-05, momentum=0.1, affine=True, track_running_stats=True)\n",
       "      (conv3): Conv2d(256, 1024, kernel_size=(1, 1), stride=(1, 1), bias=False)\n",
       "      (bn3): BatchNorm2d(1024, eps=1e-05, momentum=0.1, affine=True, track_running_stats=True)\n",
       "      (relu): ReLU(inplace=True)\n",
       "    )\n",
       "    (33): Bottleneck(\n",
       "      (conv1): Conv2d(1024, 256, kernel_size=(1, 1), stride=(1, 1), bias=False)\n",
       "      (bn1): BatchNorm2d(256, eps=1e-05, momentum=0.1, affine=True, track_running_stats=True)\n",
       "      (conv2): Conv2d(256, 256, kernel_size=(3, 3), stride=(1, 1), padding=(1, 1), bias=False)\n",
       "      (bn2): BatchNorm2d(256, eps=1e-05, momentum=0.1, affine=True, track_running_stats=True)\n",
       "      (conv3): Conv2d(256, 1024, kernel_size=(1, 1), stride=(1, 1), bias=False)\n",
       "      (bn3): BatchNorm2d(1024, eps=1e-05, momentum=0.1, affine=True, track_running_stats=True)\n",
       "      (relu): ReLU(inplace=True)\n",
       "    )\n",
       "    (34): Bottleneck(\n",
       "      (conv1): Conv2d(1024, 256, kernel_size=(1, 1), stride=(1, 1), bias=False)\n",
       "      (bn1): BatchNorm2d(256, eps=1e-05, momentum=0.1, affine=True, track_running_stats=True)\n",
       "      (conv2): Conv2d(256, 256, kernel_size=(3, 3), stride=(1, 1), padding=(1, 1), bias=False)\n",
       "      (bn2): BatchNorm2d(256, eps=1e-05, momentum=0.1, affine=True, track_running_stats=True)\n",
       "      (conv3): Conv2d(256, 1024, kernel_size=(1, 1), stride=(1, 1), bias=False)\n",
       "      (bn3): BatchNorm2d(1024, eps=1e-05, momentum=0.1, affine=True, track_running_stats=True)\n",
       "      (relu): ReLU(inplace=True)\n",
       "    )\n",
       "    (35): Bottleneck(\n",
       "      (conv1): Conv2d(1024, 256, kernel_size=(1, 1), stride=(1, 1), bias=False)\n",
       "      (bn1): BatchNorm2d(256, eps=1e-05, momentum=0.1, affine=True, track_running_stats=True)\n",
       "      (conv2): Conv2d(256, 256, kernel_size=(3, 3), stride=(1, 1), padding=(1, 1), bias=False)\n",
       "      (bn2): BatchNorm2d(256, eps=1e-05, momentum=0.1, affine=True, track_running_stats=True)\n",
       "      (conv3): Conv2d(256, 1024, kernel_size=(1, 1), stride=(1, 1), bias=False)\n",
       "      (bn3): BatchNorm2d(1024, eps=1e-05, momentum=0.1, affine=True, track_running_stats=True)\n",
       "      (relu): ReLU(inplace=True)\n",
       "    )\n",
       "  )\n",
       "  (layer4): Sequential(\n",
       "    (0): Bottleneck(\n",
       "      (conv1): Conv2d(1024, 512, kernel_size=(1, 1), stride=(1, 1), bias=False)\n",
       "      (bn1): BatchNorm2d(512, eps=1e-05, momentum=0.1, affine=True, track_running_stats=True)\n",
       "      (conv2): Conv2d(512, 512, kernel_size=(3, 3), stride=(2, 2), padding=(1, 1), bias=False)\n",
       "      (bn2): BatchNorm2d(512, eps=1e-05, momentum=0.1, affine=True, track_running_stats=True)\n",
       "      (conv3): Conv2d(512, 2048, kernel_size=(1, 1), stride=(1, 1), bias=False)\n",
       "      (bn3): BatchNorm2d(2048, eps=1e-05, momentum=0.1, affine=True, track_running_stats=True)\n",
       "      (relu): ReLU(inplace=True)\n",
       "      (downsample): Sequential(\n",
       "        (0): Conv2d(1024, 2048, kernel_size=(1, 1), stride=(2, 2), bias=False)\n",
       "        (1): BatchNorm2d(2048, eps=1e-05, momentum=0.1, affine=True, track_running_stats=True)\n",
       "      )\n",
       "    )\n",
       "    (1): Bottleneck(\n",
       "      (conv1): Conv2d(2048, 512, kernel_size=(1, 1), stride=(1, 1), bias=False)\n",
       "      (bn1): BatchNorm2d(512, eps=1e-05, momentum=0.1, affine=True, track_running_stats=True)\n",
       "      (conv2): Conv2d(512, 512, kernel_size=(3, 3), stride=(1, 1), padding=(1, 1), bias=False)\n",
       "      (bn2): BatchNorm2d(512, eps=1e-05, momentum=0.1, affine=True, track_running_stats=True)\n",
       "      (conv3): Conv2d(512, 2048, kernel_size=(1, 1), stride=(1, 1), bias=False)\n",
       "      (bn3): BatchNorm2d(2048, eps=1e-05, momentum=0.1, affine=True, track_running_stats=True)\n",
       "      (relu): ReLU(inplace=True)\n",
       "    )\n",
       "    (2): Bottleneck(\n",
       "      (conv1): Conv2d(2048, 512, kernel_size=(1, 1), stride=(1, 1), bias=False)\n",
       "      (bn1): BatchNorm2d(512, eps=1e-05, momentum=0.1, affine=True, track_running_stats=True)\n",
       "      (conv2): Conv2d(512, 512, kernel_size=(3, 3), stride=(1, 1), padding=(1, 1), bias=False)\n",
       "      (bn2): BatchNorm2d(512, eps=1e-05, momentum=0.1, affine=True, track_running_stats=True)\n",
       "      (conv3): Conv2d(512, 2048, kernel_size=(1, 1), stride=(1, 1), bias=False)\n",
       "      (bn3): BatchNorm2d(2048, eps=1e-05, momentum=0.1, affine=True, track_running_stats=True)\n",
       "      (relu): ReLU(inplace=True)\n",
       "    )\n",
       "  )\n",
       "  (avgpool): AdaptiveAvgPool2d(output_size=(1, 1))\n",
       "  (fc): Linear(in_features=2048, out_features=102, bias=True)\n",
       ")"
      ]
     },
     "execution_count": 11,
     "metadata": {},
     "output_type": "execute_result"
    }
   ],
   "source": [
    "lr = lr_base\n",
    "def adjust_learning_rate(optimizer, current_epoch, max_epoch, lr_min=lr_min, lr_max=lr_base, warmup=True):\n",
    "    if current_epoch < warmup_epoch:\n",
    "        lr = lr_max * (current_epoch+1) / (warmup_epoch+1)\n",
    "    else:\n",
    "        lr = lr_min + (lr_max-lr_min)*(1 + cos(pi * (current_epoch - warmup_epoch) / (max_epoch - warmup_epoch))) / 2\n",
    "    for param_group in optimizer.param_groups:\n",
    "        param_group['lr'] = lr\n",
    "    print(\"Learning rate is set to \"+str(lr))\n",
    "\n",
    "optimiser = optim.SGD(filter(lambda p: p.requires_grad, model.parameters()), \n",
    "                      lr=lr,\n",
    "                      momentum=0.9) #only optimse non-frozen layers\n",
    "model.to(device)"
   ]
  },
  {
   "cell_type": "code",
   "execution_count": 12,
   "id": "ef312b08",
   "metadata": {
    "ExecuteTime": {
     "end_time": "2022-04-27T00:04:59.268854Z",
     "start_time": "2022-04-27T00:00:13.878033Z"
    },
    "scrolled": true
   },
   "outputs": [
    {
     "name": "stdout",
     "output_type": "stream",
     "text": [
      "Learning rate is set to 0.004545454545454546\n"
     ]
    },
    {
     "data": {
      "application/vnd.jupyter.widget-view+json": {
       "model_id": "284bf725f6a849f994ea0d480a994051",
       "version_major": 2,
       "version_minor": 0
      },
      "text/plain": [
       "Train(epoch0):   0%|          | 0/2 [00:00<?, ?it/s]"
      ]
     },
     "metadata": {},
     "output_type": "display_data"
    },
    {
     "name": "stderr",
     "output_type": "stream",
     "text": [
      "/home/hf5n21/.conda/envs/pytorch/lib/python3.7/site-packages/ipykernel_launcher.py:26: UserWarning: Implicit dimension choice for softmax has been deprecated. Change the call to include dim=X as an argument.\n"
     ]
    },
    {
     "name": "stdout",
     "output_type": "stream",
     "text": [
      "epoch 0/40:(tr)loss=9.3665\n",
      "epoch 0/40:(tr)acc=0.7843%\n",
      "Learning rate is set to 0.009090909090909092\n"
     ]
    },
    {
     "data": {
      "application/vnd.jupyter.widget-view+json": {
       "model_id": "eb247cc199bf4e4492d0945ea0d7445d",
       "version_major": 2,
       "version_minor": 0
      },
      "text/plain": [
       "Train(epoch1):   0%|          | 0/2 [00:00<?, ?it/s]"
      ]
     },
     "metadata": {},
     "output_type": "display_data"
    },
    {
     "name": "stdout",
     "output_type": "stream",
     "text": [
      "epoch 1/40:(tr)loss=9.2811\n",
      "epoch 1/40:(tr)acc=1.4706%\n",
      "Learning rate is set to 0.01363636363636364\n"
     ]
    },
    {
     "data": {
      "application/vnd.jupyter.widget-view+json": {
       "model_id": "1b8f6559e8cf4709b48333795d09b812",
       "version_major": 2,
       "version_minor": 0
      },
      "text/plain": [
       "Train(epoch2):   0%|          | 0/2 [00:00<?, ?it/s]"
      ]
     },
     "metadata": {},
     "output_type": "display_data"
    },
    {
     "name": "stdout",
     "output_type": "stream",
     "text": [
      "epoch 2/40:(tr)loss=9.0229\n",
      "epoch 2/40:(tr)acc=3.9216%\n",
      "Learning rate is set to 0.018181818181818184\n"
     ]
    },
    {
     "data": {
      "application/vnd.jupyter.widget-view+json": {
       "model_id": "b0e2137bbd4041a2bd8c700553da2ed2",
       "version_major": 2,
       "version_minor": 0
      },
      "text/plain": [
       "Train(epoch3):   0%|          | 0/2 [00:00<?, ?it/s]"
      ]
     },
     "metadata": {},
     "output_type": "display_data"
    },
    {
     "name": "stdout",
     "output_type": "stream",
     "text": [
      "epoch 3/40:(tr)loss=8.5549\n",
      "epoch 3/40:(tr)acc=22.6471%\n",
      "Learning rate is set to 0.022727272727272728\n"
     ]
    },
    {
     "data": {
      "application/vnd.jupyter.widget-view+json": {
       "model_id": "6b8039edd1da40aa9b2051729432baa7",
       "version_major": 2,
       "version_minor": 0
      },
      "text/plain": [
       "Train(epoch4):   0%|          | 0/2 [00:00<?, ?it/s]"
      ]
     },
     "metadata": {},
     "output_type": "display_data"
    },
    {
     "name": "stdout",
     "output_type": "stream",
     "text": [
      "epoch 4/40:(tr)loss=7.8621\n",
      "epoch 4/40:(tr)acc=50.0000%\n",
      "Learning rate is set to 0.02727272727272728\n"
     ]
    },
    {
     "data": {
      "application/vnd.jupyter.widget-view+json": {
       "model_id": "75437b09e011482c9fbebb015d31b90a",
       "version_major": 2,
       "version_minor": 0
      },
      "text/plain": [
       "Train(epoch5):   0%|          | 0/2 [00:00<?, ?it/s]"
      ]
     },
     "metadata": {},
     "output_type": "display_data"
    },
    {
     "name": "stdout",
     "output_type": "stream",
     "text": [
      "epoch 5/40:(tr)loss=6.8968\n",
      "epoch 5/40:(tr)acc=70.1961%\n",
      "Learning rate is set to 0.03181818181818182\n"
     ]
    },
    {
     "data": {
      "application/vnd.jupyter.widget-view+json": {
       "model_id": "1bf1b554053445f39500bd94c426fa35",
       "version_major": 2,
       "version_minor": 0
      },
      "text/plain": [
       "Train(epoch6):   0%|          | 0/2 [00:00<?, ?it/s]"
      ]
     },
     "metadata": {},
     "output_type": "display_data"
    },
    {
     "name": "stdout",
     "output_type": "stream",
     "text": [
      "epoch 6/40:(tr)loss=5.6184\n",
      "epoch 6/40:(tr)acc=87.0588%\n",
      "Learning rate is set to 0.03636363636363637\n"
     ]
    },
    {
     "data": {
      "application/vnd.jupyter.widget-view+json": {
       "model_id": "c12c635b0ab3456aa903e9be3ef848a4",
       "version_major": 2,
       "version_minor": 0
      },
      "text/plain": [
       "Train(epoch7):   0%|          | 0/2 [00:00<?, ?it/s]"
      ]
     },
     "metadata": {},
     "output_type": "display_data"
    },
    {
     "name": "stdout",
     "output_type": "stream",
     "text": [
      "epoch 7/40:(tr)loss=4.1769\n",
      "epoch 7/40:(tr)acc=93.7255%\n",
      "Learning rate is set to 0.04090909090909091\n"
     ]
    },
    {
     "data": {
      "application/vnd.jupyter.widget-view+json": {
       "model_id": "962e33be3d5a4539810cf41b195e38d1",
       "version_major": 2,
       "version_minor": 0
      },
      "text/plain": [
       "Train(epoch8):   0%|          | 0/2 [00:00<?, ?it/s]"
      ]
     },
     "metadata": {},
     "output_type": "display_data"
    },
    {
     "name": "stdout",
     "output_type": "stream",
     "text": [
      "epoch 8/40:(tr)loss=2.8440\n",
      "epoch 8/40:(tr)acc=96.2745%\n",
      "Learning rate is set to 0.045454545454545456\n"
     ]
    },
    {
     "data": {
      "application/vnd.jupyter.widget-view+json": {
       "model_id": "17476d8431404424b8ff2b0ec9637c62",
       "version_major": 2,
       "version_minor": 0
      },
      "text/plain": [
       "Train(epoch9):   0%|          | 0/2 [00:00<?, ?it/s]"
      ]
     },
     "metadata": {},
     "output_type": "display_data"
    },
    {
     "name": "stdout",
     "output_type": "stream",
     "text": [
      "epoch 9/40:(tr)loss=1.7427\n",
      "epoch 9/40:(tr)acc=97.2549%\n"
     ]
    },
    {
     "data": {
      "application/vnd.jupyter.widget-view+json": {
       "model_id": "eb771be97127451f9d31e4ad260dd90e",
       "version_major": 2,
       "version_minor": 0
      },
      "text/plain": [
       "test9:   0%|          | 0/13 [00:00<?, ?it/s]"
      ]
     },
     "metadata": {},
     "output_type": "display_data"
    },
    {
     "name": "stderr",
     "output_type": "stream",
     "text": [
      "/home/hf5n21/.conda/envs/pytorch/lib/python3.7/site-packages/ipykernel_launcher.py:57: UserWarning: Implicit dimension choice for softmax has been deprecated. Change the call to include dim=X as an argument.\n"
     ]
    },
    {
     "name": "stdout",
     "output_type": "stream",
     "text": [
      "epoch 9/40:(te)loss=19.1483\n",
      "epoch 9/40:(te)acc=75.6708%\n",
      "Learning rate is set to 0.05\n"
     ]
    },
    {
     "data": {
      "application/vnd.jupyter.widget-view+json": {
       "model_id": "58a1e23baa2f48f0bbcbbc36252b1dbc",
       "version_major": 2,
       "version_minor": 0
      },
      "text/plain": [
       "Train(epoch10):   0%|          | 0/2 [00:00<?, ?it/s]"
      ]
     },
     "metadata": {},
     "output_type": "display_data"
    },
    {
     "name": "stdout",
     "output_type": "stream",
     "text": [
      "epoch 10/40:(tr)loss=0.9684\n",
      "epoch 10/40:(tr)acc=98.0392%\n",
      "Learning rate is set to 0.04987674264578615\n"
     ]
    },
    {
     "data": {
      "application/vnd.jupyter.widget-view+json": {
       "model_id": "73c30154c2a140d0a01793517bbf7945",
       "version_major": 2,
       "version_minor": 0
      },
      "text/plain": [
       "Train(epoch11):   0%|          | 0/2 [00:00<?, ?it/s]"
      ]
     },
     "metadata": {},
     "output_type": "display_data"
    },
    {
     "name": "stdout",
     "output_type": "stream",
     "text": [
      "epoch 11/40:(tr)loss=0.5130\n",
      "epoch 11/40:(tr)acc=99.2157%\n",
      "Learning rate is set to 0.049508321016510634\n"
     ]
    },
    {
     "data": {
      "application/vnd.jupyter.widget-view+json": {
       "model_id": "2a66ec4da4a9499b821b18473ffecc75",
       "version_major": 2,
       "version_minor": 0
      },
      "text/plain": [
       "Train(epoch12):   0%|          | 0/2 [00:00<?, ?it/s]"
      ]
     },
     "metadata": {},
     "output_type": "display_data"
    },
    {
     "name": "stdout",
     "output_type": "stream",
     "text": [
      "epoch 12/40:(tr)loss=0.2843\n",
      "epoch 12/40:(tr)acc=99.5098%\n",
      "Learning rate is set to 0.04889877161664096\n"
     ]
    },
    {
     "data": {
      "application/vnd.jupyter.widget-view+json": {
       "model_id": "9abc4f758e714c35b41c805d2dee7eef",
       "version_major": 2,
       "version_minor": 0
      },
      "text/plain": [
       "Train(epoch13):   0%|          | 0/2 [00:00<?, ?it/s]"
      ]
     },
     "metadata": {},
     "output_type": "display_data"
    },
    {
     "name": "stdout",
     "output_type": "stream",
     "text": [
      "epoch 13/40:(tr)loss=0.1662\n",
      "epoch 13/40:(tr)acc=99.8039%\n",
      "Learning rate is set to 0.04805477279695852\n"
     ]
    },
    {
     "data": {
      "application/vnd.jupyter.widget-view+json": {
       "model_id": "ddfb24c2c1f54572afab1cac50ca19da",
       "version_major": 2,
       "version_minor": 0
      },
      "text/plain": [
       "Train(epoch14):   0%|          | 0/2 [00:00<?, ?it/s]"
      ]
     },
     "metadata": {},
     "output_type": "display_data"
    },
    {
     "name": "stdout",
     "output_type": "stream",
     "text": [
      "epoch 14/40:(tr)loss=0.0992\n",
      "epoch 14/40:(tr)acc=100.0000%\n",
      "Learning rate is set to 0.04698557158514988\n"
     ]
    },
    {
     "data": {
      "application/vnd.jupyter.widget-view+json": {
       "model_id": "0eb929c4f69042c893fffd3087de0a32",
       "version_major": 2,
       "version_minor": 0
      },
      "text/plain": [
       "Train(epoch15):   0%|          | 0/2 [00:00<?, ?it/s]"
      ]
     },
     "metadata": {},
     "output_type": "display_data"
    },
    {
     "name": "stdout",
     "output_type": "stream",
     "text": [
      "epoch 15/40:(tr)loss=0.0608\n",
      "epoch 15/40:(tr)acc=100.0000%\n",
      "Learning rate is set to 0.04570288237343632\n"
     ]
    },
    {
     "data": {
      "application/vnd.jupyter.widget-view+json": {
       "model_id": "6a1d6fddf3a34ae38c00014256b261c4",
       "version_major": 2,
       "version_minor": 0
      },
      "text/plain": [
       "Train(epoch16):   0%|          | 0/2 [00:00<?, ?it/s]"
      ]
     },
     "metadata": {},
     "output_type": "display_data"
    },
    {
     "name": "stdout",
     "output_type": "stream",
     "text": [
      "epoch 16/40:(tr)loss=0.0396\n",
      "epoch 16/40:(tr)acc=100.0000%\n",
      "Learning rate is set to 0.04422075857324137\n"
     ]
    },
    {
     "data": {
      "application/vnd.jupyter.widget-view+json": {
       "model_id": "ff53b8f80a6b48a68f974b860a0bba7a",
       "version_major": 2,
       "version_minor": 0
      },
      "text/plain": [
       "Train(epoch17):   0%|          | 0/2 [00:00<?, ?it/s]"
      ]
     },
     "metadata": {},
     "output_type": "display_data"
    },
    {
     "name": "stdout",
     "output_type": "stream",
     "text": [
      "epoch 17/40:(tr)loss=0.0278\n",
      "epoch 17/40:(tr)acc=100.0000%\n",
      "Learning rate is set to 0.04255543864307431\n"
     ]
    },
    {
     "data": {
      "application/vnd.jupyter.widget-view+json": {
       "model_id": "48c237be253f4e389a00cd46c05b8678",
       "version_major": 2,
       "version_minor": 0
      },
      "text/plain": [
       "Train(epoch18):   0%|          | 0/2 [00:00<?, ?it/s]"
      ]
     },
     "metadata": {},
     "output_type": "display_data"
    },
    {
     "name": "stdout",
     "output_type": "stream",
     "text": [
      "epoch 18/40:(tr)loss=0.0209\n",
      "epoch 18/40:(tr)acc=100.0000%\n",
      "Learning rate is set to 0.040725168176580645\n"
     ]
    },
    {
     "data": {
      "application/vnd.jupyter.widget-view+json": {
       "model_id": "05fc1de182ea40308e5b51dfa2f101a9",
       "version_major": 2,
       "version_minor": 0
      },
      "text/plain": [
       "Train(epoch19):   0%|          | 0/2 [00:00<?, ?it/s]"
      ]
     },
     "metadata": {},
     "output_type": "display_data"
    },
    {
     "name": "stdout",
     "output_type": "stream",
     "text": [
      "epoch 19/40:(tr)loss=0.0165\n",
      "epoch 19/40:(tr)acc=100.0000%\n"
     ]
    },
    {
     "data": {
      "application/vnd.jupyter.widget-view+json": {
       "model_id": "3245c3bdea024567a234d1ca6307b38b",
       "version_major": 2,
       "version_minor": 0
      },
      "text/plain": [
       "test19:   0%|          | 0/13 [00:00<?, ?it/s]"
      ]
     },
     "metadata": {},
     "output_type": "display_data"
    },
    {
     "name": "stdout",
     "output_type": "stream",
     "text": [
      "epoch 19/40:(te)loss=6.8384\n",
      "epoch 19/40:(te)acc=87.7541%\n",
      "Learning rate is set to 0.03875\n"
     ]
    },
    {
     "data": {
      "application/vnd.jupyter.widget-view+json": {
       "model_id": "a8ac7f1996eb42fb8ba7d355eed5a856",
       "version_major": 2,
       "version_minor": 0
      },
      "text/plain": [
       "Train(epoch20):   0%|          | 0/2 [00:00<?, ?it/s]"
      ]
     },
     "metadata": {},
     "output_type": "display_data"
    },
    {
     "name": "stdout",
     "output_type": "stream",
     "text": [
      "epoch 20/40:(tr)loss=0.0136\n",
      "epoch 20/40:(tr)acc=100.0000%\n",
      "Learning rate is set to 0.03665157446920551\n"
     ]
    },
    {
     "data": {
      "application/vnd.jupyter.widget-view+json": {
       "model_id": "afe0d3f9020a4157aec962eb2f715407",
       "version_major": 2,
       "version_minor": 0
      },
      "text/plain": [
       "Train(epoch21):   0%|          | 0/2 [00:00<?, ?it/s]"
      ]
     },
     "metadata": {},
     "output_type": "display_data"
    },
    {
     "name": "stdout",
     "output_type": "stream",
     "text": [
      "epoch 21/40:(tr)loss=0.0116\n",
      "epoch 21/40:(tr)acc=100.0000%\n",
      "Learning rate is set to 0.03445288237343632\n"
     ]
    },
    {
     "data": {
      "application/vnd.jupyter.widget-view+json": {
       "model_id": "adbc402eb85d40429181c687527d009d",
       "version_major": 2,
       "version_minor": 0
      },
      "text/plain": [
       "Train(epoch22):   0%|          | 0/2 [00:00<?, ?it/s]"
      ]
     },
     "metadata": {},
     "output_type": "display_data"
    },
    {
     "name": "stdout",
     "output_type": "stream",
     "text": [
      "epoch 22/40:(tr)loss=0.0102\n",
      "epoch 22/40:(tr)acc=100.0000%\n",
      "Learning rate is set to 0.03217801304339958\n"
     ]
    },
    {
     "data": {
      "application/vnd.jupyter.widget-view+json": {
       "model_id": "cedb990166614270b8b96d4d0a476f76",
       "version_major": 2,
       "version_minor": 0
      },
      "text/plain": [
       "Train(epoch23):   0%|          | 0/2 [00:00<?, ?it/s]"
      ]
     },
     "metadata": {},
     "output_type": "display_data"
    },
    {
     "name": "stdout",
     "output_type": "stream",
     "text": [
      "epoch 23/40:(tr)loss=0.0091\n",
      "epoch 23/40:(tr)acc=100.0000%\n",
      "Learning rate is set to 0.02985189042352221\n"
     ]
    },
    {
     "data": {
      "application/vnd.jupyter.widget-view+json": {
       "model_id": "032d4c46f7524d3a866ac816842e9876",
       "version_major": 2,
       "version_minor": 0
      },
      "text/plain": [
       "Train(epoch24):   0%|          | 0/2 [00:00<?, ?it/s]"
      ]
     },
     "metadata": {},
     "output_type": "display_data"
    },
    {
     "name": "stdout",
     "output_type": "stream",
     "text": [
      "epoch 24/40:(tr)loss=0.0084\n",
      "epoch 24/40:(tr)acc=100.0000%\n",
      "Learning rate is set to 0.027500000000000007\n"
     ]
    },
    {
     "data": {
      "application/vnd.jupyter.widget-view+json": {
       "model_id": "5d9853767c4645929411b3779e1e090b",
       "version_major": 2,
       "version_minor": 0
      },
      "text/plain": [
       "Train(epoch25):   0%|          | 0/2 [00:00<?, ?it/s]"
      ]
     },
     "metadata": {},
     "output_type": "display_data"
    },
    {
     "name": "stdout",
     "output_type": "stream",
     "text": [
      "epoch 25/40:(tr)loss=0.0078\n",
      "epoch 25/40:(tr)acc=100.0000%\n",
      "Learning rate is set to 0.025148109576477805\n"
     ]
    },
    {
     "data": {
      "application/vnd.jupyter.widget-view+json": {
       "model_id": "e412d4b89b9549fb86f2a063137d7d0e",
       "version_major": 2,
       "version_minor": 0
      },
      "text/plain": [
       "Train(epoch26):   0%|          | 0/2 [00:00<?, ?it/s]"
      ]
     },
     "metadata": {},
     "output_type": "display_data"
    },
    {
     "name": "stdout",
     "output_type": "stream",
     "text": [
      "epoch 26/40:(tr)loss=0.0074\n",
      "epoch 26/40:(tr)acc=100.0000%\n",
      "Learning rate is set to 0.022821986956600416\n"
     ]
    },
    {
     "data": {
      "application/vnd.jupyter.widget-view+json": {
       "model_id": "bed9c165f3ec4f9999b298120a750227",
       "version_major": 2,
       "version_minor": 0
      },
      "text/plain": [
       "Train(epoch27):   0%|          | 0/2 [00:00<?, ?it/s]"
      ]
     },
     "metadata": {},
     "output_type": "display_data"
    },
    {
     "name": "stdout",
     "output_type": "stream",
     "text": [
      "epoch 27/40:(tr)loss=0.0071\n",
      "epoch 27/40:(tr)acc=100.0000%\n",
      "Learning rate is set to 0.020547117626563687\n"
     ]
    },
    {
     "data": {
      "application/vnd.jupyter.widget-view+json": {
       "model_id": "9d1f2373eb8449bc9ef94a82e4ec87fc",
       "version_major": 2,
       "version_minor": 0
      },
      "text/plain": [
       "Train(epoch28):   0%|          | 0/2 [00:00<?, ?it/s]"
      ]
     },
     "metadata": {},
     "output_type": "display_data"
    },
    {
     "name": "stdout",
     "output_type": "stream",
     "text": [
      "epoch 28/40:(tr)loss=0.0068\n",
      "epoch 28/40:(tr)acc=100.0000%\n",
      "Learning rate is set to 0.0183484255307945\n"
     ]
    },
    {
     "data": {
      "application/vnd.jupyter.widget-view+json": {
       "model_id": "33c99fee66ad498d91a9c04c2ec704b5",
       "version_major": 2,
       "version_minor": 0
      },
      "text/plain": [
       "Train(epoch29):   0%|          | 0/2 [00:00<?, ?it/s]"
      ]
     },
     "metadata": {},
     "output_type": "display_data"
    },
    {
     "name": "stdout",
     "output_type": "stream",
     "text": [
      "epoch 29/40:(tr)loss=0.0066\n",
      "epoch 29/40:(tr)acc=100.0000%\n"
     ]
    },
    {
     "data": {
      "application/vnd.jupyter.widget-view+json": {
       "model_id": "fb0a0bc7dc764934ba0cbe1434082a0f",
       "version_major": 2,
       "version_minor": 0
      },
      "text/plain": [
       "test29:   0%|          | 0/13 [00:00<?, ?it/s]"
      ]
     },
     "metadata": {},
     "output_type": "display_data"
    },
    {
     "name": "stdout",
     "output_type": "stream",
     "text": [
      "epoch 29/40:(te)loss=6.1674\n",
      "epoch 29/40:(te)acc=88.9576%\n",
      "Learning rate is set to 0.016250000000000007\n"
     ]
    },
    {
     "data": {
      "application/vnd.jupyter.widget-view+json": {
       "model_id": "800559957ed94f7a8b9c818685528b8d",
       "version_major": 2,
       "version_minor": 0
      },
      "text/plain": [
       "Train(epoch30):   0%|          | 0/2 [00:00<?, ?it/s]"
      ]
     },
     "metadata": {},
     "output_type": "display_data"
    },
    {
     "name": "stdout",
     "output_type": "stream",
     "text": [
      "epoch 30/40:(tr)loss=0.0065\n",
      "epoch 30/40:(tr)acc=100.0000%\n",
      "Learning rate is set to 0.014274831823419359\n"
     ]
    },
    {
     "data": {
      "application/vnd.jupyter.widget-view+json": {
       "model_id": "8b62181476f64c40bef1645e2bbdb9f2",
       "version_major": 2,
       "version_minor": 0
      },
      "text/plain": [
       "Train(epoch31):   0%|          | 0/2 [00:00<?, ?it/s]"
      ]
     },
     "metadata": {},
     "output_type": "display_data"
    },
    {
     "name": "stdout",
     "output_type": "stream",
     "text": [
      "epoch 31/40:(tr)loss=0.0064\n",
      "epoch 31/40:(tr)acc=100.0000%\n",
      "Learning rate is set to 0.012444561356925697\n"
     ]
    },
    {
     "data": {
      "application/vnd.jupyter.widget-view+json": {
       "model_id": "727dffe04c814a3a9f44e54c0d7425ad",
       "version_major": 2,
       "version_minor": 0
      },
      "text/plain": [
       "Train(epoch32):   0%|          | 0/2 [00:00<?, ?it/s]"
      ]
     },
     "metadata": {},
     "output_type": "display_data"
    },
    {
     "name": "stdout",
     "output_type": "stream",
     "text": [
      "epoch 32/40:(tr)loss=0.0063\n",
      "epoch 32/40:(tr)acc=100.0000%\n",
      "Learning rate is set to 0.010779241426758636\n"
     ]
    },
    {
     "data": {
      "application/vnd.jupyter.widget-view+json": {
       "model_id": "b8fa278ef2344073a6d0c60866537fa6",
       "version_major": 2,
       "version_minor": 0
      },
      "text/plain": [
       "Train(epoch33):   0%|          | 0/2 [00:00<?, ?it/s]"
      ]
     },
     "metadata": {},
     "output_type": "display_data"
    },
    {
     "name": "stdout",
     "output_type": "stream",
     "text": [
      "epoch 33/40:(tr)loss=0.0062\n",
      "epoch 33/40:(tr)acc=100.0000%\n",
      "Learning rate is set to 0.009297117626563685\n"
     ]
    },
    {
     "data": {
      "application/vnd.jupyter.widget-view+json": {
       "model_id": "c8c1c0b350d144ac90dc826b26506662",
       "version_major": 2,
       "version_minor": 0
      },
      "text/plain": [
       "Train(epoch34):   0%|          | 0/2 [00:00<?, ?it/s]"
      ]
     },
     "metadata": {},
     "output_type": "display_data"
    },
    {
     "name": "stdout",
     "output_type": "stream",
     "text": [
      "epoch 34/40:(tr)loss=0.0061\n",
      "epoch 34/40:(tr)acc=100.0000%\n",
      "Learning rate is set to 0.00801442841485013\n"
     ]
    },
    {
     "data": {
      "application/vnd.jupyter.widget-view+json": {
       "model_id": "87393b13ac3245a99c8a86c1068f76db",
       "version_major": 2,
       "version_minor": 0
      },
      "text/plain": [
       "Train(epoch35):   0%|          | 0/2 [00:00<?, ?it/s]"
      ]
     },
     "metadata": {},
     "output_type": "display_data"
    },
    {
     "name": "stdout",
     "output_type": "stream",
     "text": [
      "epoch 35/40:(tr)loss=0.0061\n",
      "epoch 35/40:(tr)acc=100.0000%\n",
      "Learning rate is set to 0.006945227203041479\n"
     ]
    },
    {
     "data": {
      "application/vnd.jupyter.widget-view+json": {
       "model_id": "244bf3b324914afdbaeb47a27a60214c",
       "version_major": 2,
       "version_minor": 0
      },
      "text/plain": [
       "Train(epoch36):   0%|          | 0/2 [00:00<?, ?it/s]"
      ]
     },
     "metadata": {},
     "output_type": "display_data"
    },
    {
     "name": "stdout",
     "output_type": "stream",
     "text": [
      "epoch 36/40:(tr)loss=0.0060\n",
      "epoch 36/40:(tr)acc=100.0000%\n",
      "Learning rate is set to 0.006101228383359046\n"
     ]
    },
    {
     "data": {
      "application/vnd.jupyter.widget-view+json": {
       "model_id": "9b222257120c49afbef98bdda7ce6941",
       "version_major": 2,
       "version_minor": 0
      },
      "text/plain": [
       "Train(epoch37):   0%|          | 0/2 [00:00<?, ?it/s]"
      ]
     },
     "metadata": {},
     "output_type": "display_data"
    },
    {
     "name": "stdout",
     "output_type": "stream",
     "text": [
      "epoch 37/40:(tr)loss=0.0060\n",
      "epoch 37/40:(tr)acc=100.0000%\n",
      "Learning rate is set to 0.005491678983489372\n"
     ]
    },
    {
     "data": {
      "application/vnd.jupyter.widget-view+json": {
       "model_id": "3681ede2630c46d5a502a1b4a51140c6",
       "version_major": 2,
       "version_minor": 0
      },
      "text/plain": [
       "Train(epoch38):   0%|          | 0/2 [00:00<?, ?it/s]"
      ]
     },
     "metadata": {},
     "output_type": "display_data"
    },
    {
     "name": "stdout",
     "output_type": "stream",
     "text": [
      "epoch 38/40:(tr)loss=0.0060\n",
      "epoch 38/40:(tr)acc=100.0000%\n",
      "Learning rate is set to 0.005123257354213848\n"
     ]
    },
    {
     "data": {
      "application/vnd.jupyter.widget-view+json": {
       "model_id": "06bb293de10944d5a7b6fa204d42fff4",
       "version_major": 2,
       "version_minor": 0
      },
      "text/plain": [
       "Train(epoch39):   0%|          | 0/2 [00:00<?, ?it/s]"
      ]
     },
     "metadata": {},
     "output_type": "display_data"
    },
    {
     "name": "stdout",
     "output_type": "stream",
     "text": [
      "epoch 39/40:(tr)loss=0.0060\n",
      "epoch 39/40:(tr)acc=100.0000%\n"
     ]
    },
    {
     "data": {
      "application/vnd.jupyter.widget-view+json": {
       "model_id": "a86197f156d14fce8b5d6e8020ef766b",
       "version_major": 2,
       "version_minor": 0
      },
      "text/plain": [
       "test39:   0%|          | 0/13 [00:00<?, ?it/s]"
      ]
     },
     "metadata": {},
     "output_type": "display_data"
    },
    {
     "name": "stdout",
     "output_type": "stream",
     "text": [
      "epoch 39/40:(te)loss=6.1485\n",
      "epoch 39/40:(te)acc=89.0226%\n"
     ]
    }
   ],
   "source": [
    "results = []\n",
    "\n",
    "for epoch in range(warmup_epoch+num_epoch):\n",
    "    running_loss = 0\n",
    "    train_acc = 0\n",
    "    \n",
    "    adjust_learning_rate(optimizer=optimiser,\n",
    "                        current_epoch=epoch,\n",
    "                        max_epoch=warmup_epoch+num_epoch)\n",
    "    with tqdm(train_loader, desc='Train(epoch'+str(epoch)+')') as t:\n",
    "        total = 0\n",
    "        correct = 0\n",
    "        for data in t:\n",
    "            model.train()\n",
    "            inputs, labels = data\n",
    "            inputs, labels = inputs.to(device), labels.to(device)\n",
    "\n",
    "            optimiser.zero_grad()\n",
    "\n",
    "            outputs = model(inputs)\n",
    "            loss = loss_function(outputs, labels)\n",
    "            running_loss += loss.item()\n",
    "            loss.backward()\n",
    "            optimiser.step()\n",
    "            \n",
    "            pred = torch.argmax(F.softmax(outputs), dim=1)\n",
    "            total += len(labels)\n",
    "            correct += sum(pred == labels)\n",
    "            \n",
    "        train_acc = (100.0 * correct) / total\n",
    "\n",
    "        t.set_postfix(running_loss=running_loss,\n",
    "                      runing_acc=train_acc)\n",
    "            \n",
    "    print(\"epoch %d/%d:(tr)loss=%.4f\" % (epoch, warmup_epoch+num_epoch, running_loss))\n",
    "    print(\"epoch %d/%d:(tr)acc=%.4f%%\" % (epoch, warmup_epoch+num_epoch, train_acc))\n",
    "    \n",
    "    test_running_loss = 0\n",
    "    test_acc = 0\n",
    "    \n",
    "    if epoch%10==9:\n",
    "        \n",
    "        with tqdm(test_loader, desc='test'+str(epoch)) as t:\n",
    "            with torch.no_grad():\n",
    "                total = 0\n",
    "                correct = 0\n",
    "                for data in t:\n",
    "                    model.eval()\n",
    "                    inputs, labels = data\n",
    "                    inputs, labels = inputs.to(device), labels.to(device)\n",
    "\n",
    "                    outputs = model(inputs)\n",
    "\n",
    "                    loss = loss_function(outputs, labels)\n",
    "                    test_running_loss += loss.item()\n",
    "\n",
    "                    pred = torch.argmax(F.softmax(outputs), dim=1)\n",
    "                    total += len(labels)\n",
    "                    correct += sum(pred == labels)\n",
    "                test_acc = (100.0 * correct) / total\n",
    "\n",
    "                t.set_postfix(running_loss=test_running_loss,\n",
    "                              runing_acc=test_acc)\n",
    "\n",
    "        print(\"epoch %d/%d:(te)loss=%.4f\" % (epoch, warmup_epoch+num_epoch, test_running_loss))\n",
    "        print(\"epoch %d/%d:(te)acc=%.4f%%\" % (epoch, warmup_epoch+num_epoch, test_acc))\n",
    "          \n",
    "    results.append({'running_loss':running_loss,\n",
    "                   'train_acc':train_acc,\n",
    "                   'test_running_loss':test_running_loss,\n",
    "                   'test_acc':test_acc})\n"
   ]
  },
  {
   "cell_type": "code",
   "execution_count": 13,
   "id": "0e06d91c",
   "metadata": {
    "ExecuteTime": {
     "end_time": "2022-04-27T00:04:59.305948Z",
     "start_time": "2022-04-27T00:04:59.272277Z"
    }
   },
   "outputs": [
    {
     "data": {
      "text/plain": [
       "[{'running_loss': 9.36653470993042,\n",
       "  'train_acc': tensor(0.7843, device='cuda:3'),\n",
       "  'test_running_loss': 0,\n",
       "  'test_acc': 0},\n",
       " {'running_loss': 9.281102657318115,\n",
       "  'train_acc': tensor(1.4706, device='cuda:3'),\n",
       "  'test_running_loss': 0,\n",
       "  'test_acc': 0},\n",
       " {'running_loss': 9.02288007736206,\n",
       "  'train_acc': tensor(3.9216, device='cuda:3'),\n",
       "  'test_running_loss': 0,\n",
       "  'test_acc': 0},\n",
       " {'running_loss': 8.554941654205322,\n",
       "  'train_acc': tensor(22.6471, device='cuda:3'),\n",
       "  'test_running_loss': 0,\n",
       "  'test_acc': 0},\n",
       " {'running_loss': 7.862131357192993,\n",
       "  'train_acc': tensor(50.0000, device='cuda:3'),\n",
       "  'test_running_loss': 0,\n",
       "  'test_acc': 0},\n",
       " {'running_loss': 6.896833896636963,\n",
       "  'train_acc': tensor(70.1961, device='cuda:3'),\n",
       "  'test_running_loss': 0,\n",
       "  'test_acc': 0},\n",
       " {'running_loss': 5.618419647216797,\n",
       "  'train_acc': tensor(87.0588, device='cuda:3'),\n",
       "  'test_running_loss': 0,\n",
       "  'test_acc': 0},\n",
       " {'running_loss': 4.1769222021102905,\n",
       "  'train_acc': tensor(93.7255, device='cuda:3'),\n",
       "  'test_running_loss': 0,\n",
       "  'test_acc': 0},\n",
       " {'running_loss': 2.8439546823501587,\n",
       "  'train_acc': tensor(96.2745, device='cuda:3'),\n",
       "  'test_running_loss': 0,\n",
       "  'test_acc': 0},\n",
       " {'running_loss': 1.7427348494529724,\n",
       "  'train_acc': tensor(97.2549, device='cuda:3'),\n",
       "  'test_running_loss': 19.148266315460205,\n",
       "  'test_acc': tensor(75.6708, device='cuda:3')},\n",
       " {'running_loss': 0.9684003591537476,\n",
       "  'train_acc': tensor(98.0392, device='cuda:3'),\n",
       "  'test_running_loss': 0,\n",
       "  'test_acc': 0},\n",
       " {'running_loss': 0.5130043029785156,\n",
       "  'train_acc': tensor(99.2157, device='cuda:3'),\n",
       "  'test_running_loss': 0,\n",
       "  'test_acc': 0},\n",
       " {'running_loss': 0.284271702170372,\n",
       "  'train_acc': tensor(99.5098, device='cuda:3'),\n",
       "  'test_running_loss': 0,\n",
       "  'test_acc': 0},\n",
       " {'running_loss': 0.16621500253677368,\n",
       "  'train_acc': tensor(99.8039, device='cuda:3'),\n",
       "  'test_running_loss': 0,\n",
       "  'test_acc': 0},\n",
       " {'running_loss': 0.099189393222332,\n",
       "  'train_acc': tensor(100.0000, device='cuda:3'),\n",
       "  'test_running_loss': 0,\n",
       "  'test_acc': 0},\n",
       " {'running_loss': 0.06076985411345959,\n",
       "  'train_acc': tensor(100.0000, device='cuda:3'),\n",
       "  'test_running_loss': 0,\n",
       "  'test_acc': 0},\n",
       " {'running_loss': 0.039589546620845795,\n",
       "  'train_acc': tensor(100.0000, device='cuda:3'),\n",
       "  'test_running_loss': 0,\n",
       "  'test_acc': 0},\n",
       " {'running_loss': 0.027808690443634987,\n",
       "  'train_acc': tensor(100.0000, device='cuda:3'),\n",
       "  'test_running_loss': 0,\n",
       "  'test_acc': 0},\n",
       " {'running_loss': 0.02085216622799635,\n",
       "  'train_acc': tensor(100.0000, device='cuda:3'),\n",
       "  'test_running_loss': 0,\n",
       "  'test_acc': 0},\n",
       " {'running_loss': 0.01646642293781042,\n",
       "  'train_acc': tensor(100.0000, device='cuda:3'),\n",
       "  'test_running_loss': 6.838404327630997,\n",
       "  'test_acc': tensor(87.7541, device='cuda:3')},\n",
       " {'running_loss': 0.013557179365307093,\n",
       "  'train_acc': tensor(100.0000, device='cuda:3'),\n",
       "  'test_running_loss': 0,\n",
       "  'test_acc': 0},\n",
       " {'running_loss': 0.011559819336980581,\n",
       "  'train_acc': tensor(100.0000, device='cuda:3'),\n",
       "  'test_running_loss': 0,\n",
       "  'test_acc': 0},\n",
       " {'running_loss': 0.010152086615562439,\n",
       "  'train_acc': tensor(100.0000, device='cuda:3'),\n",
       "  'test_running_loss': 0,\n",
       "  'test_acc': 0},\n",
       " {'running_loss': 0.009136892389506102,\n",
       "  'train_acc': tensor(100.0000, device='cuda:3'),\n",
       "  'test_running_loss': 0,\n",
       "  'test_acc': 0},\n",
       " {'running_loss': 0.00839031208306551,\n",
       "  'train_acc': tensor(100.0000, device='cuda:3'),\n",
       "  'test_running_loss': 0,\n",
       "  'test_acc': 0},\n",
       " {'running_loss': 0.007831898052245378,\n",
       "  'train_acc': tensor(100.0000, device='cuda:3'),\n",
       "  'test_running_loss': 0,\n",
       "  'test_acc': 0},\n",
       " {'running_loss': 0.007408404955640435,\n",
       "  'train_acc': tensor(100.0000, device='cuda:3'),\n",
       "  'test_running_loss': 0,\n",
       "  'test_acc': 0},\n",
       " {'running_loss': 0.007083462551236153,\n",
       "  'train_acc': tensor(100.0000, device='cuda:3'),\n",
       "  'test_running_loss': 0,\n",
       "  'test_acc': 0},\n",
       " {'running_loss': 0.006831818725913763,\n",
       "  'train_acc': tensor(100.0000, device='cuda:3'),\n",
       "  'test_running_loss': 0,\n",
       "  'test_acc': 0},\n",
       " {'running_loss': 0.006635435624048114,\n",
       "  'train_acc': tensor(100.0000, device='cuda:3'),\n",
       "  'test_running_loss': 6.167382508516312,\n",
       "  'test_acc': tensor(88.9576, device='cuda:3')},\n",
       " {'running_loss': 0.0064812160562723875,\n",
       "  'train_acc': tensor(100.0000, device='cuda:3'),\n",
       "  'test_running_loss': 0,\n",
       "  'test_acc': 0},\n",
       " {'running_loss': 0.006359555525705218,\n",
       "  'train_acc': tensor(100.0000, device='cuda:3'),\n",
       "  'test_running_loss': 0,\n",
       "  'test_acc': 0},\n",
       " {'running_loss': 0.0062631305772811174,\n",
       "  'train_acc': tensor(100.0000, device='cuda:3'),\n",
       "  'test_running_loss': 0,\n",
       "  'test_acc': 0},\n",
       " {'running_loss': 0.006186427548527718,\n",
       "  'train_acc': tensor(100.0000, device='cuda:3'),\n",
       "  'test_running_loss': 0,\n",
       "  'test_acc': 0},\n",
       " {'running_loss': 0.006125141866505146,\n",
       "  'train_acc': tensor(100.0000, device='cuda:3'),\n",
       "  'test_running_loss': 0,\n",
       "  'test_acc': 0},\n",
       " {'running_loss': 0.006075847428292036,\n",
       "  'train_acc': tensor(100.0000, device='cuda:3'),\n",
       "  'test_running_loss': 0,\n",
       "  'test_acc': 0},\n",
       " {'running_loss': 0.00603585341013968,\n",
       "  'train_acc': tensor(100.0000, device='cuda:3'),\n",
       "  'test_running_loss': 0,\n",
       "  'test_acc': 0},\n",
       " {'running_loss': 0.006002894835546613,\n",
       "  'train_acc': tensor(100.0000, device='cuda:3'),\n",
       "  'test_running_loss': 0,\n",
       "  'test_acc': 0},\n",
       " {'running_loss': 0.005975102540105581,\n",
       "  'train_acc': tensor(100.0000, device='cuda:3'),\n",
       "  'test_running_loss': 0,\n",
       "  'test_acc': 0},\n",
       " {'running_loss': 0.0059508876875042915,\n",
       "  'train_acc': tensor(100.0000, device='cuda:3'),\n",
       "  'test_running_loss': 6.148506432771683,\n",
       "  'test_acc': tensor(89.0226, device='cuda:3')}]"
      ]
     },
     "execution_count": 13,
     "metadata": {},
     "output_type": "execute_result"
    }
   ],
   "source": [
    "results"
   ]
  },
  {
   "cell_type": "code",
   "execution_count": null,
   "id": "11e64d09",
   "metadata": {
    "ExecuteTime": {
     "end_time": "2022-04-26T13:19:16.193265Z",
     "start_time": "2022-04-26T13:18:39.506967Z"
    }
   },
   "outputs": [],
   "source": []
  },
  {
   "cell_type": "code",
   "execution_count": 14,
   "id": "858a1dba",
   "metadata": {
    "ExecuteTime": {
     "end_time": "2022-04-27T00:05:02.372642Z",
     "start_time": "2022-04-27T00:04:59.307475Z"
    }
   },
   "outputs": [],
   "source": [
    "torch.save(model.state_dict(), \"model/\" + model_filename)"
   ]
  },
  {
   "cell_type": "code",
   "execution_count": 15,
   "id": "1ce3380a",
   "metadata": {
    "ExecuteTime": {
     "end_time": "2022-04-27T00:05:02.385725Z",
     "start_time": "2022-04-27T00:05:02.378804Z"
    }
   },
   "outputs": [],
   "source": [
    "train_loss_list = []\n",
    "train_acc_list = []\n",
    "for result in results:\n",
    "    train_loss_list.append(result[\"running_loss\"])\n",
    "    train_acc_list.append(torch.Tensor.cpu(result[\"train_acc\"]))"
   ]
  },
  {
   "cell_type": "code",
   "execution_count": null,
   "id": "c5aa0f84",
   "metadata": {
    "ExecuteTime": {
     "end_time": "2022-04-27T00:05:04.983136Z",
     "start_time": "2022-04-27T00:05:02.388938Z"
    }
   },
   "outputs": [],
   "source": [
    "test_loss_list = []\n",
    "test_acc_list = []\n",
    "for result in results:\n",
    "    test_loss_list.append(result[\"test_running_loss\"])\n",
    "    test_acc_list.append(torch.Tensor.cpu(result[\"test_acc\"]))"
   ]
  },
  {
   "cell_type": "code",
   "execution_count": null,
   "id": "07b20dd8",
   "metadata": {
    "ExecuteTime": {
     "end_time": "2022-04-27T00:05:04.985625Z",
     "start_time": "2022-04-27T00:05:04.985600Z"
    }
   },
   "outputs": [],
   "source": [
    "val_loss_list = []\n",
    "val_acc_list = []\n",
    "for result in results:\n",
    "    val_loss_list.append(result[\"val_loss\"])\n",
    "    val_acc_list.append(result[\"val_acc\"])"
   ]
  },
  {
   "cell_type": "code",
   "execution_count": null,
   "id": "33eecb7d",
   "metadata": {
    "ExecuteTime": {
     "end_time": "2022-04-26T02:04:13.240546Z",
     "start_time": "2022-04-26T02:04:13.240502Z"
    }
   },
   "outputs": [],
   "source": []
  },
  {
   "cell_type": "code",
   "execution_count": null,
   "id": "812f96fa",
   "metadata": {
    "ExecuteTime": {
     "end_time": "2022-04-27T00:05:04.987585Z",
     "start_time": "2022-04-27T00:05:04.987560Z"
    }
   },
   "outputs": [],
   "source": [
    "fig, ax = plt.subplots(1, 2, figsize=(10,4))\n",
    "\n",
    "ax[0].plot(train_loss_list)\n",
    "ax[0].plot(test_loss_list)\n",
    "ax[0].legend(['train','test'])\n",
    "ax[0].grid()\n",
    "ax[0].set_title(\"Loss\")\n",
    "\n",
    "ax[1].plot(train_acc_list)\n",
    "ax[1].plot(test_acc_list)\n",
    "ax[1].legend(['train','test'])\n",
    "ax[1].grid()\n",
    "ax[1].set_title(\"Accuracy\")\n",
    "plt.show()"
   ]
  },
  {
   "cell_type": "code",
   "execution_count": null,
   "id": "f8602f15",
   "metadata": {},
   "outputs": [],
   "source": []
  },
  {
   "cell_type": "code",
   "execution_count": null,
   "id": "97e68f76",
   "metadata": {},
   "outputs": [],
   "source": []
  },
  {
   "cell_type": "code",
   "execution_count": null,
   "id": "78385b7d",
   "metadata": {},
   "outputs": [],
   "source": []
  },
  {
   "cell_type": "code",
   "execution_count": null,
   "id": "787ccfde",
   "metadata": {},
   "outputs": [],
   "source": []
  }
 ],
 "metadata": {
  "kernelspec": {
   "display_name": "Python 3 (ipykernel)",
   "language": "python",
   "name": "python3"
  },
  "language_info": {
   "codemirror_mode": {
    "name": "ipython",
    "version": 3
   },
   "file_extension": ".py",
   "mimetype": "text/x-python",
   "name": "python",
   "nbconvert_exporter": "python",
   "pygments_lexer": "ipython3",
   "version": "3.7.2"
  }
 },
 "nbformat": 4,
 "nbformat_minor": 5
}
